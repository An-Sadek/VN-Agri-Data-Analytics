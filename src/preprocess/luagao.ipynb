{
 "cells": [
  {
   "cell_type": "code",
   "execution_count": null,
   "id": "9145d211",
   "metadata": {},
   "outputs": [],
   "source": [
    "from dataset import RawDataset"
   ]
  },
  {
   "cell_type": "code",
   "execution_count": 2,
   "id": "2050417e",
   "metadata": {},
   "outputs": [],
   "source": [
    "import numpy as np\n",
    "import pandas as pd"
   ]
  },
  {
   "cell_type": "code",
   "execution_count": 3,
   "id": "35f22180",
   "metadata": {},
   "outputs": [
    {
     "name": "stderr",
     "output_type": "stream",
     "text": [
      "d:\\University\\Nam 3\\HK3\\Project 3\\Code\\src\\preprocess\\dataset.py:33: FutureWarning: Passing literal html to 'read_html' is deprecated and will be removed in a future version. To read from a literal string, wrap it in a 'StringIO' object.\n",
      "  self.data = pd.read_html(html)[0]\n"
     ]
    }
   ],
   "source": [
    "luagao = VNAgriDataset(\"../../data/Lua, gao\")"
   ]
  },
  {
   "cell_type": "code",
   "execution_count": 4,
   "id": "726ca0c3",
   "metadata": {},
   "outputs": [
    {
     "data": {
      "text/html": [
       "<div>\n",
       "<style scoped>\n",
       "    .dataframe tbody tr th:only-of-type {\n",
       "        vertical-align: middle;\n",
       "    }\n",
       "\n",
       "    .dataframe tbody tr th {\n",
       "        vertical-align: top;\n",
       "    }\n",
       "\n",
       "    .dataframe thead th {\n",
       "        text-align: right;\n",
       "    }\n",
       "</style>\n",
       "<table border=\"1\" class=\"dataframe\">\n",
       "  <thead>\n",
       "    <tr style=\"text-align: right;\">\n",
       "      <th></th>\n",
       "      <th>Tên_mặt_hàng</th>\n",
       "      <th>Thị_trường</th>\n",
       "      <th>Loại_giá</th>\n",
       "      <th>Đơn_vị_tính</th>\n",
       "      <th>Loại_tiền</th>\n",
       "      <th>Nguồn</th>\n",
       "      <th>Ngày</th>\n",
       "      <th>Giá</th>\n",
       "    </tr>\n",
       "  </thead>\n",
       "  <tbody>\n",
       "    <tr>\n",
       "      <th>0</th>\n",
       "      <td>CLC 4900</td>\n",
       "      <td>Cần Thơ</td>\n",
       "      <td>Thương lái thu mua</td>\n",
       "      <td>VNĐ/Kg</td>\n",
       "      <td>VNĐ</td>\n",
       "      <td>CTV địa phương</td>\n",
       "      <td>2025-05-19</td>\n",
       "      <td>16000.00</td>\n",
       "    </tr>\n",
       "    <tr>\n",
       "      <th>1</th>\n",
       "      <td>IR 5451</td>\n",
       "      <td>Cần Thơ</td>\n",
       "      <td>Thương lái thu mua</td>\n",
       "      <td>VNĐ/Kg</td>\n",
       "      <td>VNĐ</td>\n",
       "      <td>CTV địa phương</td>\n",
       "      <td>2025-05-19</td>\n",
       "      <td>7000.00</td>\n",
       "    </tr>\n",
       "    <tr>\n",
       "      <th>2</th>\n",
       "      <td>Jasmine</td>\n",
       "      <td>Cần Thơ</td>\n",
       "      <td>Thương lái thu mua</td>\n",
       "      <td>VNĐ/Kg</td>\n",
       "      <td>VNĐ</td>\n",
       "      <td>CTV địa phương</td>\n",
       "      <td>2025-05-19</td>\n",
       "      <td>11266.67</td>\n",
       "    </tr>\n",
       "    <tr>\n",
       "      <th>3</th>\n",
       "      <td>OM 18</td>\n",
       "      <td>Cần Thơ</td>\n",
       "      <td>Thương lái thu mua</td>\n",
       "      <td>VNĐ/Kg</td>\n",
       "      <td>VNĐ</td>\n",
       "      <td>CTV địa phương</td>\n",
       "      <td>2025-05-19</td>\n",
       "      <td>7000.00</td>\n",
       "    </tr>\n",
       "    <tr>\n",
       "      <th>4</th>\n",
       "      <td>OM 5451</td>\n",
       "      <td>Cần Thơ</td>\n",
       "      <td>Thương lái thu mua</td>\n",
       "      <td>VNĐ/Kg</td>\n",
       "      <td>VNĐ</td>\n",
       "      <td>CTV địa phương</td>\n",
       "      <td>2025-05-19</td>\n",
       "      <td>6000.00</td>\n",
       "    </tr>\n",
       "  </tbody>\n",
       "</table>\n",
       "</div>"
      ],
      "text/plain": [
       "  Tên_mặt_hàng Thị_trường            Loại_giá Đơn_vị_tính Loại_tiền  \\\n",
       "0     CLC 4900    Cần Thơ  Thương lái thu mua      VNĐ/Kg       VNĐ   \n",
       "1      IR 5451    Cần Thơ  Thương lái thu mua      VNĐ/Kg       VNĐ   \n",
       "2      Jasmine    Cần Thơ  Thương lái thu mua      VNĐ/Kg       VNĐ   \n",
       "3        OM 18    Cần Thơ  Thương lái thu mua      VNĐ/Kg       VNĐ   \n",
       "4      OM 5451    Cần Thơ  Thương lái thu mua      VNĐ/Kg       VNĐ   \n",
       "\n",
       "            Nguồn       Ngày       Giá  \n",
       "0  CTV địa phương 2025-05-19  16000.00  \n",
       "1  CTV địa phương 2025-05-19   7000.00  \n",
       "2  CTV địa phương 2025-05-19  11266.67  \n",
       "3  CTV địa phương 2025-05-19   7000.00  \n",
       "4  CTV địa phương 2025-05-19   6000.00  "
      ]
     },
     "execution_count": 4,
     "metadata": {},
     "output_type": "execute_result"
    }
   ],
   "source": [
    "luagao.data.head()"
   ]
  },
  {
   "cell_type": "markdown",
   "id": "a29f78aa",
   "metadata": {},
   "source": [
    "# Kiểm tra dữ liệu thiếu"
   ]
  },
  {
   "cell_type": "code",
   "execution_count": 5,
   "id": "addb8b6f",
   "metadata": {},
   "outputs": [
    {
     "data": {
      "text/plain": [
       "Tên_mặt_hàng    0\n",
       "Thị_trường      0\n",
       "Loại_giá        0\n",
       "Đơn_vị_tính     0\n",
       "Loại_tiền       0\n",
       "Nguồn           0\n",
       "Ngày            0\n",
       "Giá             0\n",
       "dtype: int64"
      ]
     },
     "execution_count": 5,
     "metadata": {},
     "output_type": "execute_result"
    }
   ],
   "source": [
    "luagao.data.isnull().sum()"
   ]
  },
  {
   "cell_type": "markdown",
   "id": "b9ce1f78",
   "metadata": {},
   "source": [
    "# Kiểm tra dữ liệu thừa"
   ]
  },
  {
   "cell_type": "code",
   "execution_count": 6,
   "id": "e7fc1428",
   "metadata": {},
   "outputs": [
    {
     "data": {
      "text/plain": [
       "np.int64(3)"
      ]
     },
     "execution_count": 6,
     "metadata": {},
     "output_type": "execute_result"
    }
   ],
   "source": [
    "luagao.data.duplicated().sum()"
   ]
  },
  {
   "cell_type": "code",
   "execution_count": 7,
   "id": "6fb71e62",
   "metadata": {},
   "outputs": [],
   "source": [
    "luagao.data = luagao.data.drop_duplicates()"
   ]
  },
  {
   "cell_type": "markdown",
   "id": "73173ec2",
   "metadata": {},
   "source": [
    "# Kiểm tra ngoại lai"
   ]
  },
  {
   "cell_type": "code",
   "execution_count": 8,
   "id": "1e306290",
   "metadata": {},
   "outputs": [],
   "source": [
    "n_outlier, perc_outlier = luagao.get_outlier_n_perc()\n",
    "n = len(luagao)"
   ]
  },
  {
   "cell_type": "code",
   "execution_count": 9,
   "id": "77957145",
   "metadata": {},
   "outputs": [
    {
     "name": "stdout",
     "output_type": "stream",
     "text": [
      "Số lượng sản dữ liệu bị ngoại lai 1172/17047\n",
      "Phần trăm dữ liệu bị ngoại lai 6.88%\n"
     ]
    }
   ],
   "source": [
    "print(f\"Số lượng sản dữ liệu bị ngoại lai {n_outlier}/{n}\")\n",
    "print(f\"Phần trăm dữ liệu bị ngoại lai {perc_outlier*100:.2f}%\")"
   ]
  },
  {
   "cell_type": "code",
   "execution_count": 10,
   "id": "38306947",
   "metadata": {},
   "outputs": [],
   "source": [
    "outlier_infos, outlier_df = luagao.get_outlier_infos()"
   ]
  },
  {
   "cell_type": "code",
   "execution_count": 11,
   "id": "cddcd684",
   "metadata": {},
   "outputs": [
    {
     "data": {
      "text/plain": [
       "(1172, 8)"
      ]
     },
     "execution_count": 11,
     "metadata": {},
     "output_type": "execute_result"
    }
   ],
   "source": [
    "outlier_df.shape"
   ]
  },
  {
   "cell_type": "code",
   "execution_count": 12,
   "id": "3827ca32",
   "metadata": {},
   "outputs": [],
   "source": [
    "luagao.remove_outlier()"
   ]
  },
  {
   "cell_type": "code",
   "execution_count": 13,
   "id": "9abe1644",
   "metadata": {},
   "outputs": [],
   "source": [
    "new_outlier_infos, new_outlier_df = luagao.get_outlier_infos()"
   ]
  },
  {
   "cell_type": "code",
   "execution_count": 14,
   "id": "08558d42",
   "metadata": {},
   "outputs": [
    {
     "data": {
      "text/plain": [
       "(206, 8)"
      ]
     },
     "execution_count": 14,
     "metadata": {},
     "output_type": "execute_result"
    }
   ],
   "source": [
    "new_outlier_df.shape"
   ]
  },
  {
   "cell_type": "code",
   "execution_count": 15,
   "id": "24b17302",
   "metadata": {},
   "outputs": [],
   "source": [
    "luagao.data.to_csv(\"../../data/pre_luagao.csv\", index=False)"
   ]
  }
 ],
 "metadata": {
  "kernelspec": {
   "display_name": "project3",
   "language": "python",
   "name": "python3"
  },
  "language_info": {
   "codemirror_mode": {
    "name": "ipython",
    "version": 3
   },
   "file_extension": ".py",
   "mimetype": "text/x-python",
   "name": "python",
   "nbconvert_exporter": "python",
   "pygments_lexer": "ipython3",
   "version": "3.11.11"
  }
 },
 "nbformat": 4,
 "nbformat_minor": 5
}
