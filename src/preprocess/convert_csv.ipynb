{
 "cells": [
  {
   "cell_type": "code",
   "execution_count": 1,
   "id": "aa67047b",
   "metadata": {},
   "outputs": [],
   "source": [
    "# TODO: Sau khi tổng hợp các giá trị bị NULL"
   ]
  },
  {
   "cell_type": "markdown",
   "id": "6123d946",
   "metadata": {},
   "source": [
    "# Thư viện"
   ]
  },
  {
   "cell_type": "code",
   "execution_count": 2,
   "id": "073c273e",
   "metadata": {},
   "outputs": [],
   "source": [
    "import numpy as np\n",
    "import pandas as pd"
   ]
  },
  {
   "cell_type": "markdown",
   "id": "e4dc443b",
   "metadata": {},
   "source": [
    "# Cà phê"
   ]
  },
  {
   "cell_type": "code",
   "execution_count": 3,
   "id": "087cdc5a",
   "metadata": {},
   "outputs": [],
   "source": [
    "with open(\"../../data/Ca phe\", \"r\", encoding=\"utf-16\") as file:\n",
    "    caphe = file.read()"
   ]
  },
  {
   "cell_type": "code",
   "execution_count": 4,
   "id": "c91d275c",
   "metadata": {},
   "outputs": [
    {
     "name": "stderr",
     "output_type": "stream",
     "text": [
      "C:\\Users\\DELL\\AppData\\Local\\Temp\\ipykernel_4928\\3960325749.py:1: FutureWarning: Passing literal html to 'read_html' is deprecated and will be removed in a future version. To read from a literal string, wrap it in a 'StringIO' object.\n",
      "  caphe_df = pd.read_html(caphe)[0]\n"
     ]
    },
    {
     "data": {
      "text/plain": [
       "(4845, 8)"
      ]
     },
     "execution_count": 4,
     "metadata": {},
     "output_type": "execute_result"
    }
   ],
   "source": [
    "caphe_df = pd.read_html(caphe)[0]\n",
    "caphe_df.shape"
   ]
  },
  {
   "cell_type": "code",
   "execution_count": 5,
   "id": "e064ce57",
   "metadata": {},
   "outputs": [
    {
     "data": {
      "text/plain": [
       "Tên_mặt_hàng    0\n",
       "Thị_trường      0\n",
       "Loại_giá        0\n",
       "Đơn_vị_tính     0\n",
       "Loại_tiền       0\n",
       "Nguồn           0\n",
       "Ngày            0\n",
       "Giá             0\n",
       "dtype: int64"
      ]
     },
     "execution_count": 5,
     "metadata": {},
     "output_type": "execute_result"
    }
   ],
   "source": [
    "caphe_df.isnull().sum()"
   ]
  },
  {
   "cell_type": "markdown",
   "id": "53444cbf",
   "metadata": {},
   "source": [
    "# Lúa gạo"
   ]
  },
  {
   "cell_type": "code",
   "execution_count": 6,
   "id": "1e54de24",
   "metadata": {},
   "outputs": [],
   "source": [
    "with open(\"../../data/Lua, gao\", \"r\", encoding=\"utf-16\") as file:\n",
    "    luagao = file.read()"
   ]
  },
  {
   "cell_type": "code",
   "execution_count": 7,
   "id": "fbdb7e13",
   "metadata": {},
   "outputs": [
    {
     "name": "stderr",
     "output_type": "stream",
     "text": [
      "C:\\Users\\DELL\\AppData\\Local\\Temp\\ipykernel_4928\\3559794058.py:1: FutureWarning: Passing literal html to 'read_html' is deprecated and will be removed in a future version. To read from a literal string, wrap it in a 'StringIO' object.\n",
      "  luagao_df = pd.read_html(luagao)[0]\n"
     ]
    },
    {
     "data": {
      "text/plain": [
       "(17050, 8)"
      ]
     },
     "execution_count": 7,
     "metadata": {},
     "output_type": "execute_result"
    }
   ],
   "source": [
    "luagao_df = pd.read_html(luagao)[0]\n",
    "luagao_df.shape"
   ]
  },
  {
   "cell_type": "code",
   "execution_count": 8,
   "id": "681c3eda",
   "metadata": {},
   "outputs": [
    {
     "data": {
      "text/plain": [
       "Tên_mặt_hàng    0\n",
       "Thị_trường      0\n",
       "Loại_giá        0\n",
       "Đơn_vị_tính     0\n",
       "Loại_tiền       0\n",
       "Nguồn           0\n",
       "Ngày            0\n",
       "Giá             0\n",
       "dtype: int64"
      ]
     },
     "execution_count": 8,
     "metadata": {},
     "output_type": "execute_result"
    }
   ],
   "source": [
    "luagao_df.isnull().sum()"
   ]
  },
  {
   "cell_type": "markdown",
   "id": "6a74dbeb",
   "metadata": {},
   "source": [
    "# Rau, quả"
   ]
  },
  {
   "cell_type": "code",
   "execution_count": 9,
   "id": "e3b3e36f",
   "metadata": {},
   "outputs": [],
   "source": [
    "with open(\"../../data/Rau, qua\", \"r\", encoding=\"utf-16\") as file:\n",
    "    rauqua = file.read()"
   ]
  },
  {
   "cell_type": "code",
   "execution_count": 10,
   "id": "35656ccd",
   "metadata": {},
   "outputs": [
    {
     "name": "stderr",
     "output_type": "stream",
     "text": [
      "C:\\Users\\DELL\\AppData\\Local\\Temp\\ipykernel_4928\\1453333364.py:1: FutureWarning: Passing literal html to 'read_html' is deprecated and will be removed in a future version. To read from a literal string, wrap it in a 'StringIO' object.\n",
      "  rauqua_df = pd.read_html(rauqua)[0]\n"
     ]
    },
    {
     "data": {
      "text/plain": [
       "(29593, 8)"
      ]
     },
     "execution_count": 10,
     "metadata": {},
     "output_type": "execute_result"
    }
   ],
   "source": [
    "rauqua_df = pd.read_html(rauqua)[0]\n",
    "rauqua_df.shape"
   ]
  },
  {
   "cell_type": "code",
   "execution_count": 11,
   "id": "9e3fa222",
   "metadata": {},
   "outputs": [
    {
     "data": {
      "text/plain": [
       "Tên_mặt_hàng    0\n",
       "Thị_trường      0\n",
       "Loại_giá        0\n",
       "Đơn_vị_tính     0\n",
       "Loại_tiền       0\n",
       "Nguồn           0\n",
       "Ngày            0\n",
       "Giá             0\n",
       "dtype: int64"
      ]
     },
     "execution_count": 11,
     "metadata": {},
     "output_type": "execute_result"
    }
   ],
   "source": [
    "rauqua_df.isnull().sum()"
   ]
  },
  {
   "cell_type": "markdown",
   "id": "68d86957",
   "metadata": {},
   "source": [
    "# Tổng hợp và xuất file csv"
   ]
  },
  {
   "cell_type": "code",
   "execution_count": 12,
   "id": "7bc574d0",
   "metadata": {},
   "outputs": [],
   "source": [
    "data = pd.concat([caphe_df, luagao_df, rauqua_df], axis=0)"
   ]
  },
  {
   "cell_type": "code",
   "execution_count": 13,
   "id": "c1ac3b7f",
   "metadata": {},
   "outputs": [],
   "source": [
    "data.reset_index()\n",
    "data.to_csv(\"../../data/data.csv\", index=False)"
   ]
  },
  {
   "cell_type": "code",
   "execution_count": 14,
   "id": "343526ad",
   "metadata": {},
   "outputs": [
    {
     "data": {
      "text/plain": [
       "Index(['Tên_mặt_hàng', 'Thị_trường', 'Loại_giá', 'Đơn_vị_tính', 'Loại_tiền',\n",
       "       'Nguồn', 'Ngày', 'Giá'],\n",
       "      dtype='object')"
      ]
     },
     "execution_count": 14,
     "metadata": {},
     "output_type": "execute_result"
    }
   ],
   "source": [
    "data.columns"
   ]
  },
  {
   "cell_type": "markdown",
   "id": "c1c0863b",
   "metadata": {},
   "source": [
    "# Thống kê"
   ]
  },
  {
   "cell_type": "markdown",
   "id": "c4578d08",
   "metadata": {},
   "source": [
    "# Kích thước dữ liệu"
   ]
  },
  {
   "cell_type": "code",
   "execution_count": 15,
   "id": "03574cf8",
   "metadata": {},
   "outputs": [
    {
     "data": {
      "text/plain": [
       "(51488, 8)"
      ]
     },
     "execution_count": 15,
     "metadata": {},
     "output_type": "execute_result"
    }
   ],
   "source": [
    "data.shape"
   ]
  },
  {
   "cell_type": "markdown",
   "id": "c76cddef",
   "metadata": {},
   "source": [
    "# Các giá trị"
   ]
  },
  {
   "cell_type": "code",
   "execution_count": 16,
   "id": "7baf997a",
   "metadata": {},
   "outputs": [
    {
     "name": "stdout",
     "output_type": "stream",
     "text": [
      "394\n"
     ]
    }
   ],
   "source": [
    "print(len(data[\"Tên_mặt_hàng\"].unique()))"
   ]
  },
  {
   "cell_type": "code",
   "execution_count": 17,
   "id": "5e505ba1",
   "metadata": {},
   "outputs": [
    {
     "name": "stdout",
     "output_type": "stream",
     "text": [
      "22\n",
      "['Đắk Lắk' 'Đắk Nông' 'Gia Lai' 'Kon Tum' 'Lâm Đồng' 'Hồ Chí Minh'\n",
      " 'Cần Thơ' 'Sóc Trăng' 'Đồng Tháp' 'Kiên Giang' 'An Giang' 'Tiền Giang'\n",
      " 'Trà Vinh' 'Hậu Giang' 'Cà Mau' 'Bạc Liêu' 'Thái Bình' 'Hà Nội' 'Bến Tre'\n",
      " 'Long An' 'Vĩnh Long' 'Sơn La']\n"
     ]
    }
   ],
   "source": [
    "print(len(data[\"Thị_trường\"].unique()))\n",
    "print(data[\"Thị_trường\"].unique())"
   ]
  },
  {
   "cell_type": "code",
   "execution_count": 18,
   "id": "e70f6f21",
   "metadata": {},
   "outputs": [
    {
     "name": "stdout",
     "output_type": "stream",
     "text": [
      "12\n",
      "['Thương lái thu mua' 'Công ty thu mua' 'Đại lý thu mua' 'Thu mua'\n",
      " 'Bán ra' 'Xuất khẩu' 'Tại chợ' 'Bán lẻ' 'Khác' 'Thu mua tại vườn'\n",
      " 'Bán buôn' 'Vựa thu mua']\n"
     ]
    }
   ],
   "source": [
    "print(len(data[\"Loại_giá\"].unique()))\n",
    "print(data[\"Loại_giá\"].unique())"
   ]
  },
  {
   "cell_type": "code",
   "execution_count": 19,
   "id": "2c494e4a",
   "metadata": {},
   "outputs": [
    {
     "name": "stdout",
     "output_type": "stream",
     "text": [
      "10\n",
      "['Vnđ/Kg' 'VNĐ/kg' 'VNĐ/Kg' 'Đồng/kg' 'VNĐ/quả' 'VNĐ/mớ' 'VNĐ/Chục quả'\n",
      " 'VNĐ/củ' 'VNĐ/Quả' 'VNĐ/cây']\n"
     ]
    }
   ],
   "source": [
    "print(len(data[\"Đơn_vị_tính\"].unique()))\n",
    "print(data[\"Đơn_vị_tính\"].unique())"
   ]
  },
  {
   "cell_type": "code",
   "execution_count": 20,
   "id": "01fdf100",
   "metadata": {},
   "outputs": [
    {
     "name": "stdout",
     "output_type": "stream",
     "text": [
      "1\n",
      "['VNĐ']\n"
     ]
    }
   ],
   "source": [
    "print(len(data[\"Loại_tiền\"].unique()))\n",
    "print(data[\"Loại_tiền\"].unique())"
   ]
  },
  {
   "cell_type": "code",
   "execution_count": 21,
   "id": "d0c05943",
   "metadata": {},
   "outputs": [
    {
     "name": "stdout",
     "output_type": "stream",
     "text": [
      "14\n",
      "['CTV địa phương' 'CTV Agroinfo/ Tintaynguyen' 'Giồng Riềng' 'Bán lẻ'\n",
      " 'Long Xuyên' 'Tỉnh An Giang' 'Tri Tôn' 'Cờ Đỏ' 'Cao Lãnh'\n",
      " 'Thành phố Thái Bình' 'huyện Quỳnh Phụ' 'huyện Thái Thụy'\n",
      " 'huyện Kiến Xương' 'huyện Đông Hưng']\n"
     ]
    }
   ],
   "source": [
    "print(len(data[\"Nguồn\"].unique()))\n",
    "print(data[\"Nguồn\"].unique())"
   ]
  },
  {
   "cell_type": "code",
   "execution_count": 22,
   "id": "c485e546",
   "metadata": {},
   "outputs": [],
   "source": [
    "date = pd.to_datetime(data[\"Ngày\"], format=\"%m/%d/%Y %I:%M:%S %p\")"
   ]
  },
  {
   "cell_type": "code",
   "execution_count": 23,
   "id": "4aa1d21a",
   "metadata": {},
   "outputs": [
    {
     "name": "stdout",
     "output_type": "stream",
     "text": [
      "2020-01-01 00:00:00\n",
      "2025-05-19 00:00:00\n"
     ]
    }
   ],
   "source": [
    "print(np.min(date))\n",
    "print(np.max(date))"
   ]
  },
  {
   "cell_type": "code",
   "execution_count": 24,
   "id": "da11c0c7",
   "metadata": {},
   "outputs": [
    {
     "name": "stdout",
     "output_type": "stream",
     "text": [
      "0.0\n",
      "1335333333.0\n"
     ]
    }
   ],
   "source": [
    "print(np.min(data[\"Giá\"]))\n",
    "print(np.max(data[\"Giá\"]))"
   ]
  },
  {
   "cell_type": "code",
   "execution_count": 25,
   "id": "796214ec",
   "metadata": {},
   "outputs": [
    {
     "name": "stdout",
     "output_type": "stream",
     "text": [
      "29\n",
      "2\n"
     ]
    }
   ],
   "source": [
    "print(len(data[data[\"Giá\"] == np.min(data[\"Giá\"])]))\n",
    "print(len(data[data[\"Giá\"] == np.max(data[\"Giá\"])]))"
   ]
  },
  {
   "cell_type": "code",
   "execution_count": 32,
   "id": "abd96f8f",
   "metadata": {},
   "outputs": [
    {
     "data": {
      "text/html": [
       "<div>\n",
       "<style scoped>\n",
       "    .dataframe tbody tr th:only-of-type {\n",
       "        vertical-align: middle;\n",
       "    }\n",
       "\n",
       "    .dataframe tbody tr th {\n",
       "        vertical-align: top;\n",
       "    }\n",
       "\n",
       "    .dataframe thead th {\n",
       "        text-align: right;\n",
       "    }\n",
       "</style>\n",
       "<table border=\"1\" class=\"dataframe\">\n",
       "  <thead>\n",
       "    <tr style=\"text-align: right;\">\n",
       "      <th></th>\n",
       "      <th>Tên_mặt_hàng</th>\n",
       "      <th>Thị_trường</th>\n",
       "      <th>Loại_giá</th>\n",
       "      <th>Đơn_vị_tính</th>\n",
       "      <th>Loại_tiền</th>\n",
       "      <th>Nguồn</th>\n",
       "      <th>Ngày</th>\n",
       "      <th>Giá</th>\n",
       "    </tr>\n",
       "  </thead>\n",
       "  <tbody>\n",
       "    <tr>\n",
       "      <th>546</th>\n",
       "      <td>Lúa IR 50404 (lúa tươi)</td>\n",
       "      <td>An Giang</td>\n",
       "      <td>Thương lái thu mua</td>\n",
       "      <td>VNĐ/Kg</td>\n",
       "      <td>VNĐ</td>\n",
       "      <td>CTV địa phương</td>\n",
       "      <td>3/12/2025 12:00:00 AM</td>\n",
       "      <td>5600.0</td>\n",
       "    </tr>\n",
       "    <tr>\n",
       "      <th>547</th>\n",
       "      <td>Lúa IR 50404 (lúa tươi)</td>\n",
       "      <td>An Giang</td>\n",
       "      <td>Thương lái thu mua</td>\n",
       "      <td>VNĐ/Kg</td>\n",
       "      <td>VNĐ</td>\n",
       "      <td>CTV địa phương</td>\n",
       "      <td>3/12/2025 12:00:00 AM</td>\n",
       "      <td>5600.0</td>\n",
       "    </tr>\n",
       "    <tr>\n",
       "      <th>561</th>\n",
       "      <td>Lúa IR 50404 (lúa tươi)</td>\n",
       "      <td>An Giang</td>\n",
       "      <td>Thương lái thu mua</td>\n",
       "      <td>VNĐ/Kg</td>\n",
       "      <td>VNĐ</td>\n",
       "      <td>CTV địa phương</td>\n",
       "      <td>3/5/2025 12:00:00 AM</td>\n",
       "      <td>5600.0</td>\n",
       "    </tr>\n",
       "    <tr>\n",
       "      <th>562</th>\n",
       "      <td>Lúa IR 50404 (lúa tươi)</td>\n",
       "      <td>An Giang</td>\n",
       "      <td>Thương lái thu mua</td>\n",
       "      <td>VNĐ/Kg</td>\n",
       "      <td>VNĐ</td>\n",
       "      <td>CTV địa phương</td>\n",
       "      <td>3/5/2025 12:00:00 AM</td>\n",
       "      <td>5600.0</td>\n",
       "    </tr>\n",
       "    <tr>\n",
       "      <th>14711</th>\n",
       "      <td>Lúa RVT (lúa tươi)</td>\n",
       "      <td>Sóc Trăng</td>\n",
       "      <td>Thương lái thu mua</td>\n",
       "      <td>VNĐ/Kg</td>\n",
       "      <td>VNĐ</td>\n",
       "      <td>CTV địa phương</td>\n",
       "      <td>9/20/2021 12:00:00 AM</td>\n",
       "      <td>6300.0</td>\n",
       "    </tr>\n",
       "    <tr>\n",
       "      <th>14718</th>\n",
       "      <td>Lúa RVT (lúa tươi)</td>\n",
       "      <td>Sóc Trăng</td>\n",
       "      <td>Thương lái thu mua</td>\n",
       "      <td>VNĐ/Kg</td>\n",
       "      <td>VNĐ</td>\n",
       "      <td>CTV địa phương</td>\n",
       "      <td>9/20/2021 12:00:00 AM</td>\n",
       "      <td>6300.0</td>\n",
       "    </tr>\n",
       "  </tbody>\n",
       "</table>\n",
       "</div>"
      ],
      "text/plain": [
       "                  Tên_mặt_hàng Thị_trường            Loại_giá Đơn_vị_tính  \\\n",
       "546    Lúa IR 50404 (lúa tươi)   An Giang  Thương lái thu mua      VNĐ/Kg   \n",
       "547    Lúa IR 50404 (lúa tươi)   An Giang  Thương lái thu mua      VNĐ/Kg   \n",
       "561    Lúa IR 50404 (lúa tươi)   An Giang  Thương lái thu mua      VNĐ/Kg   \n",
       "562    Lúa IR 50404 (lúa tươi)   An Giang  Thương lái thu mua      VNĐ/Kg   \n",
       "14711       Lúa RVT (lúa tươi)  Sóc Trăng  Thương lái thu mua      VNĐ/Kg   \n",
       "14718       Lúa RVT (lúa tươi)  Sóc Trăng  Thương lái thu mua      VNĐ/Kg   \n",
       "\n",
       "      Loại_tiền           Nguồn                   Ngày     Giá  \n",
       "546         VNĐ  CTV địa phương  3/12/2025 12:00:00 AM  5600.0  \n",
       "547         VNĐ  CTV địa phương  3/12/2025 12:00:00 AM  5600.0  \n",
       "561         VNĐ  CTV địa phương   3/5/2025 12:00:00 AM  5600.0  \n",
       "562         VNĐ  CTV địa phương   3/5/2025 12:00:00 AM  5600.0  \n",
       "14711       VNĐ  CTV địa phương  9/20/2021 12:00:00 AM  6300.0  \n",
       "14718       VNĐ  CTV địa phương  9/20/2021 12:00:00 AM  6300.0  "
      ]
     },
     "execution_count": 32,
     "metadata": {},
     "output_type": "execute_result"
    }
   ],
   "source": [
    "data[data.duplicated(keep=False)]"
   ]
  },
  {
   "cell_type": "code",
   "execution_count": 33,
   "id": "5472d372",
   "metadata": {},
   "outputs": [
    {
     "data": {
      "text/plain": [
       "Tên_mặt_hàng    0\n",
       "Thị_trường      0\n",
       "Loại_giá        0\n",
       "Đơn_vị_tính     0\n",
       "Loại_tiền       0\n",
       "Nguồn           0\n",
       "Ngày            0\n",
       "Giá             0\n",
       "dtype: int64"
      ]
     },
     "execution_count": 33,
     "metadata": {},
     "output_type": "execute_result"
    }
   ],
   "source": [
    "data.isnull().sum()"
   ]
  }
 ],
 "metadata": {
  "kernelspec": {
   "display_name": "project3",
   "language": "python",
   "name": "python3"
  },
  "language_info": {
   "codemirror_mode": {
    "name": "ipython",
    "version": 3
   },
   "file_extension": ".py",
   "mimetype": "text/x-python",
   "name": "python",
   "nbconvert_exporter": "python",
   "pygments_lexer": "ipython3",
   "version": "3.11.11"
  }
 },
 "nbformat": 4,
 "nbformat_minor": 5
}
