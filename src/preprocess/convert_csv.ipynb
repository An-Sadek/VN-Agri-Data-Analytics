{
 "cells": [
  {
   "cell_type": "markdown",
   "id": "6123d946",
   "metadata": {},
   "source": [
    "# Thư viện"
   ]
  },
  {
   "cell_type": "code",
   "execution_count": 1,
   "id": "073c273e",
   "metadata": {},
   "outputs": [],
   "source": [
    "import pandas as pd"
   ]
  },
  {
   "cell_type": "markdown",
   "id": "e4dc443b",
   "metadata": {},
   "source": [
    "# Cà phê"
   ]
  },
  {
   "cell_type": "code",
   "execution_count": 2,
   "id": "087cdc5a",
   "metadata": {},
   "outputs": [],
   "source": [
    "with open(\"../../data/Ca phe\", \"r\", encoding=\"utf-16\") as file:\n",
    "    caphe = file.read()"
   ]
  },
  {
   "cell_type": "code",
   "execution_count": 6,
   "id": "c91d275c",
   "metadata": {},
   "outputs": [
    {
     "name": "stderr",
     "output_type": "stream",
     "text": [
      "C:\\Users\\DELL\\AppData\\Local\\Temp\\ipykernel_5076\\3960325749.py:1: FutureWarning: Passing literal html to 'read_html' is deprecated and will be removed in a future version. To read from a literal string, wrap it in a 'StringIO' object.\n",
      "  caphe_df = pd.read_html(caphe)[0]\n"
     ]
    },
    {
     "data": {
      "text/plain": [
       "(4845, 8)"
      ]
     },
     "execution_count": 6,
     "metadata": {},
     "output_type": "execute_result"
    }
   ],
   "source": [
    "caphe_df = pd.read_html(caphe)[0]\n",
    "caphe_df.shape"
   ]
  },
  {
   "cell_type": "markdown",
   "id": "53444cbf",
   "metadata": {},
   "source": [
    "# Lúa gạo"
   ]
  },
  {
   "cell_type": "code",
   "execution_count": 10,
   "id": "1e54de24",
   "metadata": {},
   "outputs": [],
   "source": [
    "with open(\"../../data/Lua, gao\", \"r\", encoding=\"utf-16\") as file:\n",
    "    luagao = file.read()"
   ]
  },
  {
   "cell_type": "code",
   "execution_count": 11,
   "id": "fbdb7e13",
   "metadata": {},
   "outputs": [
    {
     "name": "stderr",
     "output_type": "stream",
     "text": [
      "C:\\Users\\DELL\\AppData\\Local\\Temp\\ipykernel_5076\\3559794058.py:1: FutureWarning: Passing literal html to 'read_html' is deprecated and will be removed in a future version. To read from a literal string, wrap it in a 'StringIO' object.\n",
      "  luagao_df = pd.read_html(luagao)[0]\n"
     ]
    },
    {
     "data": {
      "text/plain": [
       "(17050, 8)"
      ]
     },
     "execution_count": 11,
     "metadata": {},
     "output_type": "execute_result"
    }
   ],
   "source": [
    "luagao_df = pd.read_html(luagao)[0]\n",
    "luagao_df.shape"
   ]
  },
  {
   "cell_type": "markdown",
   "id": "6a74dbeb",
   "metadata": {},
   "source": [
    "# Rau, quả"
   ]
  },
  {
   "cell_type": "code",
   "execution_count": 12,
   "id": "e3b3e36f",
   "metadata": {},
   "outputs": [],
   "source": [
    "with open(\"../../data/Rau, qua\", \"r\", encoding=\"utf-16\") as file:\n",
    "    rauqua = file.read()"
   ]
  },
  {
   "cell_type": "code",
   "execution_count": 13,
   "id": "35656ccd",
   "metadata": {},
   "outputs": [
    {
     "name": "stderr",
     "output_type": "stream",
     "text": [
      "C:\\Users\\DELL\\AppData\\Local\\Temp\\ipykernel_5076\\1453333364.py:1: FutureWarning: Passing literal html to 'read_html' is deprecated and will be removed in a future version. To read from a literal string, wrap it in a 'StringIO' object.\n",
      "  rauqua_df = pd.read_html(rauqua)[0]\n"
     ]
    },
    {
     "data": {
      "text/plain": [
       "(29593, 8)"
      ]
     },
     "execution_count": 13,
     "metadata": {},
     "output_type": "execute_result"
    }
   ],
   "source": [
    "rauqua_df = pd.read_html(rauqua)[0]\n",
    "rauqua_df.shape"
   ]
  },
  {
   "cell_type": "markdown",
   "id": "68d86957",
   "metadata": {},
   "source": [
    "# Tổng hợp và xuất file csv"
   ]
  },
  {
   "cell_type": "code",
   "execution_count": 14,
   "id": "7bc574d0",
   "metadata": {},
   "outputs": [],
   "source": [
    "data = pd.concat([caphe_df, luagao_df, rauqua_df], axis=0)"
   ]
  },
  {
   "cell_type": "code",
   "execution_count": null,
   "id": "c1ac3b7f",
   "metadata": {},
   "outputs": [
    {
     "data": {
      "text/plain": [
       "(51488, 8)"
      ]
     },
     "execution_count": 16,
     "metadata": {},
     "output_type": "execute_result"
    }
   ],
   "source": [
    "data.reset_index()\n",
    "data.to_csv(\"../../data/data.csv\", index=False)"
   ]
  }
 ],
 "metadata": {
  "kernelspec": {
   "display_name": "project3",
   "language": "python",
   "name": "python3"
  },
  "language_info": {
   "codemirror_mode": {
    "name": "ipython",
    "version": 3
   },
   "file_extension": ".py",
   "mimetype": "text/x-python",
   "name": "python",
   "nbconvert_exporter": "python",
   "pygments_lexer": "ipython3",
   "version": "3.11.11"
  }
 },
 "nbformat": 4,
 "nbformat_minor": 5
}
