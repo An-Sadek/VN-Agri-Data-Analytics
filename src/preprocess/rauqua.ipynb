{
 "cells": [
  {
   "cell_type": "code",
   "execution_count": 18,
   "id": "ea15f5d1",
   "metadata": {},
   "outputs": [],
   "source": [
    "from dataset import VNAgriDataset"
   ]
  },
  {
   "cell_type": "code",
   "execution_count": 19,
   "id": "272e04be",
   "metadata": {},
   "outputs": [],
   "source": [
    "import numpy as np\n",
    "import pandas as pd"
   ]
  },
  {
   "cell_type": "code",
   "execution_count": 20,
   "id": "74ce56c4",
   "metadata": {},
   "outputs": [
    {
     "name": "stderr",
     "output_type": "stream",
     "text": [
      "d:\\University\\Nam 3\\HK3\\Project 3\\Code\\src\\preprocess\\dataset.py:33: FutureWarning: Passing literal html to 'read_html' is deprecated and will be removed in a future version. To read from a literal string, wrap it in a 'StringIO' object.\n",
      "  self.data = pd.read_html(html)[0]\n"
     ]
    }
   ],
   "source": [
    "rauqua = VNAgriDataset(\"../../data/Rau, qua\")"
   ]
  },
  {
   "cell_type": "code",
   "execution_count": 21,
   "id": "c89e16ba",
   "metadata": {},
   "outputs": [],
   "source": [
    "rauqua_df = rauqua.data"
   ]
  },
  {
   "cell_type": "code",
   "execution_count": 22,
   "id": "090a8fde",
   "metadata": {},
   "outputs": [
    {
     "data": {
      "text/html": [
       "<div>\n",
       "<style scoped>\n",
       "    .dataframe tbody tr th:only-of-type {\n",
       "        vertical-align: middle;\n",
       "    }\n",
       "\n",
       "    .dataframe tbody tr th {\n",
       "        vertical-align: top;\n",
       "    }\n",
       "\n",
       "    .dataframe thead th {\n",
       "        text-align: right;\n",
       "    }\n",
       "</style>\n",
       "<table border=\"1\" class=\"dataframe\">\n",
       "  <thead>\n",
       "    <tr style=\"text-align: right;\">\n",
       "      <th></th>\n",
       "      <th>Tên_mặt_hàng</th>\n",
       "      <th>Thị_trường</th>\n",
       "      <th>Loại_giá</th>\n",
       "      <th>Đơn_vị_tính</th>\n",
       "      <th>Loại_tiền</th>\n",
       "      <th>Nguồn</th>\n",
       "      <th>Ngày</th>\n",
       "      <th>Giá</th>\n",
       "    </tr>\n",
       "  </thead>\n",
       "  <tbody>\n",
       "    <tr>\n",
       "      <th>0</th>\n",
       "      <td>Bắp cải</td>\n",
       "      <td>Sơn La</td>\n",
       "      <td>Bán lẻ</td>\n",
       "      <td>VNĐ/Kg</td>\n",
       "      <td>VNĐ</td>\n",
       "      <td>CTV địa phương</td>\n",
       "      <td>2025-05-19</td>\n",
       "      <td>10000.0</td>\n",
       "    </tr>\n",
       "    <tr>\n",
       "      <th>1</th>\n",
       "      <td>Bắp cải thảo</td>\n",
       "      <td>Sơn La</td>\n",
       "      <td>Bán lẻ</td>\n",
       "      <td>VNĐ/Kg</td>\n",
       "      <td>VNĐ</td>\n",
       "      <td>CTV địa phương</td>\n",
       "      <td>2025-05-19</td>\n",
       "      <td>10000.0</td>\n",
       "    </tr>\n",
       "    <tr>\n",
       "      <th>2</th>\n",
       "      <td>Bưởi da xanh</td>\n",
       "      <td>Sơn La</td>\n",
       "      <td>Bán lẻ</td>\n",
       "      <td>VNĐ/quả</td>\n",
       "      <td>VNĐ</td>\n",
       "      <td>CTV địa phương</td>\n",
       "      <td>2025-05-19</td>\n",
       "      <td>35000.0</td>\n",
       "    </tr>\n",
       "    <tr>\n",
       "      <th>3</th>\n",
       "      <td>Bưởi Diễn</td>\n",
       "      <td>Sơn La</td>\n",
       "      <td>Bán lẻ</td>\n",
       "      <td>VNĐ/quả</td>\n",
       "      <td>VNĐ</td>\n",
       "      <td>CTV địa phương</td>\n",
       "      <td>2025-05-19</td>\n",
       "      <td>10000.0</td>\n",
       "    </tr>\n",
       "    <tr>\n",
       "      <th>4</th>\n",
       "      <td>Cà chua</td>\n",
       "      <td>Sơn La</td>\n",
       "      <td>Bán lẻ</td>\n",
       "      <td>VNĐ/Kg</td>\n",
       "      <td>VNĐ</td>\n",
       "      <td>CTV địa phương</td>\n",
       "      <td>2025-05-19</td>\n",
       "      <td>12000.0</td>\n",
       "    </tr>\n",
       "  </tbody>\n",
       "</table>\n",
       "</div>"
      ],
      "text/plain": [
       "   Tên_mặt_hàng Thị_trường Loại_giá Đơn_vị_tính Loại_tiền           Nguồn  \\\n",
       "0       Bắp cải     Sơn La   Bán lẻ      VNĐ/Kg       VNĐ  CTV địa phương   \n",
       "1  Bắp cải thảo     Sơn La   Bán lẻ      VNĐ/Kg       VNĐ  CTV địa phương   \n",
       "2  Bưởi da xanh     Sơn La   Bán lẻ     VNĐ/quả       VNĐ  CTV địa phương   \n",
       "3     Bưởi Diễn     Sơn La   Bán lẻ     VNĐ/quả       VNĐ  CTV địa phương   \n",
       "4       Cà chua     Sơn La   Bán lẻ      VNĐ/Kg       VNĐ  CTV địa phương   \n",
       "\n",
       "        Ngày      Giá  \n",
       "0 2025-05-19  10000.0  \n",
       "1 2025-05-19  10000.0  \n",
       "2 2025-05-19  35000.0  \n",
       "3 2025-05-19  10000.0  \n",
       "4 2025-05-19  12000.0  "
      ]
     },
     "execution_count": 22,
     "metadata": {},
     "output_type": "execute_result"
    }
   ],
   "source": [
    "rauqua_df.head()"
   ]
  },
  {
   "cell_type": "markdown",
   "id": "f9689b37",
   "metadata": {},
   "source": [
    "# Kiểm tra dữ liệu thiếu"
   ]
  },
  {
   "cell_type": "code",
   "execution_count": 23,
   "id": "cd48b522",
   "metadata": {},
   "outputs": [
    {
     "data": {
      "text/plain": [
       "Tên_mặt_hàng    0\n",
       "Thị_trường      0\n",
       "Loại_giá        0\n",
       "Đơn_vị_tính     0\n",
       "Loại_tiền       0\n",
       "Nguồn           0\n",
       "Ngày            0\n",
       "Giá             0\n",
       "dtype: int64"
      ]
     },
     "execution_count": 23,
     "metadata": {},
     "output_type": "execute_result"
    }
   ],
   "source": [
    "rauqua_df.isnull().sum()"
   ]
  },
  {
   "cell_type": "markdown",
   "id": "e18e368e",
   "metadata": {},
   "source": [
    "# Kiểm tra dữ liệu thừa"
   ]
  },
  {
   "cell_type": "code",
   "execution_count": 24,
   "id": "448bc4dc",
   "metadata": {},
   "outputs": [
    {
     "data": {
      "text/plain": [
       "np.int64(0)"
      ]
     },
     "execution_count": 24,
     "metadata": {},
     "output_type": "execute_result"
    }
   ],
   "source": [
    "rauqua_df.duplicated().sum()"
   ]
  },
  {
   "cell_type": "markdown",
   "id": "d1bcd848",
   "metadata": {},
   "source": [
    "# Kiểm tra ngoại lai"
   ]
  },
  {
   "cell_type": "markdown",
   "id": "2d5e67b9",
   "metadata": {},
   "source": [
    "## Số lượng và phần trăm dữ liệu bị ngoại lai"
   ]
  },
  {
   "cell_type": "code",
   "execution_count": 25,
   "id": "7f61efe7",
   "metadata": {},
   "outputs": [],
   "source": [
    "n_outlier, perc_outlier = rauqua.get_outlier_n_perc()\n",
    "n = len(rauqua)"
   ]
  },
  {
   "cell_type": "code",
   "execution_count": 26,
   "id": "129811e2",
   "metadata": {},
   "outputs": [
    {
     "name": "stdout",
     "output_type": "stream",
     "text": [
      "Số lượng sản dữ liệu bị ngoại lai 109/29593\n",
      "Phần trăm dữ liệu bị ngoại lai 0.37%\n"
     ]
    }
   ],
   "source": [
    "print(f\"Số lượng sản dữ liệu bị ngoại lai {n_outlier}/{n}\")\n",
    "print(f\"Phần trăm dữ liệu bị ngoại lai {perc_outlier*100:.2f}%\")"
   ]
  },
  {
   "cell_type": "code",
   "execution_count": 27,
   "id": "789d059b",
   "metadata": {},
   "outputs": [],
   "source": [
    "outlier_infos, outlier_df = rauqua.get_outlier_infos()"
   ]
  },
  {
   "cell_type": "code",
   "execution_count": 28,
   "id": "166bb201",
   "metadata": {},
   "outputs": [
    {
     "data": {
      "text/plain": [
       "(1571, 8)"
      ]
     },
     "execution_count": 28,
     "metadata": {},
     "output_type": "execute_result"
    }
   ],
   "source": [
    "outlier_df.shape"
   ]
  },
  {
   "cell_type": "markdown",
   "id": "b19ce1ce",
   "metadata": {},
   "source": [
    "# Sau khi đã xoá ngoại lai"
   ]
  },
  {
   "cell_type": "code",
   "execution_count": 29,
   "id": "7d9162a3",
   "metadata": {},
   "outputs": [],
   "source": [
    "rauqua.remove_outlier()"
   ]
  },
  {
   "cell_type": "code",
   "execution_count": 30,
   "id": "19c06e93",
   "metadata": {},
   "outputs": [],
   "source": [
    "new_outlier_infos, new_outlier_df = rauqua.get_outlier_infos()"
   ]
  },
  {
   "cell_type": "code",
   "execution_count": 31,
   "id": "7798e604",
   "metadata": {},
   "outputs": [
    {
     "data": {
      "text/plain": [
       "(217, 8)"
      ]
     },
     "execution_count": 31,
     "metadata": {},
     "output_type": "execute_result"
    }
   ],
   "source": [
    "new_outlier_df.shape"
   ]
  },
  {
   "cell_type": "code",
   "execution_count": 32,
   "id": "61c960a1",
   "metadata": {},
   "outputs": [],
   "source": [
    "rauqua.data.to_csv(\"../../data/pre_rauqua.csv\")"
   ]
  },
  {
   "cell_type": "code",
   "execution_count": null,
   "id": "4bc0f567",
   "metadata": {},
   "outputs": [],
   "source": []
  }
 ],
 "metadata": {
  "kernelspec": {
   "display_name": "project3",
   "language": "python",
   "name": "python3"
  },
  "language_info": {
   "codemirror_mode": {
    "name": "ipython",
    "version": 3
   },
   "file_extension": ".py",
   "mimetype": "text/x-python",
   "name": "python",
   "nbconvert_exporter": "python",
   "pygments_lexer": "ipython3",
   "version": "3.11.11"
  }
 },
 "nbformat": 4,
 "nbformat_minor": 5
}
