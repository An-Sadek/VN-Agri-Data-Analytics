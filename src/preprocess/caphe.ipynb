{
 "cells": [
  {
   "cell_type": "code",
   "execution_count": 8,
   "id": "9a22ae7f",
   "metadata": {},
   "outputs": [],
   "source": [
    "from dataset import VNAgriDataset"
   ]
  },
  {
   "cell_type": "code",
   "execution_count": 9,
   "id": "024aa0f5",
   "metadata": {},
   "outputs": [],
   "source": [
    "import numpy as np\n",
    "import pandas as pd"
   ]
  },
  {
   "cell_type": "code",
   "execution_count": 10,
   "id": "0b80cdd9",
   "metadata": {},
   "outputs": [
    {
     "name": "stderr",
     "output_type": "stream",
     "text": [
      "d:\\University\\Nam 3\\HK3\\Project 3\\Code\\src\\preprocess\\dataset.py:33: FutureWarning: Passing literal html to 'read_html' is deprecated and will be removed in a future version. To read from a literal string, wrap it in a 'StringIO' object.\n",
      "  self.data = pd.read_html(html)[0]\n"
     ]
    }
   ],
   "source": [
    "caphe = VNAgriDataset(\"../../data/Ca phe\")"
   ]
  },
  {
   "cell_type": "markdown",
   "id": "1fac6de2",
   "metadata": {},
   "source": [
    "# Kiểm tra dữ liệu thiếu"
   ]
  },
  {
   "cell_type": "code",
   "execution_count": 11,
   "id": "1016b2ff",
   "metadata": {},
   "outputs": [
    {
     "data": {
      "text/plain": [
       "Tên_mặt_hàng    0\n",
       "Thị_trường      0\n",
       "Loại_giá        0\n",
       "Đơn_vị_tính     0\n",
       "Loại_tiền       0\n",
       "Nguồn           0\n",
       "Ngày            0\n",
       "Giá             0\n",
       "dtype: int64"
      ]
     },
     "execution_count": 11,
     "metadata": {},
     "output_type": "execute_result"
    }
   ],
   "source": [
    "caphe.data.isnull().sum()"
   ]
  },
  {
   "cell_type": "markdown",
   "id": "5dce5b34",
   "metadata": {},
   "source": [
    "# Kiểm tra dữ liệu thừa"
   ]
  },
  {
   "cell_type": "code",
   "execution_count": 12,
   "id": "baff9226",
   "metadata": {},
   "outputs": [
    {
     "data": {
      "text/plain": [
       "np.int64(0)"
      ]
     },
     "execution_count": 12,
     "metadata": {},
     "output_type": "execute_result"
    }
   ],
   "source": [
    "caphe.data.duplicated().sum()"
   ]
  },
  {
   "cell_type": "markdown",
   "id": "91fd374e",
   "metadata": {},
   "source": [
    "# Kiểm tra ngoại lai"
   ]
  },
  {
   "cell_type": "code",
   "execution_count": 13,
   "id": "5308ad92",
   "metadata": {},
   "outputs": [],
   "source": [
    "n_outlier, perc_outlier = caphe.get_outlier_n_perc()\n",
    "n = len(caphe)"
   ]
  },
  {
   "cell_type": "code",
   "execution_count": 14,
   "id": "63d8311b",
   "metadata": {},
   "outputs": [
    {
     "name": "stdout",
     "output_type": "stream",
     "text": [
      "Số lượng sản dữ liệu bị ngoại lai 6/4845\n",
      "Phần trăm dữ liệu bị ngoại lai 0.12%\n"
     ]
    }
   ],
   "source": [
    "print(f\"Số lượng sản dữ liệu bị ngoại lai {n_outlier}/{n}\")\n",
    "print(f\"Phần trăm dữ liệu bị ngoại lai {perc_outlier*100:.2f}%\")"
   ]
  },
  {
   "cell_type": "code",
   "execution_count": 15,
   "id": "8e60652d",
   "metadata": {},
   "outputs": [],
   "source": [
    "caphe.remove_outlier()"
   ]
  },
  {
   "cell_type": "code",
   "execution_count": 16,
   "id": "50b5ddd9",
   "metadata": {},
   "outputs": [],
   "source": [
    "new_outlier_infos, new_outlier_df = caphe.get_outlier_infos()"
   ]
  },
  {
   "cell_type": "code",
   "execution_count": 17,
   "id": "87a157cf",
   "metadata": {},
   "outputs": [
    {
     "data": {
      "text/plain": [
       "(0, 8)"
      ]
     },
     "execution_count": 17,
     "metadata": {},
     "output_type": "execute_result"
    }
   ],
   "source": [
    "new_outlier_df.shape"
   ]
  },
  {
   "cell_type": "code",
   "execution_count": 18,
   "id": "fe9c10b1",
   "metadata": {},
   "outputs": [],
   "source": [
    "caphe.data.to_csv(\"../../data/pre_caphe.csv\")"
   ]
  }
 ],
 "metadata": {
  "kernelspec": {
   "display_name": "project3",
   "language": "python",
   "name": "python3"
  },
  "language_info": {
   "codemirror_mode": {
    "name": "ipython",
    "version": 3
   },
   "file_extension": ".py",
   "mimetype": "text/x-python",
   "name": "python",
   "nbconvert_exporter": "python",
   "pygments_lexer": "ipython3",
   "version": "3.11.11"
  }
 },
 "nbformat": 4,
 "nbformat_minor": 5
}
