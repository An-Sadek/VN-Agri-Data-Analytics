{
 "cells": [
  {
   "cell_type": "code",
   "execution_count": 1,
   "id": "9393b542",
   "metadata": {},
   "outputs": [],
   "source": [
    "import numpy as np\n",
    "import pandas as pd\n",
    "\n",
    "import seaborn as sns\n",
    "import matplotlib.pyplot as plt\n",
    "import matplotlib.dates as mdates\n",
    "from scipy import stats\n",
    "\n",
    "from dataset import VNAgriDataset"
   ]
  },
  {
   "cell_type": "markdown",
   "id": "ea6958fb",
   "metadata": {},
   "source": [
    "# Đọc dữ liệu cà phê"
   ]
  },
  {
   "cell_type": "code",
   "execution_count": 2,
   "id": "4339d564",
   "metadata": {},
   "outputs": [],
   "source": [
    "with open(\"../../data/Ca phe\", \"r\", encoding=\"utf-16\") as file:\n",
    "    caphe = file.read()"
   ]
  },
  {
   "cell_type": "code",
   "execution_count": 3,
   "id": "6898157a",
   "metadata": {},
   "outputs": [
    {
     "name": "stderr",
     "output_type": "stream",
     "text": [
      "C:\\Users\\DELL\\AppData\\Local\\Temp\\ipykernel_2948\\3960325749.py:1: FutureWarning: Passing literal html to 'read_html' is deprecated and will be removed in a future version. To read from a literal string, wrap it in a 'StringIO' object.\n",
      "  caphe_df = pd.read_html(caphe)[0]\n"
     ]
    },
    {
     "data": {
      "text/plain": [
       "(4845, 8)"
      ]
     },
     "execution_count": 3,
     "metadata": {},
     "output_type": "execute_result"
    }
   ],
   "source": [
    "caphe_df = pd.read_html(caphe)[0]\n",
    "caphe_df.shape"
   ]
  },
  {
   "cell_type": "code",
   "execution_count": 4,
   "id": "992a325f",
   "metadata": {},
   "outputs": [
    {
     "data": {
      "text/html": [
       "<div>\n",
       "<style scoped>\n",
       "    .dataframe tbody tr th:only-of-type {\n",
       "        vertical-align: middle;\n",
       "    }\n",
       "\n",
       "    .dataframe tbody tr th {\n",
       "        vertical-align: top;\n",
       "    }\n",
       "\n",
       "    .dataframe thead th {\n",
       "        text-align: right;\n",
       "    }\n",
       "</style>\n",
       "<table border=\"1\" class=\"dataframe\">\n",
       "  <thead>\n",
       "    <tr style=\"text-align: right;\">\n",
       "      <th></th>\n",
       "      <th>Tên_mặt_hàng</th>\n",
       "      <th>Thị_trường</th>\n",
       "      <th>Loại_giá</th>\n",
       "      <th>Đơn_vị_tính</th>\n",
       "      <th>Loại_tiền</th>\n",
       "      <th>Nguồn</th>\n",
       "      <th>Ngày</th>\n",
       "      <th>Giá</th>\n",
       "    </tr>\n",
       "  </thead>\n",
       "  <tbody>\n",
       "    <tr>\n",
       "      <th>0</th>\n",
       "      <td>Cà phê Robusta nhân xô</td>\n",
       "      <td>Đắk Lắk</td>\n",
       "      <td>Thương lái thu mua</td>\n",
       "      <td>Vnđ/Kg</td>\n",
       "      <td>VNĐ</td>\n",
       "      <td>CTV địa phương</td>\n",
       "      <td>5/9/2025 12:00:00 AM</td>\n",
       "      <td>128233.0</td>\n",
       "    </tr>\n",
       "    <tr>\n",
       "      <th>1</th>\n",
       "      <td>Cà phê Robusta nhân xô</td>\n",
       "      <td>Đắk Nông</td>\n",
       "      <td>Thương lái thu mua</td>\n",
       "      <td>Vnđ/Kg</td>\n",
       "      <td>VNĐ</td>\n",
       "      <td>CTV địa phương</td>\n",
       "      <td>5/9/2025 12:00:00 AM</td>\n",
       "      <td>128350.0</td>\n",
       "    </tr>\n",
       "    <tr>\n",
       "      <th>2</th>\n",
       "      <td>Cà phê Robusta nhân xô</td>\n",
       "      <td>Gia Lai</td>\n",
       "      <td>Thương lái thu mua</td>\n",
       "      <td>Vnđ/Kg</td>\n",
       "      <td>VNĐ</td>\n",
       "      <td>CTV địa phương</td>\n",
       "      <td>5/9/2025 12:00:00 AM</td>\n",
       "      <td>128233.0</td>\n",
       "    </tr>\n",
       "    <tr>\n",
       "      <th>3</th>\n",
       "      <td>Cà phê Robusta nhân xô</td>\n",
       "      <td>Kon Tum</td>\n",
       "      <td>Thương lái thu mua</td>\n",
       "      <td>Vnđ/Kg</td>\n",
       "      <td>VNĐ</td>\n",
       "      <td>CTV địa phương</td>\n",
       "      <td>5/9/2025 12:00:00 AM</td>\n",
       "      <td>128200.0</td>\n",
       "    </tr>\n",
       "    <tr>\n",
       "      <th>4</th>\n",
       "      <td>Cà phê Robusta nhân xô</td>\n",
       "      <td>Lâm Đồng</td>\n",
       "      <td>Thương lái thu mua</td>\n",
       "      <td>Vnđ/Kg</td>\n",
       "      <td>VNĐ</td>\n",
       "      <td>CTV địa phương</td>\n",
       "      <td>5/9/2025 12:00:00 AM</td>\n",
       "      <td>128000.0</td>\n",
       "    </tr>\n",
       "  </tbody>\n",
       "</table>\n",
       "</div>"
      ],
      "text/plain": [
       "             Tên_mặt_hàng Thị_trường            Loại_giá Đơn_vị_tính  \\\n",
       "0  Cà phê Robusta nhân xô    Đắk Lắk  Thương lái thu mua      Vnđ/Kg   \n",
       "1  Cà phê Robusta nhân xô   Đắk Nông  Thương lái thu mua      Vnđ/Kg   \n",
       "2  Cà phê Robusta nhân xô    Gia Lai  Thương lái thu mua      Vnđ/Kg   \n",
       "3  Cà phê Robusta nhân xô    Kon Tum  Thương lái thu mua      Vnđ/Kg   \n",
       "4  Cà phê Robusta nhân xô   Lâm Đồng  Thương lái thu mua      Vnđ/Kg   \n",
       "\n",
       "  Loại_tiền           Nguồn                  Ngày       Giá  \n",
       "0       VNĐ  CTV địa phương  5/9/2025 12:00:00 AM  128233.0  \n",
       "1       VNĐ  CTV địa phương  5/9/2025 12:00:00 AM  128350.0  \n",
       "2       VNĐ  CTV địa phương  5/9/2025 12:00:00 AM  128233.0  \n",
       "3       VNĐ  CTV địa phương  5/9/2025 12:00:00 AM  128200.0  \n",
       "4       VNĐ  CTV địa phương  5/9/2025 12:00:00 AM  128000.0  "
      ]
     },
     "execution_count": 4,
     "metadata": {},
     "output_type": "execute_result"
    }
   ],
   "source": [
    "caphe_df.head()"
   ]
  },
  {
   "cell_type": "markdown",
   "id": "5a93d706",
   "metadata": {},
   "source": [
    "# Kiểm tra dữ liệu thiếu"
   ]
  },
  {
   "cell_type": "code",
   "execution_count": 5,
   "id": "b182c6b4",
   "metadata": {},
   "outputs": [
    {
     "data": {
      "text/plain": [
       "Tên_mặt_hàng    0\n",
       "Thị_trường      0\n",
       "Loại_giá        0\n",
       "Đơn_vị_tính     0\n",
       "Loại_tiền       0\n",
       "Nguồn           0\n",
       "Ngày            0\n",
       "Giá             0\n",
       "dtype: int64"
      ]
     },
     "execution_count": 5,
     "metadata": {},
     "output_type": "execute_result"
    }
   ],
   "source": [
    "caphe_df.isnull().sum()"
   ]
  },
  {
   "cell_type": "markdown",
   "id": "a7518059",
   "metadata": {},
   "source": [
    "# Kiểm tra dữ liệu thừa"
   ]
  },
  {
   "cell_type": "code",
   "execution_count": 6,
   "id": "6a6813be",
   "metadata": {},
   "outputs": [
    {
     "data": {
      "text/plain": [
       "np.int64(0)"
      ]
     },
     "execution_count": 6,
     "metadata": {},
     "output_type": "execute_result"
    }
   ],
   "source": [
    "caphe_df.duplicated().sum()"
   ]
  },
  {
   "cell_type": "markdown",
   "id": "e526ee7f",
   "metadata": {},
   "source": [
    "# Kiểm tra giá trị ngoại lai"
   ]
  },
  {
   "cell_type": "code",
   "execution_count": 7,
   "id": "e902a1e9",
   "metadata": {},
   "outputs": [],
   "source": [
    "gia_caphe = caphe_df[\"Giá\"]"
   ]
  },
  {
   "cell_type": "code",
   "execution_count": 21,
   "id": "a8fc722c",
   "metadata": {},
   "outputs": [
    {
     "data": {
      "text/plain": [
       "<Axes: ylabel='Giá'>"
      ]
     },
     "execution_count": 21,
     "metadata": {},
     "output_type": "execute_result"
    },
    {
     "data": {
      "image/png": "[encoded data removed]",
      "text/plain": [
       "<Figure size 640x480 with 1 Axes>"
      ]
     },
     "metadata": {},
     "output_type": "display_data"
    }
   ],
   "source": [
    "sns.boxplot(y=gia_caphe)"
   ]
  },
  {
   "cell_type": "code",
   "execution_count": 19,
   "id": "249031c2",
   "metadata": {},
   "outputs": [
    {
     "data": {
      "text/plain": [
       "array(['Cà phê Robusta nhân xô', 'Cà phê Arabica nhân xô'], dtype=object)"
      ]
     },
     "execution_count": 19,
     "metadata": {},
     "output_type": "execute_result"
    }
   ],
   "source": [
    "caphe_df[\"Tên_mặt_hàng\"].unique()"
   ]
  },
  {
   "cell_type": "markdown",
   "id": "1d32358c",
   "metadata": {},
   "source": [
    "# Kiểm tra mặt hàng riêng biệt"
   ]
  },
  {
   "cell_type": "code",
   "execution_count": 9,
   "id": "a772d19e",
   "metadata": {},
   "outputs": [
    {
     "name": "stderr",
     "output_type": "stream",
     "text": [
      "d:\\University\\Nam 3\\HK3\\Project 3\\Code\\src\\preprocess\\dataset.py:27: FutureWarning: Passing literal html to 'read_html' is deprecated and will be removed in a future version. To read from a literal string, wrap it in a 'StringIO' object.\n",
      "  self.data = pd.read_html(html)[0]\n"
     ]
    }
   ],
   "source": [
    "dataset = VNAgriDataset(\"../../data/Ca phe\")\n",
    "outlier_filtered = dataset.get_outlier_mathang()"
   ]
  },
  {
   "cell_type": "code",
   "execution_count": 10,
   "id": "34a1f7c3",
   "metadata": {},
   "outputs": [
    {
     "data": {
      "text/plain": [
       "('Cà phê Robusta nhân xô',)"
      ]
     },
     "execution_count": 10,
     "metadata": {},
     "output_type": "execute_result"
    }
   ],
   "source": [
    "outlier_filtered"
   ]
  },
  {
   "cell_type": "code",
   "execution_count": 11,
   "id": "ed7ff567",
   "metadata": {},
   "outputs": [
    {
     "data": {
      "image/png": "[encoded data removed]",
      "text/plain": [
       "<Figure size 640x480 with 1 Axes>"
      ]
     },
     "metadata": {},
     "output_type": "display_data"
    }
   ],
   "source": [
    "dataset.plot(outlier_filtered[0], 1, 1)"
   ]
  },
  {
   "cell_type": "code",
   "execution_count": 13,
   "id": "c617caf2",
   "metadata": {},
   "outputs": [
    {
     "data": {
      "text/plain": [
       "(('Cà phê Robusta nhân xô',\n",
       "  np.float64(33500.0),\n",
       "  np.float64(103025.0),\n",
       "  np.float64(69525.0),\n",
       "  np.float64(-70787.5),\n",
       "  np.float64(207312.5),\n",
       "  np.int64(6)),)"
      ]
     },
     "execution_count": 13,
     "metadata": {},
     "output_type": "execute_result"
    }
   ],
   "source": [
    "outlier_infos = dataset.get_outlier_infos()\n",
    "outlier_infos"
   ]
  },
  {
   "cell_type": "code",
   "execution_count": 14,
   "id": "2f1247ff",
   "metadata": {},
   "outputs": [],
   "source": [
    "name = outlier_infos[0][0]\n",
    "min_val = outlier_infos[0][4]\n",
    "max_val = outlier_infos[0][5]"
   ]
  },
  {
   "cell_type": "code",
   "execution_count": 16,
   "id": "6bc97c00",
   "metadata": {},
   "outputs": [
    {
     "name": "stdout",
     "output_type": "stream",
     "text": [
      "0.0012437810945273632\n"
     ]
    },
    {
     "data": {
      "text/html": [
       "<div>\n",
       "<style scoped>\n",
       "    .dataframe tbody tr th:only-of-type {\n",
       "        vertical-align: middle;\n",
       "    }\n",
       "\n",
       "    .dataframe tbody tr th {\n",
       "        vertical-align: top;\n",
       "    }\n",
       "\n",
       "    .dataframe thead th {\n",
       "        text-align: right;\n",
       "    }\n",
       "</style>\n",
       "<table border=\"1\" class=\"dataframe\">\n",
       "  <thead>\n",
       "    <tr style=\"text-align: right;\">\n",
       "      <th></th>\n",
       "      <th>Tên_mặt_hàng</th>\n",
       "      <th>Thị_trường</th>\n",
       "      <th>Loại_giá</th>\n",
       "      <th>Đơn_vị_tính</th>\n",
       "      <th>Loại_tiền</th>\n",
       "      <th>Nguồn</th>\n",
       "      <th>Ngày</th>\n",
       "      <th>Giá</th>\n",
       "    </tr>\n",
       "  </thead>\n",
       "  <tbody>\n",
       "    <tr>\n",
       "      <th>75</th>\n",
       "      <td>Cà phê Robusta nhân xô</td>\n",
       "      <td>Đắk Lắk</td>\n",
       "      <td>Thương lái thu mua</td>\n",
       "      <td>Vnđ/Kg</td>\n",
       "      <td>VNĐ</td>\n",
       "      <td>CTV địa phương</td>\n",
       "      <td>2025-04-18</td>\n",
       "      <td>1.327333e+09</td>\n",
       "    </tr>\n",
       "    <tr>\n",
       "      <th>77</th>\n",
       "      <td>Cà phê Robusta nhân xô</td>\n",
       "      <td>Gia Lai</td>\n",
       "      <td>Thương lái thu mua</td>\n",
       "      <td>Vnđ/Kg</td>\n",
       "      <td>VNĐ</td>\n",
       "      <td>CTV địa phương</td>\n",
       "      <td>2025-04-18</td>\n",
       "      <td>1.327333e+09</td>\n",
       "    </tr>\n",
       "    <tr>\n",
       "      <th>80</th>\n",
       "      <td>Cà phê Robusta nhân xô</td>\n",
       "      <td>Đắk Lắk</td>\n",
       "      <td>Thương lái thu mua</td>\n",
       "      <td>Vnđ/Kg</td>\n",
       "      <td>VNĐ</td>\n",
       "      <td>CTV địa phương</td>\n",
       "      <td>2025-04-17</td>\n",
       "      <td>1.335333e+09</td>\n",
       "    </tr>\n",
       "    <tr>\n",
       "      <th>82</th>\n",
       "      <td>Cà phê Robusta nhân xô</td>\n",
       "      <td>Gia Lai</td>\n",
       "      <td>Thương lái thu mua</td>\n",
       "      <td>Vnđ/Kg</td>\n",
       "      <td>VNĐ</td>\n",
       "      <td>CTV địa phương</td>\n",
       "      <td>2025-04-17</td>\n",
       "      <td>1.335333e+09</td>\n",
       "    </tr>\n",
       "    <tr>\n",
       "      <th>85</th>\n",
       "      <td>Cà phê Robusta nhân xô</td>\n",
       "      <td>Đắk Lắk</td>\n",
       "      <td>Thương lái thu mua</td>\n",
       "      <td>Vnđ/Kg</td>\n",
       "      <td>VNĐ</td>\n",
       "      <td>CTV địa phương</td>\n",
       "      <td>2025-04-16</td>\n",
       "      <td>1.321333e+09</td>\n",
       "    </tr>\n",
       "    <tr>\n",
       "      <th>87</th>\n",
       "      <td>Cà phê Robusta nhân xô</td>\n",
       "      <td>Gia Lai</td>\n",
       "      <td>Thương lái thu mua</td>\n",
       "      <td>Vnđ/Kg</td>\n",
       "      <td>VNĐ</td>\n",
       "      <td>CTV địa phương</td>\n",
       "      <td>2025-04-16</td>\n",
       "      <td>1.319333e+09</td>\n",
       "    </tr>\n",
       "  </tbody>\n",
       "</table>\n",
       "</div>"
      ],
      "text/plain": [
       "              Tên_mặt_hàng Thị_trường            Loại_giá Đơn_vị_tính  \\\n",
       "75  Cà phê Robusta nhân xô    Đắk Lắk  Thương lái thu mua      Vnđ/Kg   \n",
       "77  Cà phê Robusta nhân xô    Gia Lai  Thương lái thu mua      Vnđ/Kg   \n",
       "80  Cà phê Robusta nhân xô    Đắk Lắk  Thương lái thu mua      Vnđ/Kg   \n",
       "82  Cà phê Robusta nhân xô    Gia Lai  Thương lái thu mua      Vnđ/Kg   \n",
       "85  Cà phê Robusta nhân xô    Đắk Lắk  Thương lái thu mua      Vnđ/Kg   \n",
       "87  Cà phê Robusta nhân xô    Gia Lai  Thương lái thu mua      Vnđ/Kg   \n",
       "\n",
       "   Loại_tiền           Nguồn       Ngày           Giá  \n",
       "75       VNĐ  CTV địa phương 2025-04-18  1.327333e+09  \n",
       "77       VNĐ  CTV địa phương 2025-04-18  1.327333e+09  \n",
       "80       VNĐ  CTV địa phương 2025-04-17  1.335333e+09  \n",
       "82       VNĐ  CTV địa phương 2025-04-17  1.335333e+09  \n",
       "85       VNĐ  CTV địa phương 2025-04-16  1.321333e+09  \n",
       "87       VNĐ  CTV địa phương 2025-04-16  1.319333e+09  "
      ]
     },
     "execution_count": 16,
     "metadata": {},
     "output_type": "execute_result"
    }
   ],
   "source": [
    "outlier_df0 = dataset.get_outlier_mathang_df(name, min_val, max_val)\n",
    "print(dataset.calc_outlier_perc(name, min_val, max_val))\n",
    "outlier_df0"
   ]
  },
  {
   "cell_type": "code",
   "execution_count": 17,
   "id": "e4373a4c",
   "metadata": {},
   "outputs": [],
   "source": [
    "dataset.remove_outlier(name, min_val, max_val)"
   ]
  },
  {
   "cell_type": "code",
   "execution_count": 18,
   "id": "baabe3e3",
   "metadata": {},
   "outputs": [
    {
     "data": {
      "image/png": "[encoded data removed]",
      "text/plain": [
       "<Figure size 1000x500 with 1 Axes>"
      ]
     },
     "metadata": {},
     "output_type": "display_data"
    }
   ],
   "source": [
    "dataset.plot_one(outlier_filtered[0])"
   ]
  },
  {
   "cell_type": "code",
   "execution_count": 20,
   "id": "317d51b9",
   "metadata": {},
   "outputs": [
    {
     "data": {
      "image/png": "[encoded data removed]",
      "text/plain": [
       "<Figure size 1000x500 with 1 Axes>"
      ]
     },
     "metadata": {},
     "output_type": "display_data"
    }
   ],
   "source": [
    "dataset.plot_one(\"Cà phê Arabica nhân xô\")"
   ]
  }
 ],
 "metadata": {
  "kernelspec": {
   "display_name": "project3",
   "language": "python",
   "name": "python3"
  },
  "language_info": {
   "codemirror_mode": {
    "name": "ipython",
    "version": 3
   },
   "file_extension": ".py",
   "mimetype": "text/x-python",
   "name": "python",
   "nbconvert_exporter": "python",
   "pygments_lexer": "ipython3",
   "version": "3.11.11"
  }
 },
 "nbformat": 4,
 "nbformat_minor": 5
}
