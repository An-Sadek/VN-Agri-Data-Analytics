{
 "cells": [
  {
   "cell_type": "code",
   "execution_count": 2,
   "id": "053f8e72",
   "metadata": {},
   "outputs": [],
   "source": [
    "import yaml\n",
    "import pandas as pd"
   ]
  },
  {
   "cell_type": "code",
   "execution_count": 3,
   "id": "9b465e1f",
   "metadata": {},
   "outputs": [],
   "source": [
    "data = pd.read_csv(\"../../data/data.csv\")"
   ]
  },
  {
   "cell_type": "code",
   "execution_count": 4,
   "id": "73f6cba2",
   "metadata": {},
   "outputs": [
    {
     "data": {
      "text/plain": [
       "Index(['Tên_mặt_hàng', 'Thị_trường', 'Loại_giá', 'Đơn_vị_tính', 'Loại_tiền',\n",
       "       'Nguồn', 'Ngày', 'Giá', 'Ngành_hàng'],\n",
       "      dtype='object')"
      ]
     },
     "execution_count": 4,
     "metadata": {},
     "output_type": "execute_result"
    }
   ],
   "source": [
    "data.columns"
   ]
  },
  {
   "cell_type": "code",
   "execution_count": 8,
   "id": "a17c3cf6",
   "metadata": {},
   "outputs": [
    {
     "name": "stdout",
     "output_type": "stream",
     "text": [
      "{'source': 'https://thitruongnongsan.gov.vn/vn/default.aspx', 'columns': {'Tên_mặt_hàng': {'id': 0, 'name': 'Tên mặt hàng', 'type': 'str', 'range_values': [0, 1333333333], 'decs': 'Tên của các sản phẩm\\n', 'data': None}, 'Thị_trường': {'id': 1, 'name': 'Thị trường', 'type': 'str', 'range_values': 22, 'decs': 'adf\\n', 'data': None}, 'Loại_giá': {'id': 2, 'name': 'Loại giá', 'type': 'str', 'range_values': 1, 'decs': 'asdfasdfasfa\\n', 'data': 'VND'}, 'Đơn_vị_tính': {'id': 3, 'name': 'Đơn vị tính', 'type': 'str', 'range_values': None, 'decs': 'Đơn vị tính của mặt hàng.  Do chỉ lấy từ một nguồn ở VN nên chỉ có một giá trị là VND\\n', 'data': None}}}\n"
     ]
    }
   ],
   "source": [
    "with open('../../data/metadata.yaml', 'r') as file:\n",
    "    test = yaml.safe_load(file)\n",
    "\n",
    "print(test)"
   ]
  },
  {
   "cell_type": "code",
   "execution_count": null,
   "id": "56e6f672",
   "metadata": {},
   "outputs": [],
   "source": []
  }
 ],
 "metadata": {
  "kernelspec": {
   "display_name": "project3",
   "language": "python",
   "name": "python3"
  },
  "language_info": {
   "codemirror_mode": {
    "name": "ipython",
    "version": 3
   },
   "file_extension": ".py",
   "mimetype": "text/x-python",
   "name": "python",
   "nbconvert_exporter": "python",
   "pygments_lexer": "ipython3",
   "version": "3.11.11"
  }
 },
 "nbformat": 4,
 "nbformat_minor": 5
}
