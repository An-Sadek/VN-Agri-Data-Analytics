{
 "cells": [
  {
   "cell_type": "code",
   "execution_count": 1,
   "id": "053f8e72",
   "metadata": {},
   "outputs": [],
   "source": [
    "import yaml\n",
    "import pandas as pd"
   ]
  },
  {
   "cell_type": "code",
   "execution_count": 2,
   "id": "9b465e1f",
   "metadata": {},
   "outputs": [],
   "source": [
    "data = pd.read_csv(\"../../data/data.csv\")"
   ]
  },
  {
   "cell_type": "code",
   "execution_count": 3,
   "id": "73f6cba2",
   "metadata": {},
   "outputs": [
    {
     "data": {
      "text/plain": [
       "Index(['Tên_mặt_hàng', 'Thị_trường', 'Loại_giá', 'Đơn_vị_tính', 'Loại_tiền',\n",
       "       'Nguồn', 'Ngày', 'Giá', 'Ngành_hàng'],\n",
       "      dtype='object')"
      ]
     },
     "execution_count": 3,
     "metadata": {},
     "output_type": "execute_result"
    }
   ],
   "source": [
    "data.columns"
   ]
  },
  {
   "cell_type": "code",
   "execution_count": 4,
   "id": "a17c3cf6",
   "metadata": {},
   "outputs": [
    {
     "name": "stdout",
     "output_type": "stream",
     "text": [
      "{'source': 'https://thitruongnongsan.gov.vn/vn/default.aspx', 'columns': {'Tên_mặt_hàng': {'id': 0, 'name': 'Tên mặt hàng', 'type': 'str', 'range_values': 348, 'decs': 'Tên của các mặt hàng. Gồm 348 mặt hàng khác nhau. Ví dụ: Cà phê Robusta nhân xô, ST25, chanh,...\\n', 'data': None}, 'Thị_trường': {'id': 1, 'name': 'Thị trường', 'type': 'str', 'range_values': 22, 'decs': 'Khu vực đang thay đổi giá. Chỉ có 22 tỉnh.\\n', 'data': None}, 'Loại_giá': {'id': 2, 'name': 'Loại giá', 'type': 'str', 'range_values': 12, 'decs': 'Kênh mua bán của thị trường. Ví dụ: Thương lái thu mua, công ty thu mua,...\\n', 'data': None}, 'Đơn_vị_tính': {'id': 3, 'name': 'Đơn vị tính', 'type': 'str', 'range_values': None, 'decs': 'Đơn vị tính của mặt hàng.  Ví dụ như: đồng/kg, VND/cây, VND/quả,... Dữ liệu thực tế có tới 10 giá trị,  nhưng lại bị trùng về mặt ngữ nghĩa nên sẽ cần phải gộp lại. VÍ dụ: Vnđ/Kg, VNĐ/kg, VNĐ/Kg,...\\n', 'data': None}, 'Loại_tiền': {'id': 4, 'name': 'Loại tiền', 'type': 'str', 'range_values': 1, 'decs': 'Loại giá gồm nội tệ (VND), hoặc ngoại tệ. Do chỉ lấy từ một nguồn ở VN nên chỉ có một giá trị là VND\\n', 'data': 'VND'}, 'Nguồn': {'id': 5, 'name': 'Nguồn', 'type': 'str', 'range_values': 6, 'decs': 'Nguồn xuất khẩu. Ví dụ: CTV địa phương, CTV Agroinfo/ Tintaynguyen,...\\n', 'data': None}, 'Ngày': {'id': 6, 'name': 'Ngày', 'type': 'datetime', 'range_values': ['1/1/2020', '19/5/2025'], 'decs': 'Thời điểm mà giá cả thị trường thay đổi. Dữ liệu không được cập nhật theo thời gian thật và chỉ bắt đầu từ đầu năm 2020.\\n', 'data': None}, 'Giá': {'id': 7, 'name': 'Giá', 'type': 'int', 'range_values': [0, 1333333333], 'decs': 'Giá trị của mặt hàng tại thời điểm thay đổi.\\n', 'data': None}, 'Ngành_hàng': {'id': 8, 'name': 'Ngành hàng', 'type': 'str', 'range_values': 3, 'decs': 'Ngành hàng mà mặt hàng thuộc về.  Được thêm vào theo ngành được lấy từ csdl.\\n', 'data': None}}}\n"
     ]
    }
   ],
   "source": [
    "with open('../../data/metadata.yaml', 'r') as file:\n",
    "    test = yaml.safe_load(file)\n",
    "\n",
    "print(test)"
   ]
  },
  {
   "cell_type": "code",
   "execution_count": null,
   "id": "56e6f672",
   "metadata": {},
   "outputs": [],
   "source": []
  }
 ],
 "metadata": {
  "kernelspec": {
   "display_name": "project3",
   "language": "python",
   "name": "python3"
  },
  "language_info": {
   "codemirror_mode": {
    "name": "ipython",
    "version": 3
   },
   "file_extension": ".py",
   "mimetype": "text/x-python",
   "name": "python",
   "nbconvert_exporter": "python",
   "pygments_lexer": "ipython3",
   "version": "3.11.11"
  }
 },
 "nbformat": 4,
 "nbformat_minor": 5
}
