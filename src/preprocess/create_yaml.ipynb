{
 "cells": [
  {
   "cell_type": "code",
   "execution_count": 30,
   "id": "053f8e72",
   "metadata": {},
   "outputs": [],
   "source": [
    "import yaml\n",
    "import pandas as pd"
   ]
  },
  {
   "cell_type": "code",
   "execution_count": 31,
   "id": "495f9f9b",
   "metadata": {},
   "outputs": [],
   "source": [
    "data = pd.read_csv(\"../../data/pre_data.csv\")"
   ]
  },
  {
   "cell_type": "code",
   "execution_count": 32,
   "id": "056c430e",
   "metadata": {},
   "outputs": [],
   "source": [
    "product = data[\"Tên_mặt_hàng\"].unique()"
   ]
  },
  {
   "cell_type": "code",
   "execution_count": 33,
   "id": "82cbb321",
   "metadata": {},
   "outputs": [],
   "source": [
    "id_product = [{\"id\": i, \"name\": name} for i, name in enumerate(product)]"
   ]
  },
  {
   "cell_type": "code",
   "execution_count": 34,
   "id": "1046d2af",
   "metadata": {},
   "outputs": [],
   "source": [
    "with open(\"../../data/product.yaml\", \"w\") as f:\n",
    "    yaml.dump(id_product, f, sort_keys=False)"
   ]
  },
  {
   "cell_type": "code",
   "execution_count": 36,
   "id": "77a390f2",
   "metadata": {},
   "outputs": [
    {
     "data": {
      "text/plain": [
       "Index(['Tên_mặt_hàng', 'Thị_trường', 'Loại_giá', 'Đơn_vị_tính', 'Loại_tiền',\n",
       "       'Nguồn', 'Ngày', 'Giá'],\n",
       "      dtype='object')"
      ]
     },
     "execution_count": 36,
     "metadata": {},
     "output_type": "execute_result"
    }
   ],
   "source": [
    "data.columns"
   ]
  },
  {
   "cell_type": "code",
   "execution_count": 41,
   "id": "167d8a59",
   "metadata": {},
   "outputs": [
    {
     "data": {
      "text/plain": [
       "array(['Cà phê Robusta nhân xô', 'Cà phê Arabica nhân xô', 'CLC 4900',\n",
       "       'IR 5451', 'Jasmine', 'OM 18', 'OM 5451', 'ST25', 'Đài Thơm 8',\n",
       "       'Gạo thường', 'Gạo 15% tấm', 'Gạo 25% tấm', 'Gạo 5% tấm',\n",
       "       'Gạo thơm', 'Gạo thường (IR 50404)', 'IR 50404', 'OM 6976',\n",
       "       'Đài thơm 8', 'Gạo NL 15% tấm', 'Gạo NL 25% tấm', 'Gạo NL 5% tấm',\n",
       "       'Gạo XK 15% tấm', 'Gạo XK 25% tấm', 'Gạo XK 5% tấm', 'Nhật', 'RVT',\n",
       "       'ST 24', 'Đài Loan', 'Hương Lài', 'Nàng Hoa 9', 'Nàng Nhen',\n",
       "       'Sóc Thái', '108', 'Gạo XK 10% tấm', 'Jacmine (Vàng)',\n",
       "       'Lức đỏ (Huyết Rồng Thái)', 'Nếp Sáp (Huyện Chợ Gạo- TG)', 'NL L1',\n",
       "       'NL L2 (lức)', 'OM 380', 'Ôtin', 'SaRi hạt nhỏ', 'T 164',\n",
       "       '15% tấm', '25% tấm', '5% tấm', 'Hạt dài', 'IR50404', 'OM 4900',\n",
       "       'ST24', 'Lúa IR 50404 (lúa tươi)', 'Nếp AG (IR 4625)',\n",
       "       'Gạo nhóm lúa chất lượng cao (OM18)',\n",
       "       'Gạo nhóm lúa chất lượng trung bình (OM 576)',\n",
       "       'Gạo nhóm lúa thơm đặc sản (ST24)',\n",
       "       'Gạo nhóm lúa thơm đặc sản (ST25)', 'Lúa chất lượng cao (OM18)',\n",
       "       'Lúa chất lượng trung bình (OM576)', 'Lúa thơm đặc sản (ST24)',\n",
       "       'Lúa thơm đặc sản (ST25)', 'Gạo dài thường', 'Gạo tài nguyên',\n",
       "       'Gạo thơm thường', 'OM 4218', 'Gạo NL', 'Gạo XK', 'Lúa IR 50404',\n",
       "       'Lúa Jasmine', 'Lúa OM 6976', 'Bắc Thơm 7', 'Gạo BC15',\n",
       "       'Gạo nếp cái hoa vàng', 'Gạo Q5', 'Lúa BC15', 'Lúa nếp 97',\n",
       "       'Lúa Q5', 'T10', 'Thiên Ưu', 'VN10', 'Lúa Nhật', 'Nếp AG',\n",
       "       'Lúa IR 50404 - lúa tươi', 'Đài thơm 8 (lúa tươi)',\n",
       "       'Gạo Hương Lài', 'Gạo Sóc Thái', 'Gạo Sóc thường',\n",
       "       'Gạo thơm Đài Loan (trong)', 'Gạo thơm Jasmine',\n",
       "       'Gạo trắng thông dụng', 'Lúa Nhật (lúa tươi)', 'Gạo 504',\n",
       "       'Gạo CLC 4900', 'Gạo Hương lài', 'Gạo Jasmine', 'Gạo nàng hoa',\n",
       "       'Lúa IR 50404 (lúa khô)', 'Lúa IR Jasmine (lúa tươi)',\n",
       "       'Lúa Jasmine (lúa khô)', 'Lúa OM 4218 (lúa khô)',\n",
       "       'Lúa OM 4218 (lúa tươi)', 'Gạo (15% tấm)', 'Gạo (25% tấm)',\n",
       "       'Gạo (5% tấm)', 'Gạo NL 15%', 'Lúa OM 18', 'Lúa OM 5451',\n",
       "       'Lúa ST 24', 'Gạo IR50404', 'Lúa OM 4218', 'Lúa OM 6977',\n",
       "       'lúa IR50404', 'Lúa Thơm RVT', 'Gạo Bắc thơm', 'Gạo J02',\n",
       "       'Gạo Khang dân', 'Gạo nếp 97', 'Gạo nếp cẩm', 'Gạo Xi23',\n",
       "       'Lúa Bắc thơm', 'Lúa Khang dân', 'Gạo Bắc thơm 7', 'Lúa VN10',\n",
       "       'Lúa ST', 'Lúa Tài nguyên cũ', 'Đài Thơm 8 (lúa khô)',\n",
       "       'Lúa OM 5451 (lúa tươi)', 'Lúa OM 18 (lúa tươi)',\n",
       "       'Lúa OM 6976 (lúa tươi)', 'Lúa ST24', 'Lúa ST24 (lúa tươi)',\n",
       "       'Lúa Thơm RVT (lúa tươi)', 'Lúa RVT (lúa tươi)',\n",
       "       'Lúa OM 4900 (lúa tươi)', 'Lúa Jasmine (lúa tươi)',\n",
       "       'Lúa OM 2514 (lúa tươi)', 'Lúa OM 2517 (lúa tươi)',\n",
       "       'Lúa ST 24 (lúa tươi)', 'Nếp vỏ (lúa tươi)',\n",
       "       'Lúa Hạt dài (lúa khô)', 'Lúa hạt dài (lúa tươi)', 'Lúa OM 4900',\n",
       "       'Lúa OM18 (lúa tươi)', 'Lúa OM576 (lúa tươi)',\n",
       "       'Lúa ST25 (lúa tươi)', 'Lúa thường IR 50404 (khô)',\n",
       "       'Lúa thường IR 50404 (tươi)', 'Lúa ST20 (lúa tươi)', 'Lúa ST5',\n",
       "       'Lúa nếp vỏ', 'Lúa Bắc thơm 7 (khô)', 'Lúa T10', 'Lúa Thiên Ưu',\n",
       "       'Lúa OM 2514', 'Lúa OM 2517', 'Lúa Một bụi đỏ (lúa tươi)',\n",
       "       'Lúa OM5454 (lúa tươi)', 'Lúa hạt dài 6976',\n",
       "       'Lúa Nàng hoa 9 (lúa tươi)', 'Lúa OM 1490', 'Lúa VD20',\n",
       "       'Lúa Nếp chùm (lúa tươi)', 'Lúa (hạt dài)',\n",
       "       'Lúa chất lượng cao (lúa khô)', 'Lúa tài nguyên (cũ) (lúa tươi)',\n",
       "       'Lúa (hạt dài) lúa tươi', 'Bắc Thơm 7 (lúa tươi)',\n",
       "       'Lúa BC15 (lúa tươi)', 'Lúa nếp 97 (lúa tươi)',\n",
       "       'Lúa nếp cái hoa vàng', 'Lúa Q5 (lúa tươi)', 'Lúa T10 (lúa tươi)',\n",
       "       'Lúa Thiên Ưu (lúa tươi)', 'Lúa VN10 (lúa tươi)',\n",
       "       'Lúa OM 1490 (lúa tươi)', 'Lúa OM4218', 'Lúa OM5451', 'Lúa OM6976',\n",
       "       'Lúa Đài Thơm 8', 'Lúa Đài Thơm 8 (lúa tươi)',\n",
       "       'Lúa OM5451 (lúa tươi)', 'Lúa OC 10', 'Nếp chùm (lúa tươi)',\n",
       "       'Nàng hoa 9 (lúa tươi)', 'Bắp cải', 'Bắp cải thảo', 'Bưởi da xanh',\n",
       "       'Bưởi Diễn', 'Cà chua', 'Cà rốt', 'Chanh', 'Củ cải', 'Đào',\n",
       "       'Đậu cove', 'Dưa chuột/dưa chuột', 'Khoai tây', 'Mận hậu',\n",
       "       'Mận tam hoa', 'Mít thái', 'Mơ', 'Mồng tơi', 'Mướp đắng',\n",
       "       'Mướp hương', 'Ổi', 'Quả bầu', 'Quả bí đỏ', 'Quả bí xanh',\n",
       "       'Rau cải', 'Rau cải bó xôi', 'Rau ngót', 'Su hào', 'Su su quả',\n",
       "       'Thanh long', 'Vải', 'Xoài tròn Sông Mã', 'Xoài tròn Yên Châu',\n",
       "       'Cam sành', 'Chôm chôm', 'Dưa hấu', 'Dưa lưới vàng', 'Măng cụt',\n",
       "       'Mướp', 'Rau cải mơ', 'Rau cải ngọt', 'Rau dền', 'Rau mùng tơi',\n",
       "       'Rau muống', 'Thanh long ruột trắng', 'Xoài Cát Chu', 'Dứa',\n",
       "       'Dưa lê', 'Quả bí đao', 'Chanh leo tím', 'Bưởi long Núm',\n",
       "       'Bưởi năm roi', 'Cải bẹ xanh', 'Cam dây', 'Chôm chôm Java',\n",
       "       'Chôm chôm nhãn', 'Chuối già', 'Chuối sim', 'Đu đủ', 'Dừa khô',\n",
       "       'Dừa tươi', 'Hồng xiêm', 'Ổi không hạt',\n",
       "       'Sầu Riêng Ri 6 (loại đẹp)', 'Sầu Riêng Ri 6 (loại xô)',\n",
       "       'Thanh long ruột đỏ', 'Trái Cóc mỡ', 'Trái dứa/thơm',\n",
       "       'Vú sữa lò rèn TG', 'Xà lách', 'Xoài keo', 'Nhãn', 'Quýt sim',\n",
       "       'Súp lơ xanh', 'Cam vinh', 'Dâu tây', 'Măng tây', 'Táo đại',\n",
       "       'Táo ngọt', 'Vú sữa lò rèn Cần Thơ', 'Rau cần', 'Cam Cao Phong',\n",
       "       'Vú sữa lò rèn Tiền Giang', 'Na thái', 'Táo', 'Vú sữa', 'Cam canh',\n",
       "       'Na sầu riêng', 'Bơ Boot', 'Táo mèo', 'Cam cara ruột đỏ',\n",
       "       'Cam ly không hạt', 'Chanh leo vàng', 'Khoai sọ',\n",
       "       'Quýt ngọt Phù Yên', 'Lê', 'Quýt Sài Gòn', 'Bưởi diễn',\n",
       "       'Mận hậu trái vụ', 'Hồng ngâm', 'Lựu', 'Bơ nếp', 'Hồng giòn', 'Na',\n",
       "       'Lê xanh', 'Mít dai', 'Mít mật', 'Xoài Đài Loan', 'Đào mỏ quạ',\n",
       "       'Mận cơm xanh', 'Xoài Thái', 'Lê Tai Nung', 'Nhãn tiêu quế',\n",
       "       'Dưa bở', 'Súp lơ', 'Quả mơ', 'Dâu tây Hana', 'Na Đài Loan',\n",
       "       'Cam Canh', 'Quýt ngọt', 'Táo chua, táo ngọt', 'Na Thái', 'Quýt',\n",
       "       'Rau cải cúc', 'Su su', 'Dưa chuột/dưa chuội', 'Cải xà lách', 'Bơ',\n",
       "       'Quýt Sài gòn', 'Cam xoàn', 'Cốc Thái', 'Ổi Đài Loan',\n",
       "       'Quýt đường', 'Xoài cát Hòa Lộc', 'Bưởi năm roi (loại 1)',\n",
       "       'Bưởi năm roi (loại 2)', 'Cam sành (loại 1)', 'Cam sành (loại 2)',\n",
       "       'Chôm chôm đường', 'Chôm chôm thái', 'Dừa xiêm', 'Nhãn tiêu da bò',\n",
       "       'Sầu riêng cơm vàng hạt lép', 'Sầu riêng KQX', 'Củ cải trắng',\n",
       "       'Trái dứa/thơm (nhỏ)', 'Trái dứa/thơm (to)',\n",
       "       'Bưởi da xanh (loại 1)', 'Bưởi da xanh (loại 2)',\n",
       "       'Nhãn xuồng vàng', 'Bồn bồn', 'Chuối', 'Dừa', 'Khổ qua',\n",
       "       'Sầu Riêng Ri 6', 'Dưa hấu (loại 1)', 'Dưa hấu (loại 2)',\n",
       "       'Dừa xiêm lai', 'Dừa xiêm xanh', 'Hạt ca cao', 'Trái Ca cao',\n",
       "       'Chanh không hạt', 'Mít ruột đỏ', 'Mít Thái', 'Chanh nấm',\n",
       "       'Khoai sọ tím', 'Nhãn ghép', 'Nhãn miền Bắc', 'Dưa vàng',\n",
       "       'Cải thảo', 'Xoài Tròn Sông Mã (Sơn La)', 'Nhãn miền Nam',\n",
       "       'Nhãn xuồng trắng', 'Xoài tròn Yên Châu (Sơn La)', 'Vải thiều',\n",
       "       'Trái Vú Sữa lò rèn TG', 'Cam Vinh', 'Trái Vú Sữa lò rèn Cần Thơ',\n",
       "       'Chanh tươi', 'Bông cải Xanh', 'Quả sấu', 'Quả Mắc cọp (lê rừng)',\n",
       "       'Mận cơm', 'Ngọn su su', 'Xoài Tròn Sông Mã', 'Xoài Úc',\n",
       "       'Me chua, me ngọt', 'Phật thủ', 'Nhãn Idor', 'Cải ngọt',\n",
       "       'Quả bí thơm', 'Xoài', 'Cải mơ', 'Sapo', 'Sầu riêng', 'Quả đào',\n",
       "       'Dâu xanh', 'Đu đủ ruột đỏ', 'Táo đá Hà Giang', 'Chanh leo',\n",
       "       'Dưa lưới', 'Bơ Sơn La', 'Chanh leo Sơn La', 'Mận hậu (loại 1)',\n",
       "       'Xoài Đài Loan Sơn La', 'Dưa hấu (trái dài)',\n",
       "       'Nhãn chín sớm Sơn La', 'Thanh long Sơn La', 'Vải Sơn La',\n",
       "       'Mận Tam Hoa (loại 1)', 'Nhãn da bò', 'Bưởi diễn Sơn La'],\n",
       "      dtype=object)"
      ]
     },
     "execution_count": 41,
     "metadata": {},
     "output_type": "execute_result"
    }
   ],
   "source": [
    "data[\"Tên_mặt_hàng\"].unique()"
   ]
  },
  {
   "cell_type": "code",
   "execution_count": 43,
   "id": "5b58e7be",
   "metadata": {},
   "outputs": [
    {
     "name": "stdout",
     "output_type": "stream",
     "text": [
      "Tên_mặt_hàng\n",
      "Cà phê Robusta nhân xô     4824\n",
      "Dưa hấu                     958\n",
      "Cà chua                     909\n",
      "Lúa IR 50404 (lúa tươi)     892\n",
      "Dưa chuột/dưa chuội         787\n",
      "                           ... \n",
      "Táo chua, táo ngọt            1\n",
      "Gạo NL                        1\n",
      "Dâu xanh                      1\n",
      "Xoài                          1\n",
      "Vải Sơn La                    1\n",
      "Length: 394, dtype: int64\n"
     ]
    }
   ],
   "source": [
    "print(data.groupby([\"Tên_mặt_hàng\"]).size().sort_values(ascending=False))"
   ]
  },
  {
   "cell_type": "code",
   "execution_count": 48,
   "id": "129ff11a",
   "metadata": {},
   "outputs": [
    {
     "name": "stdout",
     "output_type": "stream",
     "text": [
      "Tên_mặt_hàng\n",
      "Cà phê Robusta nhân xô     4824\n",
      "Dưa hấu                     958\n",
      "Cà chua                     909\n",
      "Lúa IR 50404 (lúa tươi)     892\n",
      "Dưa chuột/dưa chuội         787\n",
      "                           ... \n",
      "Táo chua, táo ngọt            1\n",
      "Gạo NL                        1\n",
      "Dâu xanh                      1\n",
      "Xoài                          1\n",
      "Vải Sơn La                    1\n",
      "Length: 394, dtype: int64\n"
     ]
    }
   ],
   "source": [
    "print(data.groupby([\"Tên_mặt_hàng\"]).size().sort_values(ascending=False))"
   ]
  },
  {
   "cell_type": "code",
   "execution_count": 42,
   "id": "6debf167",
   "metadata": {},
   "outputs": [
    {
     "data": {
      "text/plain": [
       "21"
      ]
     },
     "execution_count": 42,
     "metadata": {},
     "output_type": "execute_result"
    }
   ],
   "source": [
    "len(data[data[\"Tên_mặt_hàng\"] == \"Cà phê Arabica nhân xô\"])"
   ]
  }
 ],
 "metadata": {
  "kernelspec": {
   "display_name": "project3",
   "language": "python",
   "name": "python3"
  },
  "language_info": {
   "codemirror_mode": {
    "name": "ipython",
    "version": 3
   },
   "file_extension": ".py",
   "mimetype": "text/x-python",
   "name": "python",
   "nbconvert_exporter": "python",
   "pygments_lexer": "ipython3",
   "version": "3.11.11"
  }
 },
 "nbformat": 4,
 "nbformat_minor": 5
}
