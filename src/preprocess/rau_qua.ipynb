{
 "cells": [
  {
   "cell_type": "code",
   "execution_count": 52,
   "id": "d4156972",
   "metadata": {},
   "outputs": [],
   "source": [
    "import numpy as np\n",
    "import pandas as pd\n",
    "\n",
    "import seaborn as sns\n",
    "import matplotlib.pyplot as plt\n",
    "from scipy import stats"
   ]
  },
  {
   "cell_type": "markdown",
   "id": "7962b958",
   "metadata": {},
   "source": [
    "# Đọc dữ liệu rau, quả"
   ]
  },
  {
   "cell_type": "code",
   "execution_count": 53,
   "id": "96f2b236",
   "metadata": {},
   "outputs": [],
   "source": [
    "with open(\"../../data/Rau, qua\", \"r\", encoding=\"utf-16\") as file:\n",
    "    rauqua = file.read()"
   ]
  },
  {
   "cell_type": "code",
   "execution_count": 54,
   "id": "97a4de0e",
   "metadata": {},
   "outputs": [
    {
     "name": "stderr",
     "output_type": "stream",
     "text": [
      "C:\\Users\\DELL\\AppData\\Local\\Temp\\ipykernel_8248\\1453333364.py:1: FutureWarning: Passing literal html to 'read_html' is deprecated and will be removed in a future version. To read from a literal string, wrap it in a 'StringIO' object.\n",
      "  rauqua_df = pd.read_html(rauqua)[0]\n"
     ]
    },
    {
     "data": {
      "text/plain": [
       "(29593, 8)"
      ]
     },
     "execution_count": 54,
     "metadata": {},
     "output_type": "execute_result"
    }
   ],
   "source": [
    "rauqua_df = pd.read_html(rauqua)[0]\n",
    "rauqua_df.shape"
   ]
  },
  {
   "cell_type": "code",
   "execution_count": 55,
   "id": "3799964d",
   "metadata": {},
   "outputs": [
    {
     "data": {
      "text/html": [
       "<div>\n",
       "<style scoped>\n",
       "    .dataframe tbody tr th:only-of-type {\n",
       "        vertical-align: middle;\n",
       "    }\n",
       "\n",
       "    .dataframe tbody tr th {\n",
       "        vertical-align: top;\n",
       "    }\n",
       "\n",
       "    .dataframe thead th {\n",
       "        text-align: right;\n",
       "    }\n",
       "</style>\n",
       "<table border=\"1\" class=\"dataframe\">\n",
       "  <thead>\n",
       "    <tr style=\"text-align: right;\">\n",
       "      <th></th>\n",
       "      <th>Tên_mặt_hàng</th>\n",
       "      <th>Thị_trường</th>\n",
       "      <th>Loại_giá</th>\n",
       "      <th>Đơn_vị_tính</th>\n",
       "      <th>Loại_tiền</th>\n",
       "      <th>Nguồn</th>\n",
       "      <th>Ngày</th>\n",
       "      <th>Giá</th>\n",
       "    </tr>\n",
       "  </thead>\n",
       "  <tbody>\n",
       "    <tr>\n",
       "      <th>0</th>\n",
       "      <td>Bắp cải</td>\n",
       "      <td>Sơn La</td>\n",
       "      <td>Bán lẻ</td>\n",
       "      <td>VNĐ/Kg</td>\n",
       "      <td>VNĐ</td>\n",
       "      <td>CTV địa phương</td>\n",
       "      <td>5/19/2025 12:00:00 AM</td>\n",
       "      <td>10000.0</td>\n",
       "    </tr>\n",
       "    <tr>\n",
       "      <th>1</th>\n",
       "      <td>Bắp cải thảo</td>\n",
       "      <td>Sơn La</td>\n",
       "      <td>Bán lẻ</td>\n",
       "      <td>VNĐ/Kg</td>\n",
       "      <td>VNĐ</td>\n",
       "      <td>CTV địa phương</td>\n",
       "      <td>5/19/2025 12:00:00 AM</td>\n",
       "      <td>10000.0</td>\n",
       "    </tr>\n",
       "    <tr>\n",
       "      <th>2</th>\n",
       "      <td>Bưởi da xanh</td>\n",
       "      <td>Sơn La</td>\n",
       "      <td>Bán lẻ</td>\n",
       "      <td>VNĐ/quả</td>\n",
       "      <td>VNĐ</td>\n",
       "      <td>CTV địa phương</td>\n",
       "      <td>5/19/2025 12:00:00 AM</td>\n",
       "      <td>35000.0</td>\n",
       "    </tr>\n",
       "    <tr>\n",
       "      <th>3</th>\n",
       "      <td>Bưởi Diễn</td>\n",
       "      <td>Sơn La</td>\n",
       "      <td>Bán lẻ</td>\n",
       "      <td>VNĐ/quả</td>\n",
       "      <td>VNĐ</td>\n",
       "      <td>CTV địa phương</td>\n",
       "      <td>5/19/2025 12:00:00 AM</td>\n",
       "      <td>10000.0</td>\n",
       "    </tr>\n",
       "    <tr>\n",
       "      <th>4</th>\n",
       "      <td>Cà chua</td>\n",
       "      <td>Sơn La</td>\n",
       "      <td>Bán lẻ</td>\n",
       "      <td>VNĐ/Kg</td>\n",
       "      <td>VNĐ</td>\n",
       "      <td>CTV địa phương</td>\n",
       "      <td>5/19/2025 12:00:00 AM</td>\n",
       "      <td>12000.0</td>\n",
       "    </tr>\n",
       "  </tbody>\n",
       "</table>\n",
       "</div>"
      ],
      "text/plain": [
       "   Tên_mặt_hàng Thị_trường Loại_giá Đơn_vị_tính Loại_tiền           Nguồn  \\\n",
       "0       Bắp cải     Sơn La   Bán lẻ      VNĐ/Kg       VNĐ  CTV địa phương   \n",
       "1  Bắp cải thảo     Sơn La   Bán lẻ      VNĐ/Kg       VNĐ  CTV địa phương   \n",
       "2  Bưởi da xanh     Sơn La   Bán lẻ     VNĐ/quả       VNĐ  CTV địa phương   \n",
       "3     Bưởi Diễn     Sơn La   Bán lẻ     VNĐ/quả       VNĐ  CTV địa phương   \n",
       "4       Cà chua     Sơn La   Bán lẻ      VNĐ/Kg       VNĐ  CTV địa phương   \n",
       "\n",
       "                    Ngày      Giá  \n",
       "0  5/19/2025 12:00:00 AM  10000.0  \n",
       "1  5/19/2025 12:00:00 AM  10000.0  \n",
       "2  5/19/2025 12:00:00 AM  35000.0  \n",
       "3  5/19/2025 12:00:00 AM  10000.0  \n",
       "4  5/19/2025 12:00:00 AM  12000.0  "
      ]
     },
     "execution_count": 55,
     "metadata": {},
     "output_type": "execute_result"
    }
   ],
   "source": [
    "rauqua_df.head()"
   ]
  },
  {
   "cell_type": "markdown",
   "id": "aea6ffa4",
   "metadata": {},
   "source": [
    "# Kiểm tra dữ liệu thiếu"
   ]
  },
  {
   "cell_type": "code",
   "execution_count": 56,
   "id": "0d243b62",
   "metadata": {},
   "outputs": [
    {
     "data": {
      "text/plain": [
       "Tên_mặt_hàng    0\n",
       "Thị_trường      0\n",
       "Loại_giá        0\n",
       "Đơn_vị_tính     0\n",
       "Loại_tiền       0\n",
       "Nguồn           0\n",
       "Ngày            0\n",
       "Giá             0\n",
       "dtype: int64"
      ]
     },
     "execution_count": 56,
     "metadata": {},
     "output_type": "execute_result"
    }
   ],
   "source": [
    "rauqua_df.isnull().sum()"
   ]
  },
  {
   "cell_type": "markdown",
   "id": "9fb947b3",
   "metadata": {},
   "source": [
    "# Kiểm tra dữ liệu thừa"
   ]
  },
  {
   "cell_type": "code",
   "execution_count": 57,
   "id": "0ad2ca04",
   "metadata": {},
   "outputs": [
    {
     "data": {
      "text/plain": [
       "np.int64(0)"
      ]
     },
     "execution_count": 57,
     "metadata": {},
     "output_type": "execute_result"
    }
   ],
   "source": [
    "rauqua_df.duplicated().sum()"
   ]
  },
  {
   "cell_type": "markdown",
   "id": "5d47221a",
   "metadata": {},
   "source": [
    "# Kiểm tra giá trị ngoại lai"
   ]
  },
  {
   "cell_type": "code",
   "execution_count": 58,
   "id": "da044fcf",
   "metadata": {},
   "outputs": [],
   "source": [
    "gia_rauqua = rauqua_df[\"Giá\"]"
   ]
  },
  {
   "cell_type": "code",
   "execution_count": 59,
   "id": "1c934251",
   "metadata": {},
   "outputs": [
    {
     "data": {
      "text/plain": [
       "<Axes: ylabel='Giá'>"
      ]
     },
     "execution_count": 59,
     "metadata": {},
     "output_type": "execute_result"
    },
    {
     "data": {
      "image/png": "[encoded data removed]",
      "text/plain": [
       "<Figure size 640x480 with 1 Axes>"
      ]
     },
     "metadata": {},
     "output_type": "display_data"
    }
   ],
   "source": [
    "sns.boxplot(gia_rauqua)"
   ]
  },
  {
   "cell_type": "code",
   "execution_count": 60,
   "id": "f54b788d",
   "metadata": {},
   "outputs": [
    {
     "name": "stdout",
     "output_type": "stream",
     "text": [
      "-10000.0 54000.0\n"
     ]
    }
   ],
   "source": [
    "q1 = np.quantile(gia_rauqua, 0.25)\n",
    "q3 = np.quantile(gia_rauqua, 0.75)\n",
    "iqr = q3 - q1\n",
    "min_rauqua = q1 - 1.5 * iqr \n",
    "max_rauqua = q3 + 1.5 * iqr\n",
    "print(min_rauqua, max_rauqua)"
   ]
  },
  {
   "cell_type": "code",
   "execution_count": 61,
   "id": "59697823",
   "metadata": {},
   "outputs": [
    {
     "data": {
      "text/html": [
       "<div>\n",
       "<style scoped>\n",
       "    .dataframe tbody tr th:only-of-type {\n",
       "        vertical-align: middle;\n",
       "    }\n",
       "\n",
       "    .dataframe tbody tr th {\n",
       "        vertical-align: top;\n",
       "    }\n",
       "\n",
       "    .dataframe thead th {\n",
       "        text-align: right;\n",
       "    }\n",
       "</style>\n",
       "<table border=\"1\" class=\"dataframe\">\n",
       "  <thead>\n",
       "    <tr style=\"text-align: right;\">\n",
       "      <th></th>\n",
       "      <th>Tên_mặt_hàng</th>\n",
       "      <th>Thị_trường</th>\n",
       "      <th>Loại_giá</th>\n",
       "      <th>Đơn_vị_tính</th>\n",
       "      <th>Loại_tiền</th>\n",
       "      <th>Nguồn</th>\n",
       "      <th>Ngày</th>\n",
       "      <th>Giá</th>\n",
       "    </tr>\n",
       "  </thead>\n",
       "  <tbody>\n",
       "    <tr>\n",
       "      <th>12</th>\n",
       "      <td>Mận hậu</td>\n",
       "      <td>Sơn La</td>\n",
       "      <td>Bán lẻ</td>\n",
       "      <td>VNĐ/Kg</td>\n",
       "      <td>VNĐ</td>\n",
       "      <td>CTV địa phương</td>\n",
       "      <td>5/19/2025 12:00:00 AM</td>\n",
       "      <td>60000.0</td>\n",
       "    </tr>\n",
       "    <tr>\n",
       "      <th>32</th>\n",
       "      <td>Bưởi da xanh</td>\n",
       "      <td>Hà Nội</td>\n",
       "      <td>Bán lẻ</td>\n",
       "      <td>VNĐ/kg</td>\n",
       "      <td>VNĐ</td>\n",
       "      <td>CTV địa phương</td>\n",
       "      <td>5/13/2025 12:00:00 AM</td>\n",
       "      <td>65000.0</td>\n",
       "    </tr>\n",
       "    <tr>\n",
       "      <th>36</th>\n",
       "      <td>Chôm chôm</td>\n",
       "      <td>Hà Nội</td>\n",
       "      <td>Bán lẻ</td>\n",
       "      <td>VNĐ/kg</td>\n",
       "      <td>VNĐ</td>\n",
       "      <td>CTV địa phương</td>\n",
       "      <td>5/13/2025 12:00:00 AM</td>\n",
       "      <td>55000.0</td>\n",
       "    </tr>\n",
       "    <tr>\n",
       "      <th>41</th>\n",
       "      <td>Măng cụt</td>\n",
       "      <td>Hà Nội</td>\n",
       "      <td>Bán lẻ</td>\n",
       "      <td>VNĐ/kg</td>\n",
       "      <td>VNĐ</td>\n",
       "      <td>CTV địa phương</td>\n",
       "      <td>5/13/2025 12:00:00 AM</td>\n",
       "      <td>70000.0</td>\n",
       "    </tr>\n",
       "    <tr>\n",
       "      <th>64</th>\n",
       "      <td>Mận hậu</td>\n",
       "      <td>Sơn La</td>\n",
       "      <td>Bán lẻ</td>\n",
       "      <td>VNĐ/Kg</td>\n",
       "      <td>VNĐ</td>\n",
       "      <td>CTV địa phương</td>\n",
       "      <td>5/12/2025 12:00:00 AM</td>\n",
       "      <td>60000.0</td>\n",
       "    </tr>\n",
       "  </tbody>\n",
       "</table>\n",
       "</div>"
      ],
      "text/plain": [
       "    Tên_mặt_hàng Thị_trường Loại_giá Đơn_vị_tính Loại_tiền           Nguồn  \\\n",
       "12       Mận hậu     Sơn La   Bán lẻ      VNĐ/Kg       VNĐ  CTV địa phương   \n",
       "32  Bưởi da xanh     Hà Nội   Bán lẻ      VNĐ/kg       VNĐ  CTV địa phương   \n",
       "36     Chôm chôm     Hà Nội   Bán lẻ      VNĐ/kg       VNĐ  CTV địa phương   \n",
       "41      Măng cụt     Hà Nội   Bán lẻ      VNĐ/kg       VNĐ  CTV địa phương   \n",
       "64       Mận hậu     Sơn La   Bán lẻ      VNĐ/Kg       VNĐ  CTV địa phương   \n",
       "\n",
       "                     Ngày      Giá  \n",
       "12  5/19/2025 12:00:00 AM  60000.0  \n",
       "32  5/13/2025 12:00:00 AM  65000.0  \n",
       "36  5/13/2025 12:00:00 AM  55000.0  \n",
       "41  5/13/2025 12:00:00 AM  70000.0  \n",
       "64  5/12/2025 12:00:00 AM  60000.0  "
      ]
     },
     "execution_count": 61,
     "metadata": {},
     "output_type": "execute_result"
    }
   ],
   "source": [
    "outlier_rauqua = rauqua_df[(rauqua_df[\"Giá\"] < min_rauqua) | (rauqua_df[\"Giá\"] > max_rauqua)]\n",
    "outlier_rauqua.head()"
   ]
  },
  {
   "cell_type": "code",
   "execution_count": 62,
   "id": "995fc6f0",
   "metadata": {},
   "outputs": [
    {
     "data": {
      "text/plain": [
       "(2337, 8)"
      ]
     },
     "execution_count": 62,
     "metadata": {},
     "output_type": "execute_result"
    }
   ],
   "source": [
    "outlier_rauqua.shape"
   ]
  },
  {
   "cell_type": "markdown",
   "id": "5ab00663",
   "metadata": {},
   "source": [
    "## Kiểm tra ngoại lai từng mặt hàng"
   ]
  },
  {
   "cell_type": "code",
   "execution_count": 63,
   "id": "686a197e",
   "metadata": {},
   "outputs": [
    {
     "data": {
      "text/plain": [
       "array(['Mận hậu', 'Bưởi da xanh', 'Chôm chôm', 'Măng cụt', 'Dừa tươi',\n",
       "       'Sầu Riêng Ri 6 (loại đẹp)', 'Nhãn', 'Sầu Riêng Ri 6 (loại xô)',\n",
       "       'Dâu tây', 'Măng tây', 'Xoài Cát Chu', 'Na thái', 'Cam canh',\n",
       "       'Na sầu riêng', 'Vú sữa', 'Cam cara ruột đỏ', 'Cam ly không hạt',\n",
       "       'Chanh leo vàng', 'Mận hậu trái vụ', 'Quýt Sài Gòn', 'Hồng giòn',\n",
       "       'Na', 'Lê xanh', 'Đào mỏ quạ', 'Xoài Đài Loan', 'Lê Tai Nung',\n",
       "       'Vải', 'Dâu tây Hana', 'Na Đài Loan', 'Táo đại', 'Cam Canh',\n",
       "       'Quýt', 'Na Thái', 'Quýt Sài gòn', 'Hồng ngâm',\n",
       "       'Sầu riêng cơm vàng hạt lép', 'Xoài cát Hòa Lộc', 'Dừa', 'Dừa khô',\n",
       "       'Sầu Riêng Ri 6', 'Dừa xiêm lai', 'Dừa xiêm xanh', 'Hạt ca cao',\n",
       "       'Mít ruột đỏ', 'Nhãn xuồng trắng', 'Cam sành (loại 2)',\n",
       "       'Trái dứa/thơm', 'Nhãn tiêu da bò', 'Trái dứa/thơm (nhỏ)',\n",
       "       'Sầu riêng KQX', 'Đào', 'Súp lơ', 'Chôm chôm thái', 'Lựu',\n",
       "       'Cam sành', 'Ổi', 'Bông cải Xanh', 'Nhãn xuồng vàng', 'Sầu riêng',\n",
       "       'Quả bầu', 'Mướp', 'Trái dứa/thơm (to)', 'Dưa lưới',\n",
       "       'Mận hậu (loại 1)', 'Bưởi Diễn'], dtype=object)"
      ]
     },
     "execution_count": 63,
     "metadata": {},
     "output_type": "execute_result"
    }
   ],
   "source": [
    "outlier_mathang = outlier_rauqua[\"Tên_mặt_hàng\"].unique()\n",
    "outlier_mathang"
   ]
  },
  {
   "cell_type": "code",
   "execution_count": 64,
   "id": "c069fef8",
   "metadata": {},
   "outputs": [],
   "source": [
    "filtered_mathang = []\n",
    "\n",
    "for value in outlier_mathang:\n",
    "\n",
    "    mathang_df = rauqua_df[rauqua_df[\"Tên_mặt_hàng\"] == value]\n",
    "    gia_mathang = mathang_df[\"Giá\"]\n",
    "\n",
    "    q1 = np.quantile(gia_mathang, 0.25)\n",
    "    q3 = np.quantile(gia_mathang, 0.75)\n",
    "    iqr = q3 - q1\n",
    "    min_mathang = q1 - 1.5 * iqr\n",
    "    max_mathang = q3 + 1.5 * iqr\n",
    "\n",
    "    ngoailai = np.sum((mathang_df[\"Giá\"] < min_mathang) | (mathang_df[\"Giá\"] > max_mathang))\n",
    "    if ngoailai:\n",
    "        filtered_mathang.append(value)"
   ]
  },
  {
   "cell_type": "code",
   "execution_count": 65,
   "id": "c19bf1ec",
   "metadata": {},
   "outputs": [
    {
     "name": "stdout",
     "output_type": "stream",
     "text": [
      "65\n"
     ]
    }
   ],
   "source": [
    "print(len(outlier_mathang))"
   ]
  },
  {
   "cell_type": "code",
   "execution_count": 66,
   "id": "9f3e3b1d",
   "metadata": {},
   "outputs": [
    {
     "name": "stdout",
     "output_type": "stream",
     "text": [
      "32\n"
     ]
    }
   ],
   "source": [
    "print(len(filtered_mathang))"
   ]
  },
  {
   "cell_type": "code",
   "execution_count": 67,
   "id": "e7df06fc",
   "metadata": {},
   "outputs": [
    {
     "name": "stdout",
     "output_type": "stream",
     "text": [
      "['Chôm chôm', 'Măng cụt', 'Nhãn', 'Dâu tây', 'Na thái', 'Cam canh', 'Cam cara ruột đỏ', 'Quýt Sài Gòn', 'Na', 'Lê xanh', 'Đào mỏ quạ', 'Xoài Đài Loan', 'Vải', 'Na Thái', 'Sầu riêng cơm vàng hạt lép', 'Xoài cát Hòa Lộc', 'Sầu Riêng Ri 6', 'Dừa xiêm lai', 'Dừa xiêm xanh', 'Mít ruột đỏ', 'Cam sành (loại 2)', 'Trái dứa/thơm', 'Nhãn tiêu da bò', 'Trái dứa/thơm (nhỏ)', 'Đào', 'Lựu', 'Ổi', 'Bông cải Xanh', 'Quả bầu', 'Mướp', 'Trái dứa/thơm (to)', 'Bưởi Diễn']\n"
     ]
    }
   ],
   "source": [
    "print(filtered_mathang)"
   ]
  },
  {
   "cell_type": "markdown",
   "id": "0b85a520",
   "metadata": {},
   "source": [
    "### Kiểm tra chôm chôm"
   ]
  },
  {
   "cell_type": "code",
   "execution_count": 68,
   "id": "95a1acc9",
   "metadata": {},
   "outputs": [
    {
     "data": {
      "text/html": [
       "<div>\n",
       "<style scoped>\n",
       "    .dataframe tbody tr th:only-of-type {\n",
       "        vertical-align: middle;\n",
       "    }\n",
       "\n",
       "    .dataframe tbody tr th {\n",
       "        vertical-align: top;\n",
       "    }\n",
       "\n",
       "    .dataframe thead th {\n",
       "        text-align: right;\n",
       "    }\n",
       "</style>\n",
       "<table border=\"1\" class=\"dataframe\">\n",
       "  <thead>\n",
       "    <tr style=\"text-align: right;\">\n",
       "      <th></th>\n",
       "      <th>Tên_mặt_hàng</th>\n",
       "      <th>Thị_trường</th>\n",
       "      <th>Loại_giá</th>\n",
       "      <th>Đơn_vị_tính</th>\n",
       "      <th>Loại_tiền</th>\n",
       "      <th>Nguồn</th>\n",
       "      <th>Ngày</th>\n",
       "      <th>Giá</th>\n",
       "    </tr>\n",
       "  </thead>\n",
       "  <tbody>\n",
       "    <tr>\n",
       "      <th>36</th>\n",
       "      <td>Chôm chôm</td>\n",
       "      <td>Hà Nội</td>\n",
       "      <td>Bán lẻ</td>\n",
       "      <td>VNĐ/kg</td>\n",
       "      <td>VNĐ</td>\n",
       "      <td>CTV địa phương</td>\n",
       "      <td>5/13/2025 12:00:00 AM</td>\n",
       "      <td>55000.0</td>\n",
       "    </tr>\n",
       "    <tr>\n",
       "      <th>3243</th>\n",
       "      <td>Chôm chôm</td>\n",
       "      <td>Hà Nội</td>\n",
       "      <td>Bán lẻ</td>\n",
       "      <td>VNĐ/kg</td>\n",
       "      <td>VNĐ</td>\n",
       "      <td>CTV địa phương</td>\n",
       "      <td>10/18/2024 12:00:00 AM</td>\n",
       "      <td>55000.0</td>\n",
       "    </tr>\n",
       "    <tr>\n",
       "      <th>3320</th>\n",
       "      <td>Chôm chôm</td>\n",
       "      <td>Hà Nội</td>\n",
       "      <td>Bán lẻ</td>\n",
       "      <td>VNĐ/kg</td>\n",
       "      <td>VNĐ</td>\n",
       "      <td>CTV địa phương</td>\n",
       "      <td>10/15/2024 12:00:00 AM</td>\n",
       "      <td>55000.0</td>\n",
       "    </tr>\n",
       "    <tr>\n",
       "      <th>3371</th>\n",
       "      <td>Chôm chôm</td>\n",
       "      <td>Hà Nội</td>\n",
       "      <td>Bán lẻ</td>\n",
       "      <td>VNĐ/kg</td>\n",
       "      <td>VNĐ</td>\n",
       "      <td>CTV địa phương</td>\n",
       "      <td>10/11/2024 12:00:00 AM</td>\n",
       "      <td>55000.0</td>\n",
       "    </tr>\n",
       "    <tr>\n",
       "      <th>3449</th>\n",
       "      <td>Chôm chôm</td>\n",
       "      <td>Hà Nội</td>\n",
       "      <td>Bán lẻ</td>\n",
       "      <td>VNĐ/kg</td>\n",
       "      <td>VNĐ</td>\n",
       "      <td>CTV địa phương</td>\n",
       "      <td>10/8/2024 12:00:00 AM</td>\n",
       "      <td>55000.0</td>\n",
       "    </tr>\n",
       "    <tr>\n",
       "      <th>...</th>\n",
       "      <td>...</td>\n",
       "      <td>...</td>\n",
       "      <td>...</td>\n",
       "      <td>...</td>\n",
       "      <td>...</td>\n",
       "      <td>...</td>\n",
       "      <td>...</td>\n",
       "      <td>...</td>\n",
       "    </tr>\n",
       "    <tr>\n",
       "      <th>27808</th>\n",
       "      <td>Chôm chôm</td>\n",
       "      <td>Hà Nội</td>\n",
       "      <td>Bán lẻ</td>\n",
       "      <td>VNĐ/Kg</td>\n",
       "      <td>VNĐ</td>\n",
       "      <td>CTV địa phương</td>\n",
       "      <td>7/9/2021 12:00:00 AM</td>\n",
       "      <td>30000.0</td>\n",
       "    </tr>\n",
       "    <tr>\n",
       "      <th>27843</th>\n",
       "      <td>Chôm chôm</td>\n",
       "      <td>Hà Nội</td>\n",
       "      <td>Bán lẻ</td>\n",
       "      <td>VNĐ/Kg</td>\n",
       "      <td>VNĐ</td>\n",
       "      <td>CTV địa phương</td>\n",
       "      <td>7/8/2021 12:00:00 AM</td>\n",
       "      <td>30000.0</td>\n",
       "    </tr>\n",
       "    <tr>\n",
       "      <th>27916</th>\n",
       "      <td>Chôm chôm</td>\n",
       "      <td>Hà Nội</td>\n",
       "      <td>Bán lẻ</td>\n",
       "      <td>VNĐ/Kg</td>\n",
       "      <td>VNĐ</td>\n",
       "      <td>CTV địa phương</td>\n",
       "      <td>7/6/2021 12:00:00 AM</td>\n",
       "      <td>30000.0</td>\n",
       "    </tr>\n",
       "    <tr>\n",
       "      <th>27992</th>\n",
       "      <td>Chôm chôm</td>\n",
       "      <td>Hà Nội</td>\n",
       "      <td>Bán lẻ</td>\n",
       "      <td>VNĐ/Kg</td>\n",
       "      <td>VNĐ</td>\n",
       "      <td>CTV địa phương</td>\n",
       "      <td>7/2/2021 12:00:00 AM</td>\n",
       "      <td>35000.0</td>\n",
       "    </tr>\n",
       "    <tr>\n",
       "      <th>28028</th>\n",
       "      <td>Chôm chôm</td>\n",
       "      <td>Hà Nội</td>\n",
       "      <td>Bán lẻ</td>\n",
       "      <td>VNĐ/Kg</td>\n",
       "      <td>VNĐ</td>\n",
       "      <td>CTV địa phương</td>\n",
       "      <td>7/1/2021 12:00:00 AM</td>\n",
       "      <td>35000.0</td>\n",
       "    </tr>\n",
       "  </tbody>\n",
       "</table>\n",
       "<p>133 rows × 8 columns</p>\n",
       "</div>"
      ],
      "text/plain": [
       "      Tên_mặt_hàng Thị_trường Loại_giá Đơn_vị_tính Loại_tiền           Nguồn  \\\n",
       "36       Chôm chôm     Hà Nội   Bán lẻ      VNĐ/kg       VNĐ  CTV địa phương   \n",
       "3243     Chôm chôm     Hà Nội   Bán lẻ      VNĐ/kg       VNĐ  CTV địa phương   \n",
       "3320     Chôm chôm     Hà Nội   Bán lẻ      VNĐ/kg       VNĐ  CTV địa phương   \n",
       "3371     Chôm chôm     Hà Nội   Bán lẻ      VNĐ/kg       VNĐ  CTV địa phương   \n",
       "3449     Chôm chôm     Hà Nội   Bán lẻ      VNĐ/kg       VNĐ  CTV địa phương   \n",
       "...            ...        ...      ...         ...       ...             ...   \n",
       "27808    Chôm chôm     Hà Nội   Bán lẻ      VNĐ/Kg       VNĐ  CTV địa phương   \n",
       "27843    Chôm chôm     Hà Nội   Bán lẻ      VNĐ/Kg       VNĐ  CTV địa phương   \n",
       "27916    Chôm chôm     Hà Nội   Bán lẻ      VNĐ/Kg       VNĐ  CTV địa phương   \n",
       "27992    Chôm chôm     Hà Nội   Bán lẻ      VNĐ/Kg       VNĐ  CTV địa phương   \n",
       "28028    Chôm chôm     Hà Nội   Bán lẻ      VNĐ/Kg       VNĐ  CTV địa phương   \n",
       "\n",
       "                         Ngày      Giá  \n",
       "36      5/13/2025 12:00:00 AM  55000.0  \n",
       "3243   10/18/2024 12:00:00 AM  55000.0  \n",
       "3320   10/15/2024 12:00:00 AM  55000.0  \n",
       "3371   10/11/2024 12:00:00 AM  55000.0  \n",
       "3449    10/8/2024 12:00:00 AM  55000.0  \n",
       "...                       ...      ...  \n",
       "27808    7/9/2021 12:00:00 AM  30000.0  \n",
       "27843    7/8/2021 12:00:00 AM  30000.0  \n",
       "27916    7/6/2021 12:00:00 AM  30000.0  \n",
       "27992    7/2/2021 12:00:00 AM  35000.0  \n",
       "28028    7/1/2021 12:00:00 AM  35000.0  \n",
       "\n",
       "[133 rows x 8 columns]"
      ]
     },
     "execution_count": 68,
     "metadata": {},
     "output_type": "execute_result"
    }
   ],
   "source": [
    "rauqua_df[rauqua_df[\"Tên_mặt_hàng\"] == \"Chôm chôm\"]"
   ]
  },
  {
   "cell_type": "code",
   "execution_count": null,
   "id": "8701e340",
   "metadata": {},
   "outputs": [],
   "source": []
  }
 ],
 "metadata": {
  "kernelspec": {
   "display_name": "project3",
   "language": "python",
   "name": "python3"
  },
  "language_info": {
   "codemirror_mode": {
    "name": "ipython",
    "version": 3
   },
   "file_extension": ".py",
   "mimetype": "text/x-python",
   "name": "python",
   "nbconvert_exporter": "python",
   "pygments_lexer": "ipython3",
   "version": "3.11.11"
  }
 },
 "nbformat": 4,
 "nbformat_minor": 5
}
