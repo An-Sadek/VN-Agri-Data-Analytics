{
 "cells": [
  {
   "cell_type": "code",
   "execution_count": 19,
   "id": "fd48576f",
   "metadata": {},
   "outputs": [],
   "source": [
    "import pandas as pd\n",
    "import numpy as np\n",
    "\n",
    "import matplotlib.pyplot as plt\n",
    "import seaborn as sns"
   ]
  },
  {
   "cell_type": "code",
   "execution_count": 20,
   "id": "87333252",
   "metadata": {},
   "outputs": [],
   "source": [
    "data = pd.read_csv(\"../../data/data.csv\")"
   ]
  },
  {
   "cell_type": "code",
   "execution_count": 21,
   "id": "532b8402",
   "metadata": {},
   "outputs": [
    {
     "data": {
      "text/html": [
       "<div>\n",
       "<style scoped>\n",
       "    .dataframe tbody tr th:only-of-type {\n",
       "        vertical-align: middle;\n",
       "    }\n",
       "\n",
       "    .dataframe tbody tr th {\n",
       "        vertical-align: top;\n",
       "    }\n",
       "\n",
       "    .dataframe thead th {\n",
       "        text-align: right;\n",
       "    }\n",
       "</style>\n",
       "<table border=\"1\" class=\"dataframe\">\n",
       "  <thead>\n",
       "    <tr style=\"text-align: right;\">\n",
       "      <th></th>\n",
       "      <th>Tên_mặt_hàng</th>\n",
       "      <th>Thị_trường</th>\n",
       "      <th>Loại_giá</th>\n",
       "      <th>Đơn_vị_tính</th>\n",
       "      <th>Loại_tiền</th>\n",
       "      <th>Nguồn</th>\n",
       "      <th>Ngày</th>\n",
       "      <th>Giá</th>\n",
       "    </tr>\n",
       "  </thead>\n",
       "  <tbody>\n",
       "    <tr>\n",
       "      <th>0</th>\n",
       "      <td>Cà phê Robusta nhân xô</td>\n",
       "      <td>Đắk Lắk</td>\n",
       "      <td>Thương lái thu mua</td>\n",
       "      <td>Vnđ/Kg</td>\n",
       "      <td>VNĐ</td>\n",
       "      <td>CTV địa phương</td>\n",
       "      <td>5/9/2025 12:00:00 AM</td>\n",
       "      <td>128233.0</td>\n",
       "    </tr>\n",
       "    <tr>\n",
       "      <th>1</th>\n",
       "      <td>Cà phê Robusta nhân xô</td>\n",
       "      <td>Đắk Nông</td>\n",
       "      <td>Thương lái thu mua</td>\n",
       "      <td>Vnđ/Kg</td>\n",
       "      <td>VNĐ</td>\n",
       "      <td>CTV địa phương</td>\n",
       "      <td>5/9/2025 12:00:00 AM</td>\n",
       "      <td>128350.0</td>\n",
       "    </tr>\n",
       "    <tr>\n",
       "      <th>2</th>\n",
       "      <td>Cà phê Robusta nhân xô</td>\n",
       "      <td>Gia Lai</td>\n",
       "      <td>Thương lái thu mua</td>\n",
       "      <td>Vnđ/Kg</td>\n",
       "      <td>VNĐ</td>\n",
       "      <td>CTV địa phương</td>\n",
       "      <td>5/9/2025 12:00:00 AM</td>\n",
       "      <td>128233.0</td>\n",
       "    </tr>\n",
       "    <tr>\n",
       "      <th>3</th>\n",
       "      <td>Cà phê Robusta nhân xô</td>\n",
       "      <td>Kon Tum</td>\n",
       "      <td>Thương lái thu mua</td>\n",
       "      <td>Vnđ/Kg</td>\n",
       "      <td>VNĐ</td>\n",
       "      <td>CTV địa phương</td>\n",
       "      <td>5/9/2025 12:00:00 AM</td>\n",
       "      <td>128200.0</td>\n",
       "    </tr>\n",
       "    <tr>\n",
       "      <th>4</th>\n",
       "      <td>Cà phê Robusta nhân xô</td>\n",
       "      <td>Lâm Đồng</td>\n",
       "      <td>Thương lái thu mua</td>\n",
       "      <td>Vnđ/Kg</td>\n",
       "      <td>VNĐ</td>\n",
       "      <td>CTV địa phương</td>\n",
       "      <td>5/9/2025 12:00:00 AM</td>\n",
       "      <td>128000.0</td>\n",
       "    </tr>\n",
       "  </tbody>\n",
       "</table>\n",
       "</div>"
      ],
      "text/plain": [
       "             Tên_mặt_hàng Thị_trường            Loại_giá Đơn_vị_tính  \\\n",
       "0  Cà phê Robusta nhân xô    Đắk Lắk  Thương lái thu mua      Vnđ/Kg   \n",
       "1  Cà phê Robusta nhân xô   Đắk Nông  Thương lái thu mua      Vnđ/Kg   \n",
       "2  Cà phê Robusta nhân xô    Gia Lai  Thương lái thu mua      Vnđ/Kg   \n",
       "3  Cà phê Robusta nhân xô    Kon Tum  Thương lái thu mua      Vnđ/Kg   \n",
       "4  Cà phê Robusta nhân xô   Lâm Đồng  Thương lái thu mua      Vnđ/Kg   \n",
       "\n",
       "  Loại_tiền           Nguồn                  Ngày       Giá  \n",
       "0       VNĐ  CTV địa phương  5/9/2025 12:00:00 AM  128233.0  \n",
       "1       VNĐ  CTV địa phương  5/9/2025 12:00:00 AM  128350.0  \n",
       "2       VNĐ  CTV địa phương  5/9/2025 12:00:00 AM  128233.0  \n",
       "3       VNĐ  CTV địa phương  5/9/2025 12:00:00 AM  128200.0  \n",
       "4       VNĐ  CTV địa phương  5/9/2025 12:00:00 AM  128000.0  "
      ]
     },
     "execution_count": 21,
     "metadata": {},
     "output_type": "execute_result"
    }
   ],
   "source": [
    "data.head()"
   ]
  },
  {
   "cell_type": "markdown",
   "id": "2f5b9046",
   "metadata": {},
   "source": [
    "# Kiểm tra dữ liệu thiếu"
   ]
  },
  {
   "cell_type": "code",
   "execution_count": 22,
   "id": "bfc3f499",
   "metadata": {},
   "outputs": [
    {
     "data": {
      "text/plain": [
       "Tên_mặt_hàng    0\n",
       "Thị_trường      0\n",
       "Loại_giá        0\n",
       "Đơn_vị_tính     0\n",
       "Loại_tiền       0\n",
       "Nguồn           0\n",
       "Ngày            0\n",
       "Giá             0\n",
       "dtype: int64"
      ]
     },
     "execution_count": 22,
     "metadata": {},
     "output_type": "execute_result"
    }
   ],
   "source": [
    "data.isnull().sum()"
   ]
  },
  {
   "cell_type": "markdown",
   "id": "4733ebe0",
   "metadata": {},
   "source": [
    "# Kiểm tra dữ liệu bị trùng"
   ]
  },
  {
   "cell_type": "code",
   "execution_count": 23,
   "id": "737b8dc2",
   "metadata": {},
   "outputs": [
    {
     "data": {
      "text/plain": [
       "np.int64(3)"
      ]
     },
     "execution_count": 23,
     "metadata": {},
     "output_type": "execute_result"
    }
   ],
   "source": [
    "data.duplicated().sum()"
   ]
  },
  {
   "cell_type": "code",
   "execution_count": 24,
   "id": "ed1e3c76",
   "metadata": {},
   "outputs": [
    {
     "data": {
      "text/html": [
       "<div>\n",
       "<style scoped>\n",
       "    .dataframe tbody tr th:only-of-type {\n",
       "        vertical-align: middle;\n",
       "    }\n",
       "\n",
       "    .dataframe tbody tr th {\n",
       "        vertical-align: top;\n",
       "    }\n",
       "\n",
       "    .dataframe thead th {\n",
       "        text-align: right;\n",
       "    }\n",
       "</style>\n",
       "<table border=\"1\" class=\"dataframe\">\n",
       "  <thead>\n",
       "    <tr style=\"text-align: right;\">\n",
       "      <th></th>\n",
       "      <th>Tên_mặt_hàng</th>\n",
       "      <th>Thị_trường</th>\n",
       "      <th>Loại_giá</th>\n",
       "      <th>Đơn_vị_tính</th>\n",
       "      <th>Loại_tiền</th>\n",
       "      <th>Nguồn</th>\n",
       "      <th>Ngày</th>\n",
       "      <th>Giá</th>\n",
       "    </tr>\n",
       "  </thead>\n",
       "  <tbody>\n",
       "    <tr>\n",
       "      <th>5391</th>\n",
       "      <td>Lúa IR 50404 (lúa tươi)</td>\n",
       "      <td>An Giang</td>\n",
       "      <td>Thương lái thu mua</td>\n",
       "      <td>VNĐ/Kg</td>\n",
       "      <td>VNĐ</td>\n",
       "      <td>CTV địa phương</td>\n",
       "      <td>3/12/2025 12:00:00 AM</td>\n",
       "      <td>5600.0</td>\n",
       "    </tr>\n",
       "    <tr>\n",
       "      <th>5392</th>\n",
       "      <td>Lúa IR 50404 (lúa tươi)</td>\n",
       "      <td>An Giang</td>\n",
       "      <td>Thương lái thu mua</td>\n",
       "      <td>VNĐ/Kg</td>\n",
       "      <td>VNĐ</td>\n",
       "      <td>CTV địa phương</td>\n",
       "      <td>3/12/2025 12:00:00 AM</td>\n",
       "      <td>5600.0</td>\n",
       "    </tr>\n",
       "    <tr>\n",
       "      <th>5406</th>\n",
       "      <td>Lúa IR 50404 (lúa tươi)</td>\n",
       "      <td>An Giang</td>\n",
       "      <td>Thương lái thu mua</td>\n",
       "      <td>VNĐ/Kg</td>\n",
       "      <td>VNĐ</td>\n",
       "      <td>CTV địa phương</td>\n",
       "      <td>3/5/2025 12:00:00 AM</td>\n",
       "      <td>5600.0</td>\n",
       "    </tr>\n",
       "    <tr>\n",
       "      <th>5407</th>\n",
       "      <td>Lúa IR 50404 (lúa tươi)</td>\n",
       "      <td>An Giang</td>\n",
       "      <td>Thương lái thu mua</td>\n",
       "      <td>VNĐ/Kg</td>\n",
       "      <td>VNĐ</td>\n",
       "      <td>CTV địa phương</td>\n",
       "      <td>3/5/2025 12:00:00 AM</td>\n",
       "      <td>5600.0</td>\n",
       "    </tr>\n",
       "    <tr>\n",
       "      <th>19556</th>\n",
       "      <td>Lúa RVT (lúa tươi)</td>\n",
       "      <td>Sóc Trăng</td>\n",
       "      <td>Thương lái thu mua</td>\n",
       "      <td>VNĐ/Kg</td>\n",
       "      <td>VNĐ</td>\n",
       "      <td>CTV địa phương</td>\n",
       "      <td>9/20/2021 12:00:00 AM</td>\n",
       "      <td>6300.0</td>\n",
       "    </tr>\n",
       "    <tr>\n",
       "      <th>19563</th>\n",
       "      <td>Lúa RVT (lúa tươi)</td>\n",
       "      <td>Sóc Trăng</td>\n",
       "      <td>Thương lái thu mua</td>\n",
       "      <td>VNĐ/Kg</td>\n",
       "      <td>VNĐ</td>\n",
       "      <td>CTV địa phương</td>\n",
       "      <td>9/20/2021 12:00:00 AM</td>\n",
       "      <td>6300.0</td>\n",
       "    </tr>\n",
       "  </tbody>\n",
       "</table>\n",
       "</div>"
      ],
      "text/plain": [
       "                  Tên_mặt_hàng Thị_trường            Loại_giá Đơn_vị_tính  \\\n",
       "5391   Lúa IR 50404 (lúa tươi)   An Giang  Thương lái thu mua      VNĐ/Kg   \n",
       "5392   Lúa IR 50404 (lúa tươi)   An Giang  Thương lái thu mua      VNĐ/Kg   \n",
       "5406   Lúa IR 50404 (lúa tươi)   An Giang  Thương lái thu mua      VNĐ/Kg   \n",
       "5407   Lúa IR 50404 (lúa tươi)   An Giang  Thương lái thu mua      VNĐ/Kg   \n",
       "19556       Lúa RVT (lúa tươi)  Sóc Trăng  Thương lái thu mua      VNĐ/Kg   \n",
       "19563       Lúa RVT (lúa tươi)  Sóc Trăng  Thương lái thu mua      VNĐ/Kg   \n",
       "\n",
       "      Loại_tiền           Nguồn                   Ngày     Giá  \n",
       "5391        VNĐ  CTV địa phương  3/12/2025 12:00:00 AM  5600.0  \n",
       "5392        VNĐ  CTV địa phương  3/12/2025 12:00:00 AM  5600.0  \n",
       "5406        VNĐ  CTV địa phương   3/5/2025 12:00:00 AM  5600.0  \n",
       "5407        VNĐ  CTV địa phương   3/5/2025 12:00:00 AM  5600.0  \n",
       "19556       VNĐ  CTV địa phương  9/20/2021 12:00:00 AM  6300.0  \n",
       "19563       VNĐ  CTV địa phương  9/20/2021 12:00:00 AM  6300.0  "
      ]
     },
     "execution_count": 24,
     "metadata": {},
     "output_type": "execute_result"
    }
   ],
   "source": [
    "data[data.duplicated(keep=False)]"
   ]
  },
  {
   "cell_type": "code",
   "execution_count": 25,
   "id": "35319786",
   "metadata": {},
   "outputs": [],
   "source": [
    "pre_data = data.drop_duplicates()"
   ]
  },
  {
   "cell_type": "code",
   "execution_count": 26,
   "id": "fcf6a1ea",
   "metadata": {},
   "outputs": [
    {
     "data": {
      "text/plain": [
       "np.int64(0)"
      ]
     },
     "execution_count": 26,
     "metadata": {},
     "output_type": "execute_result"
    }
   ],
   "source": [
    "pre_data.duplicated().sum()"
   ]
  },
  {
   "cell_type": "code",
   "execution_count": 27,
   "id": "ee556002",
   "metadata": {},
   "outputs": [],
   "source": [
    "pre_data.to_csv(\"../../data/pre_data.csv\", index=False)"
   ]
  }
 ],
 "metadata": {
  "kernelspec": {
   "display_name": "project3",
   "language": "python",
   "name": "python3"
  },
  "language_info": {
   "codemirror_mode": {
    "name": "ipython",
    "version": 3
   },
   "file_extension": ".py",
   "mimetype": "text/x-python",
   "name": "python",
   "nbconvert_exporter": "python",
   "pygments_lexer": "ipython3",
   "version": "3.11.11"
  }
 },
 "nbformat": 4,
 "nbformat_minor": 5
}
