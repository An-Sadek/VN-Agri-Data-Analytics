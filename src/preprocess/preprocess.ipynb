{
 "cells": [
  {
   "cell_type": "code",
   "execution_count": 2,
   "id": "fd48576f",
   "metadata": {},
   "outputs": [],
   "source": [
    "import pandas as pd\n",
    "import numpy as np\n",
    "\n",
    "import matplotlib.pyplot as plt\n",
    "import seaborn as sns"
   ]
  },
  {
   "cell_type": "code",
   "execution_count": 3,
   "id": "87333252",
   "metadata": {},
   "outputs": [],
   "source": [
    "data = pd.read_csv(\"../../data/data.csv\")"
   ]
  },
  {
   "cell_type": "code",
   "execution_count": 4,
   "id": "532b8402",
   "metadata": {},
   "outputs": [
    {
     "data": {
      "text/html": [
       "<div>\n",
       "<style scoped>\n",
       "    .dataframe tbody tr th:only-of-type {\n",
       "        vertical-align: middle;\n",
       "    }\n",
       "\n",
       "    .dataframe tbody tr th {\n",
       "        vertical-align: top;\n",
       "    }\n",
       "\n",
       "    .dataframe thead th {\n",
       "        text-align: right;\n",
       "    }\n",
       "</style>\n",
       "<table border=\"1\" class=\"dataframe\">\n",
       "  <thead>\n",
       "    <tr style=\"text-align: right;\">\n",
       "      <th></th>\n",
       "      <th>Tên_mặt_hàng</th>\n",
       "      <th>Thị_trường</th>\n",
       "      <th>Loại_giá</th>\n",
       "      <th>Đơn_vị_tính</th>\n",
       "      <th>Loại_tiền</th>\n",
       "      <th>Nguồn</th>\n",
       "      <th>Ngày</th>\n",
       "      <th>Giá</th>\n",
       "      <th>Ngành_hàng</th>\n",
       "    </tr>\n",
       "  </thead>\n",
       "  <tbody>\n",
       "    <tr>\n",
       "      <th>0</th>\n",
       "      <td>Cà phê Robusta nhân xô</td>\n",
       "      <td>Đắk Lắk</td>\n",
       "      <td>Thương lái thu mua</td>\n",
       "      <td>Vnđ/Kg</td>\n",
       "      <td>VNĐ</td>\n",
       "      <td>CTV địa phương</td>\n",
       "      <td>5/9/2025 12:00:00 AM</td>\n",
       "      <td>128233.0</td>\n",
       "      <td>Cà phê</td>\n",
       "    </tr>\n",
       "    <tr>\n",
       "      <th>1</th>\n",
       "      <td>Cà phê Robusta nhân xô</td>\n",
       "      <td>Đắk Nông</td>\n",
       "      <td>Thương lái thu mua</td>\n",
       "      <td>Vnđ/Kg</td>\n",
       "      <td>VNĐ</td>\n",
       "      <td>CTV địa phương</td>\n",
       "      <td>5/9/2025 12:00:00 AM</td>\n",
       "      <td>128350.0</td>\n",
       "      <td>Cà phê</td>\n",
       "    </tr>\n",
       "    <tr>\n",
       "      <th>2</th>\n",
       "      <td>Cà phê Robusta nhân xô</td>\n",
       "      <td>Gia Lai</td>\n",
       "      <td>Thương lái thu mua</td>\n",
       "      <td>Vnđ/Kg</td>\n",
       "      <td>VNĐ</td>\n",
       "      <td>CTV địa phương</td>\n",
       "      <td>5/9/2025 12:00:00 AM</td>\n",
       "      <td>128233.0</td>\n",
       "      <td>Cà phê</td>\n",
       "    </tr>\n",
       "    <tr>\n",
       "      <th>3</th>\n",
       "      <td>Cà phê Robusta nhân xô</td>\n",
       "      <td>Kon Tum</td>\n",
       "      <td>Thương lái thu mua</td>\n",
       "      <td>Vnđ/Kg</td>\n",
       "      <td>VNĐ</td>\n",
       "      <td>CTV địa phương</td>\n",
       "      <td>5/9/2025 12:00:00 AM</td>\n",
       "      <td>128200.0</td>\n",
       "      <td>Cà phê</td>\n",
       "    </tr>\n",
       "    <tr>\n",
       "      <th>4</th>\n",
       "      <td>Cà phê Robusta nhân xô</td>\n",
       "      <td>Lâm Đồng</td>\n",
       "      <td>Thương lái thu mua</td>\n",
       "      <td>Vnđ/Kg</td>\n",
       "      <td>VNĐ</td>\n",
       "      <td>CTV địa phương</td>\n",
       "      <td>5/9/2025 12:00:00 AM</td>\n",
       "      <td>128000.0</td>\n",
       "      <td>Cà phê</td>\n",
       "    </tr>\n",
       "  </tbody>\n",
       "</table>\n",
       "</div>"
      ],
      "text/plain": [
       "             Tên_mặt_hàng Thị_trường            Loại_giá Đơn_vị_tính  \\\n",
       "0  Cà phê Robusta nhân xô    Đắk Lắk  Thương lái thu mua      Vnđ/Kg   \n",
       "1  Cà phê Robusta nhân xô   Đắk Nông  Thương lái thu mua      Vnđ/Kg   \n",
       "2  Cà phê Robusta nhân xô    Gia Lai  Thương lái thu mua      Vnđ/Kg   \n",
       "3  Cà phê Robusta nhân xô    Kon Tum  Thương lái thu mua      Vnđ/Kg   \n",
       "4  Cà phê Robusta nhân xô   Lâm Đồng  Thương lái thu mua      Vnđ/Kg   \n",
       "\n",
       "  Loại_tiền           Nguồn                  Ngày       Giá Ngành_hàng  \n",
       "0       VNĐ  CTV địa phương  5/9/2025 12:00:00 AM  128233.0     Cà phê  \n",
       "1       VNĐ  CTV địa phương  5/9/2025 12:00:00 AM  128350.0     Cà phê  \n",
       "2       VNĐ  CTV địa phương  5/9/2025 12:00:00 AM  128233.0     Cà phê  \n",
       "3       VNĐ  CTV địa phương  5/9/2025 12:00:00 AM  128200.0     Cà phê  \n",
       "4       VNĐ  CTV địa phương  5/9/2025 12:00:00 AM  128000.0     Cà phê  "
      ]
     },
     "execution_count": 4,
     "metadata": {},
     "output_type": "execute_result"
    }
   ],
   "source": [
    "data.head()"
   ]
  },
  {
   "cell_type": "markdown",
   "id": "851afb05",
   "metadata": {},
   "source": [
    "# Kiểm tra giá trị từng cột"
   ]
  },
  {
   "cell_type": "code",
   "execution_count": 5,
   "id": "fc821df3",
   "metadata": {},
   "outputs": [
    {
     "data": {
      "text/plain": [
       "Index(['Tên_mặt_hàng', 'Thị_trường', 'Loại_giá', 'Đơn_vị_tính', 'Loại_tiền',\n",
       "       'Nguồn', 'Ngày', 'Giá', 'Ngành_hàng'],\n",
       "      dtype='object')"
      ]
     },
     "execution_count": 5,
     "metadata": {},
     "output_type": "execute_result"
    }
   ],
   "source": [
    "data.columns"
   ]
  },
  {
   "cell_type": "markdown",
   "id": "a2d7f266",
   "metadata": {},
   "source": [
    "## Tên mặt hàng"
   ]
  },
  {
   "cell_type": "code",
   "execution_count": 6,
   "id": "ea87a98a",
   "metadata": {},
   "outputs": [
    {
     "data": {
      "text/plain": [
       "Tên_mặt_hàng\n",
       "Cà phê Robusta nhân xô       4824\n",
       "Dưa hấu                       958\n",
       "Cà chua                       909\n",
       "Lúa IR 50404 (lúa tươi)       894\n",
       "Dưa chuột/dưa chuội           787\n",
       "                             ... \n",
       "Lúa Nếp chùm (lúa tươi)         1\n",
       "Dâu xanh                        1\n",
       "Lúa OM5454 (lúa tươi)           1\n",
       "Lúa Một bụi đỏ (lúa tươi)       1\n",
       "Táo đá Hà Giang                 1\n",
       "Name: count, Length: 394, dtype: int64"
      ]
     },
     "execution_count": 6,
     "metadata": {},
     "output_type": "execute_result"
    }
   ],
   "source": [
    "data[\"Tên_mặt_hàng\"].value_counts()"
   ]
  },
  {
   "cell_type": "code",
   "execution_count": 7,
   "id": "b6c97598",
   "metadata": {},
   "outputs": [
    {
     "data": {
      "text/plain": [
       "<BarContainer object of 394 artists>"
      ]
     },
     "execution_count": 7,
     "metadata": {},
     "output_type": "execute_result"
    },
    {
     "data": {
      "image/png": "[encoded data removed]",
      "text/plain": [
       "<Figure size 640x480 with 1 Axes>"
      ]
     },
     "metadata": {},
     "output_type": "display_data"
    }
   ],
   "source": [
    "count_mathang = data[\"Tên_mặt_hàng\"].value_counts().values\n",
    "plt.bar(range(len(count_mathang)), count_mathang)"
   ]
  },
  {
   "cell_type": "markdown",
   "id": "380a4047",
   "metadata": {},
   "source": [
    "## Thị trường"
   ]
  },
  {
   "cell_type": "code",
   "execution_count": 8,
   "id": "93a805de",
   "metadata": {},
   "outputs": [
    {
     "data": {
      "text/plain": [
       "<BarContainer object of 22 artists>"
      ]
     },
     "execution_count": 8,
     "metadata": {},
     "output_type": "execute_result"
    },
    {
     "data": {
      "image/png": "[encoded data removed]",
      "text/plain": [
       "<Figure size 640x480 with 1 Axes>"
      ]
     },
     "metadata": {},
     "output_type": "display_data"
    }
   ],
   "source": [
    "count_thitruong = data[\"Thị_trường\"].value_counts().values\n",
    "plt.bar(range(len(count_thitruong)), count_thitruong)"
   ]
  },
  {
   "cell_type": "markdown",
   "id": "49e0bbda",
   "metadata": {},
   "source": [
    "## Loại giá"
   ]
  },
  {
   "cell_type": "code",
   "execution_count": 16,
   "id": "b542eb47",
   "metadata": {},
   "outputs": [
    {
     "data": {
      "text/plain": [
       "array(['Thương lái thu mua', 'Công ty thu mua', 'Đại lý thu mua',\n",
       "       'Thu mua', 'Bán ra', 'Xuất khẩu', 'Tại chợ', 'Bán lẻ', 'Khác',\n",
       "       'Thu mua tại vườn', 'Bán buôn', 'Vựa thu mua'], dtype=object)"
      ]
     },
     "execution_count": 16,
     "metadata": {},
     "output_type": "execute_result"
    }
   ],
   "source": [
    "data[\"Loại_giá\"].unique()"
   ]
  },
  {
   "cell_type": "code",
   "execution_count": 10,
   "id": "d1fdbf51",
   "metadata": {},
   "outputs": [
    {
     "data": {
      "text/plain": [
       "<BarContainer object of 12 artists>"
      ]
     },
     "execution_count": 10,
     "metadata": {},
     "output_type": "execute_result"
    },
    {
     "data": {
      "image/png": "[encoded data removed]",
      "text/plain": [
       "<Figure size 640x480 with 1 Axes>"
      ]
     },
     "metadata": {},
     "output_type": "display_data"
    }
   ],
   "source": [
    "count_loaigia = data[\"Loại_giá\"].value_counts().values\n",
    "plt.bar(range(len(count_loaigia)), count_loaigia)"
   ]
  },
  {
   "cell_type": "markdown",
   "id": "a25f0b76",
   "metadata": {},
   "source": [
    "## Đơn vị tính"
   ]
  },
  {
   "cell_type": "code",
   "execution_count": 11,
   "id": "ae865125",
   "metadata": {},
   "outputs": [
    {
     "data": {
      "text/plain": [
       "<BarContainer object of 10 artists>"
      ]
     },
     "execution_count": 11,
     "metadata": {},
     "output_type": "execute_result"
    },
    {
     "data": {
      "image/png": "[encoded data removed]",
      "text/plain": [
       "<Figure size 640x480 with 1 Axes>"
      ]
     },
     "metadata": {},
     "output_type": "display_data"
    }
   ],
   "source": [
    "count_dvtinh = data[\"Đơn_vị_tính\"].value_counts().values\n",
    "plt.bar(range(len(count_dvtinh)), count_dvtinh)"
   ]
  },
  {
   "cell_type": "code",
   "execution_count": 12,
   "id": "c7d1c2d2",
   "metadata": {},
   "outputs": [
    {
     "name": "stdout",
     "output_type": "stream",
     "text": [
      "[33573  8220  6748  1378   572   562   181   161    70    23]\n"
     ]
    }
   ],
   "source": [
    "print(count_dvtinh)"
   ]
  },
  {
   "cell_type": "code",
   "execution_count": 13,
   "id": "a717d67e",
   "metadata": {},
   "outputs": [
    {
     "name": "stdout",
     "output_type": "stream",
     "text": [
      "['Vnđ/Kg' 'VNĐ/kg' 'VNĐ/Kg' 'Đồng/kg' 'VNĐ/quả' 'VNĐ/mớ' 'VNĐ/Chục quả'\n",
      " 'VNĐ/củ' 'VNĐ/Quả' 'VNĐ/cây']\n"
     ]
    }
   ],
   "source": [
    "print(data[\"Đơn_vị_tính\"].unique())"
   ]
  },
  {
   "cell_type": "markdown",
   "id": "d1d24042",
   "metadata": {},
   "source": [
    "## Nguồn"
   ]
  },
  {
   "cell_type": "code",
   "execution_count": 14,
   "id": "7e5b8bef",
   "metadata": {},
   "outputs": [
    {
     "data": {
      "text/plain": [
       "<BarContainer object of 14 artists>"
      ]
     },
     "execution_count": 14,
     "metadata": {},
     "output_type": "execute_result"
    },
    {
     "data": {
      "image/png": "[encoded data removed]",
      "text/plain": [
       "<Figure size 640x480 with 1 Axes>"
      ]
     },
     "metadata": {},
     "output_type": "display_data"
    }
   ],
   "source": [
    "count_nguon = data[\"Nguồn\"].value_counts().values\n",
    "plt.bar(range(len(count_nguon)), count_nguon)"
   ]
  },
  {
   "cell_type": "code",
   "execution_count": 15,
   "id": "9ce8c7b5",
   "metadata": {},
   "outputs": [
    {
     "data": {
      "text/plain": [
       "array([50946,   100,    90,    66,    60,    48,    42,    30,    21,\n",
       "          21,    20,    20,    18,     6])"
      ]
     },
     "execution_count": 15,
     "metadata": {},
     "output_type": "execute_result"
    }
   ],
   "source": [
    "count_nguon"
   ]
  }
 ],
 "metadata": {
  "kernelspec": {
   "display_name": "project3",
   "language": "python",
   "name": "python3"
  },
  "language_info": {
   "codemirror_mode": {
    "name": "ipython",
    "version": 3
   },
   "file_extension": ".py",
   "mimetype": "text/x-python",
   "name": "python",
   "nbconvert_exporter": "python",
   "pygments_lexer": "ipython3",
   "version": "3.11.11"
  }
 },
 "nbformat": 4,
 "nbformat_minor": 5
}
