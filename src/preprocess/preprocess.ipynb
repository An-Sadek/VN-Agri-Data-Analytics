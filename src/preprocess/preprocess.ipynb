{
 "cells": [
  {
   "cell_type": "code",
   "execution_count": 1,
   "id": "fd48576f",
   "metadata": {},
   "outputs": [],
   "source": [
    "import pandas as pd\n",
    "import numpy as np\n",
    "\n",
    "import matplotlib.pyplot as plt\n",
    "import seaborn as sns"
   ]
  },
  {
   "cell_type": "code",
   "execution_count": 2,
   "id": "87333252",
   "metadata": {},
   "outputs": [],
   "source": [
    "data = pd.read_csv(\"../../data/data.csv\")"
   ]
  },
  {
   "cell_type": "code",
   "execution_count": 3,
   "id": "532b8402",
   "metadata": {},
   "outputs": [
    {
     "data": {
      "text/html": [
       "<div>\n",
       "<style scoped>\n",
       "    .dataframe tbody tr th:only-of-type {\n",
       "        vertical-align: middle;\n",
       "    }\n",
       "\n",
       "    .dataframe tbody tr th {\n",
       "        vertical-align: top;\n",
       "    }\n",
       "\n",
       "    .dataframe thead th {\n",
       "        text-align: right;\n",
       "    }\n",
       "</style>\n",
       "<table border=\"1\" class=\"dataframe\">\n",
       "  <thead>\n",
       "    <tr style=\"text-align: right;\">\n",
       "      <th></th>\n",
       "      <th>Tên_mặt_hàng</th>\n",
       "      <th>Thị_trường</th>\n",
       "      <th>Loại_giá</th>\n",
       "      <th>Đơn_vị_tính</th>\n",
       "      <th>Loại_tiền</th>\n",
       "      <th>Nguồn</th>\n",
       "      <th>Ngày</th>\n",
       "      <th>Giá</th>\n",
       "      <th>Ngành_hàng</th>\n",
       "    </tr>\n",
       "  </thead>\n",
       "  <tbody>\n",
       "    <tr>\n",
       "      <th>0</th>\n",
       "      <td>Cà phê Robusta nhân xô</td>\n",
       "      <td>Đắk Lắk</td>\n",
       "      <td>Thương lái thu mua</td>\n",
       "      <td>Vnđ/Kg</td>\n",
       "      <td>VNĐ</td>\n",
       "      <td>CTV địa phương</td>\n",
       "      <td>5/9/2025 12:00:00 AM</td>\n",
       "      <td>128233.0</td>\n",
       "      <td>Cà phê</td>\n",
       "    </tr>\n",
       "    <tr>\n",
       "      <th>1</th>\n",
       "      <td>Cà phê Robusta nhân xô</td>\n",
       "      <td>Đắk Nông</td>\n",
       "      <td>Thương lái thu mua</td>\n",
       "      <td>Vnđ/Kg</td>\n",
       "      <td>VNĐ</td>\n",
       "      <td>CTV địa phương</td>\n",
       "      <td>5/9/2025 12:00:00 AM</td>\n",
       "      <td>128350.0</td>\n",
       "      <td>Cà phê</td>\n",
       "    </tr>\n",
       "    <tr>\n",
       "      <th>2</th>\n",
       "      <td>Cà phê Robusta nhân xô</td>\n",
       "      <td>Gia Lai</td>\n",
       "      <td>Thương lái thu mua</td>\n",
       "      <td>Vnđ/Kg</td>\n",
       "      <td>VNĐ</td>\n",
       "      <td>CTV địa phương</td>\n",
       "      <td>5/9/2025 12:00:00 AM</td>\n",
       "      <td>128233.0</td>\n",
       "      <td>Cà phê</td>\n",
       "    </tr>\n",
       "    <tr>\n",
       "      <th>3</th>\n",
       "      <td>Cà phê Robusta nhân xô</td>\n",
       "      <td>Kon Tum</td>\n",
       "      <td>Thương lái thu mua</td>\n",
       "      <td>Vnđ/Kg</td>\n",
       "      <td>VNĐ</td>\n",
       "      <td>CTV địa phương</td>\n",
       "      <td>5/9/2025 12:00:00 AM</td>\n",
       "      <td>128200.0</td>\n",
       "      <td>Cà phê</td>\n",
       "    </tr>\n",
       "    <tr>\n",
       "      <th>4</th>\n",
       "      <td>Cà phê Robusta nhân xô</td>\n",
       "      <td>Lâm Đồng</td>\n",
       "      <td>Thương lái thu mua</td>\n",
       "      <td>Vnđ/Kg</td>\n",
       "      <td>VNĐ</td>\n",
       "      <td>CTV địa phương</td>\n",
       "      <td>5/9/2025 12:00:00 AM</td>\n",
       "      <td>128000.0</td>\n",
       "      <td>Cà phê</td>\n",
       "    </tr>\n",
       "  </tbody>\n",
       "</table>\n",
       "</div>"
      ],
      "text/plain": [
       "             Tên_mặt_hàng Thị_trường            Loại_giá Đơn_vị_tính  \\\n",
       "0  Cà phê Robusta nhân xô    Đắk Lắk  Thương lái thu mua      Vnđ/Kg   \n",
       "1  Cà phê Robusta nhân xô   Đắk Nông  Thương lái thu mua      Vnđ/Kg   \n",
       "2  Cà phê Robusta nhân xô    Gia Lai  Thương lái thu mua      Vnđ/Kg   \n",
       "3  Cà phê Robusta nhân xô    Kon Tum  Thương lái thu mua      Vnđ/Kg   \n",
       "4  Cà phê Robusta nhân xô   Lâm Đồng  Thương lái thu mua      Vnđ/Kg   \n",
       "\n",
       "  Loại_tiền           Nguồn                  Ngày       Giá Ngành_hàng  \n",
       "0       VNĐ  CTV địa phương  5/9/2025 12:00:00 AM  128233.0     Cà phê  \n",
       "1       VNĐ  CTV địa phương  5/9/2025 12:00:00 AM  128350.0     Cà phê  \n",
       "2       VNĐ  CTV địa phương  5/9/2025 12:00:00 AM  128233.0     Cà phê  \n",
       "3       VNĐ  CTV địa phương  5/9/2025 12:00:00 AM  128200.0     Cà phê  \n",
       "4       VNĐ  CTV địa phương  5/9/2025 12:00:00 AM  128000.0     Cà phê  "
      ]
     },
     "execution_count": 3,
     "metadata": {},
     "output_type": "execute_result"
    }
   ],
   "source": [
    "data.head()"
   ]
  },
  {
   "cell_type": "markdown",
   "id": "851afb05",
   "metadata": {},
   "source": [
    "# Kiểm tra giá trị từng cột"
   ]
  },
  {
   "cell_type": "code",
   "execution_count": 4,
   "id": "fc821df3",
   "metadata": {},
   "outputs": [
    {
     "data": {
      "text/plain": [
       "Index(['Tên_mặt_hàng', 'Thị_trường', 'Loại_giá', 'Đơn_vị_tính', 'Loại_tiền',\n",
       "       'Nguồn', 'Ngày', 'Giá', 'Ngành_hàng'],\n",
       "      dtype='object')"
      ]
     },
     "execution_count": 4,
     "metadata": {},
     "output_type": "execute_result"
    }
   ],
   "source": [
    "data.columns"
   ]
  },
  {
   "cell_type": "markdown",
   "id": "a2d7f266",
   "metadata": {},
   "source": [
    "## Tên mặt hàng"
   ]
  },
  {
   "cell_type": "code",
   "execution_count": 5,
   "id": "ea87a98a",
   "metadata": {},
   "outputs": [
    {
     "data": {
      "text/plain": [
       "Tên_mặt_hàng\n",
       "Cà phê Robusta nhân xô       4824\n",
       "Dưa hấu                       958\n",
       "Cà chua                       909\n",
       "Lúa IR 50404 (lúa tươi)       894\n",
       "Dưa chuột/dưa chuội           787\n",
       "                             ... \n",
       "Lúa Nếp chùm (lúa tươi)         1\n",
       "Dâu xanh                        1\n",
       "Lúa OM5454 (lúa tươi)           1\n",
       "Lúa Một bụi đỏ (lúa tươi)       1\n",
       "Táo đá Hà Giang                 1\n",
       "Name: count, Length: 394, dtype: int64"
      ]
     },
     "execution_count": 5,
     "metadata": {},
     "output_type": "execute_result"
    }
   ],
   "source": [
    "data[\"Tên_mặt_hàng\"].value_counts()"
   ]
  },
  {
   "cell_type": "code",
   "execution_count": 6,
   "id": "b6c97598",
   "metadata": {},
   "outputs": [
    {
     "data": {
      "text/plain": [
       "<StemContainer object of 3 artists>"
      ]
     },
     "execution_count": 6,
     "metadata": {},
     "output_type": "execute_result"
    },
    {
     "data": {
      "image/png": "[encoded data removed]",
      "text/plain": [
       "<Figure size 640x480 with 1 Axes>"
      ]
     },
     "metadata": {},
     "output_type": "display_data"
    }
   ],
   "source": [
    "count_mathang = data[\"Tên_mặt_hàng\"].value_counts().values\n",
    "plt.stem(count_mathang)"
   ]
  },
  {
   "cell_type": "markdown",
   "id": "380a4047",
   "metadata": {},
   "source": [
    "## Thị trường"
   ]
  },
  {
   "cell_type": "code",
   "execution_count": 7,
   "id": "93a805de",
   "metadata": {},
   "outputs": [
    {
     "data": {
      "text/plain": [
       "<StemContainer object of 3 artists>"
      ]
     },
     "execution_count": 7,
     "metadata": {},
     "output_type": "execute_result"
    },
    {
     "data": {
      "image/png": "[encoded data removed]",
      "text/plain": [
       "<Figure size 640x480 with 1 Axes>"
      ]
     },
     "metadata": {},
     "output_type": "display_data"
    }
   ],
   "source": [
    "count_thitruong = data[\"Thị_trường\"].value_counts().values\n",
    "plt.stem(count_thitruong)"
   ]
  },
  {
   "cell_type": "markdown",
   "id": "49e0bbda",
   "metadata": {},
   "source": [
    "## Loại giá"
   ]
  },
  {
   "cell_type": "code",
   "execution_count": 8,
   "id": "b542eb47",
   "metadata": {},
   "outputs": [
    {
     "data": {
      "text/plain": [
       "array(['Thương lái thu mua', 'Công ty thu mua', 'Đại lý thu mua',\n",
       "       'Thu mua', 'Bán ra', 'Xuất khẩu', 'Tại chợ', 'Bán lẻ', 'Khác',\n",
       "       'Thu mua tại vườn', 'Bán buôn', 'Vựa thu mua'], dtype=object)"
      ]
     },
     "execution_count": 8,
     "metadata": {},
     "output_type": "execute_result"
    }
   ],
   "source": [
    "data[\"Loại_giá\"].unique()"
   ]
  },
  {
   "cell_type": "code",
   "execution_count": 9,
   "id": "d1fdbf51",
   "metadata": {},
   "outputs": [
    {
     "data": {
      "text/plain": [
       "<StemContainer object of 3 artists>"
      ]
     },
     "execution_count": 9,
     "metadata": {},
     "output_type": "execute_result"
    },
    {
     "data": {
      "image/png": "[encoded data removed]",
      "text/plain": [
       "<Figure size 640x480 with 1 Axes>"
      ]
     },
     "metadata": {},
     "output_type": "display_data"
    }
   ],
   "source": [
    "count_loaigia = data[\"Loại_giá\"].value_counts().values\n",
    "plt.stem(count_loaigia)"
   ]
  },
  {
   "cell_type": "markdown",
   "id": "a25f0b76",
   "metadata": {},
   "source": [
    "## Đơn vị tính"
   ]
  },
  {
   "cell_type": "code",
   "execution_count": 10,
   "id": "ae865125",
   "metadata": {},
   "outputs": [
    {
     "data": {
      "text/plain": [
       "<StemContainer object of 3 artists>"
      ]
     },
     "execution_count": 10,
     "metadata": {},
     "output_type": "execute_result"
    },
    {
     "data": {
      "image/png": "[encoded data removed]",
      "text/plain": [
       "<Figure size 640x480 with 1 Axes>"
      ]
     },
     "metadata": {},
     "output_type": "display_data"
    }
   ],
   "source": [
    "count_dvtinh = data[\"Đơn_vị_tính\"].value_counts().values\n",
    "plt.stem(count_dvtinh)"
   ]
  },
  {
   "cell_type": "code",
   "execution_count": 11,
   "id": "c7d1c2d2",
   "metadata": {},
   "outputs": [
    {
     "name": "stdout",
     "output_type": "stream",
     "text": [
      "[33573  8220  6748  1378   572   562   181   161    70    23]\n"
     ]
    }
   ],
   "source": [
    "print(count_dvtinh)"
   ]
  },
  {
   "cell_type": "code",
   "execution_count": 12,
   "id": "a717d67e",
   "metadata": {},
   "outputs": [
    {
     "name": "stdout",
     "output_type": "stream",
     "text": [
      "['Vnđ/Kg' 'VNĐ/kg' 'VNĐ/Kg' 'Đồng/kg' 'VNĐ/quả' 'VNĐ/mớ' 'VNĐ/Chục quả'\n",
      " 'VNĐ/củ' 'VNĐ/Quả' 'VNĐ/cây']\n"
     ]
    }
   ],
   "source": [
    "print(data[\"Đơn_vị_tính\"].unique())"
   ]
  },
  {
   "cell_type": "markdown",
   "id": "d1d24042",
   "metadata": {},
   "source": [
    "## Nguồn"
   ]
  },
  {
   "cell_type": "code",
   "execution_count": 13,
   "id": "7e5b8bef",
   "metadata": {},
   "outputs": [
    {
     "data": {
      "text/plain": [
       "<StemContainer object of 3 artists>"
      ]
     },
     "execution_count": 13,
     "metadata": {},
     "output_type": "execute_result"
    },
    {
     "data": {
      "image/png": "[encoded data removed]",
      "text/plain": [
       "<Figure size 640x480 with 1 Axes>"
      ]
     },
     "metadata": {},
     "output_type": "display_data"
    }
   ],
   "source": [
    "count_nguon = data[\"Nguồn\"].value_counts().values\n",
    "plt.stem(count_nguon)"
   ]
  },
  {
   "cell_type": "code",
   "execution_count": 14,
   "id": "9ce8c7b5",
   "metadata": {},
   "outputs": [
    {
     "data": {
      "text/plain": [
       "array([50946,   100,    90,    66,    60,    48,    42,    30,    21,\n",
       "          21,    20,    20,    18,     6])"
      ]
     },
     "execution_count": 14,
     "metadata": {},
     "output_type": "execute_result"
    }
   ],
   "source": [
    "count_nguon"
   ]
  },
  {
   "cell_type": "markdown",
   "id": "4f667d1d",
   "metadata": {},
   "source": [
    "# Loại bỏ cột \"Loại tiền\""
   ]
  },
  {
   "cell_type": "code",
   "execution_count": 15,
   "id": "7020f786",
   "metadata": {},
   "outputs": [],
   "source": [
    "data = data.drop(columns=[\"Loại_tiền\"])"
   ]
  },
  {
   "cell_type": "code",
   "execution_count": 16,
   "id": "5aacfb78",
   "metadata": {},
   "outputs": [
    {
     "data": {
      "text/html": [
       "<div>\n",
       "<style scoped>\n",
       "    .dataframe tbody tr th:only-of-type {\n",
       "        vertical-align: middle;\n",
       "    }\n",
       "\n",
       "    .dataframe tbody tr th {\n",
       "        vertical-align: top;\n",
       "    }\n",
       "\n",
       "    .dataframe thead th {\n",
       "        text-align: right;\n",
       "    }\n",
       "</style>\n",
       "<table border=\"1\" class=\"dataframe\">\n",
       "  <thead>\n",
       "    <tr style=\"text-align: right;\">\n",
       "      <th></th>\n",
       "      <th>Tên_mặt_hàng</th>\n",
       "      <th>Thị_trường</th>\n",
       "      <th>Loại_giá</th>\n",
       "      <th>Đơn_vị_tính</th>\n",
       "      <th>Nguồn</th>\n",
       "      <th>Ngày</th>\n",
       "      <th>Giá</th>\n",
       "      <th>Ngành_hàng</th>\n",
       "    </tr>\n",
       "  </thead>\n",
       "  <tbody>\n",
       "    <tr>\n",
       "      <th>0</th>\n",
       "      <td>Cà phê Robusta nhân xô</td>\n",
       "      <td>Đắk Lắk</td>\n",
       "      <td>Thương lái thu mua</td>\n",
       "      <td>Vnđ/Kg</td>\n",
       "      <td>CTV địa phương</td>\n",
       "      <td>5/9/2025 12:00:00 AM</td>\n",
       "      <td>128233.0</td>\n",
       "      <td>Cà phê</td>\n",
       "    </tr>\n",
       "    <tr>\n",
       "      <th>1</th>\n",
       "      <td>Cà phê Robusta nhân xô</td>\n",
       "      <td>Đắk Nông</td>\n",
       "      <td>Thương lái thu mua</td>\n",
       "      <td>Vnđ/Kg</td>\n",
       "      <td>CTV địa phương</td>\n",
       "      <td>5/9/2025 12:00:00 AM</td>\n",
       "      <td>128350.0</td>\n",
       "      <td>Cà phê</td>\n",
       "    </tr>\n",
       "    <tr>\n",
       "      <th>2</th>\n",
       "      <td>Cà phê Robusta nhân xô</td>\n",
       "      <td>Gia Lai</td>\n",
       "      <td>Thương lái thu mua</td>\n",
       "      <td>Vnđ/Kg</td>\n",
       "      <td>CTV địa phương</td>\n",
       "      <td>5/9/2025 12:00:00 AM</td>\n",
       "      <td>128233.0</td>\n",
       "      <td>Cà phê</td>\n",
       "    </tr>\n",
       "    <tr>\n",
       "      <th>3</th>\n",
       "      <td>Cà phê Robusta nhân xô</td>\n",
       "      <td>Kon Tum</td>\n",
       "      <td>Thương lái thu mua</td>\n",
       "      <td>Vnđ/Kg</td>\n",
       "      <td>CTV địa phương</td>\n",
       "      <td>5/9/2025 12:00:00 AM</td>\n",
       "      <td>128200.0</td>\n",
       "      <td>Cà phê</td>\n",
       "    </tr>\n",
       "    <tr>\n",
       "      <th>4</th>\n",
       "      <td>Cà phê Robusta nhân xô</td>\n",
       "      <td>Lâm Đồng</td>\n",
       "      <td>Thương lái thu mua</td>\n",
       "      <td>Vnđ/Kg</td>\n",
       "      <td>CTV địa phương</td>\n",
       "      <td>5/9/2025 12:00:00 AM</td>\n",
       "      <td>128000.0</td>\n",
       "      <td>Cà phê</td>\n",
       "    </tr>\n",
       "  </tbody>\n",
       "</table>\n",
       "</div>"
      ],
      "text/plain": [
       "             Tên_mặt_hàng Thị_trường            Loại_giá Đơn_vị_tính  \\\n",
       "0  Cà phê Robusta nhân xô    Đắk Lắk  Thương lái thu mua      Vnđ/Kg   \n",
       "1  Cà phê Robusta nhân xô   Đắk Nông  Thương lái thu mua      Vnđ/Kg   \n",
       "2  Cà phê Robusta nhân xô    Gia Lai  Thương lái thu mua      Vnđ/Kg   \n",
       "3  Cà phê Robusta nhân xô    Kon Tum  Thương lái thu mua      Vnđ/Kg   \n",
       "4  Cà phê Robusta nhân xô   Lâm Đồng  Thương lái thu mua      Vnđ/Kg   \n",
       "\n",
       "            Nguồn                  Ngày       Giá Ngành_hàng  \n",
       "0  CTV địa phương  5/9/2025 12:00:00 AM  128233.0     Cà phê  \n",
       "1  CTV địa phương  5/9/2025 12:00:00 AM  128350.0     Cà phê  \n",
       "2  CTV địa phương  5/9/2025 12:00:00 AM  128233.0     Cà phê  \n",
       "3  CTV địa phương  5/9/2025 12:00:00 AM  128200.0     Cà phê  \n",
       "4  CTV địa phương  5/9/2025 12:00:00 AM  128000.0     Cà phê  "
      ]
     },
     "execution_count": 16,
     "metadata": {},
     "output_type": "execute_result"
    }
   ],
   "source": [
    "data.head()"
   ]
  },
  {
   "cell_type": "markdown",
   "id": "d6ed8195",
   "metadata": {},
   "source": [
    "# Kiểm tra dữ liệu bị thiếu"
   ]
  },
  {
   "cell_type": "code",
   "execution_count": 17,
   "id": "889d893a",
   "metadata": {},
   "outputs": [
    {
     "data": {
      "text/plain": [
       "Tên_mặt_hàng    0\n",
       "Thị_trường      0\n",
       "Loại_giá        0\n",
       "Đơn_vị_tính     0\n",
       "Nguồn           0\n",
       "Ngày            0\n",
       "Giá             0\n",
       "Ngành_hàng      0\n",
       "dtype: int64"
      ]
     },
     "execution_count": 17,
     "metadata": {},
     "output_type": "execute_result"
    }
   ],
   "source": [
    "data.isnull().sum()"
   ]
  },
  {
   "cell_type": "markdown",
   "id": "4734d830",
   "metadata": {},
   "source": [
    "# Kiểm tra dữ liệu thừa"
   ]
  },
  {
   "cell_type": "code",
   "execution_count": 18,
   "id": "46f1600d",
   "metadata": {},
   "outputs": [
    {
     "data": {
      "text/plain": [
       "np.int64(3)"
      ]
     },
     "execution_count": 18,
     "metadata": {},
     "output_type": "execute_result"
    }
   ],
   "source": [
    "data.duplicated().sum()"
   ]
  },
  {
   "cell_type": "code",
   "execution_count": 19,
   "id": "f7ca0a14",
   "metadata": {},
   "outputs": [
    {
     "data": {
      "text/html": [
       "<div>\n",
       "<style scoped>\n",
       "    .dataframe tbody tr th:only-of-type {\n",
       "        vertical-align: middle;\n",
       "    }\n",
       "\n",
       "    .dataframe tbody tr th {\n",
       "        vertical-align: top;\n",
       "    }\n",
       "\n",
       "    .dataframe thead th {\n",
       "        text-align: right;\n",
       "    }\n",
       "</style>\n",
       "<table border=\"1\" class=\"dataframe\">\n",
       "  <thead>\n",
       "    <tr style=\"text-align: right;\">\n",
       "      <th></th>\n",
       "      <th>Tên_mặt_hàng</th>\n",
       "      <th>Thị_trường</th>\n",
       "      <th>Loại_giá</th>\n",
       "      <th>Đơn_vị_tính</th>\n",
       "      <th>Nguồn</th>\n",
       "      <th>Ngày</th>\n",
       "      <th>Giá</th>\n",
       "      <th>Ngành_hàng</th>\n",
       "    </tr>\n",
       "  </thead>\n",
       "  <tbody>\n",
       "    <tr>\n",
       "      <th>5392</th>\n",
       "      <td>Lúa IR 50404 (lúa tươi)</td>\n",
       "      <td>An Giang</td>\n",
       "      <td>Thương lái thu mua</td>\n",
       "      <td>VNĐ/Kg</td>\n",
       "      <td>CTV địa phương</td>\n",
       "      <td>3/12/2025 12:00:00 AM</td>\n",
       "      <td>5600.0</td>\n",
       "      <td>Lúa, gạo</td>\n",
       "    </tr>\n",
       "    <tr>\n",
       "      <th>5407</th>\n",
       "      <td>Lúa IR 50404 (lúa tươi)</td>\n",
       "      <td>An Giang</td>\n",
       "      <td>Thương lái thu mua</td>\n",
       "      <td>VNĐ/Kg</td>\n",
       "      <td>CTV địa phương</td>\n",
       "      <td>3/5/2025 12:00:00 AM</td>\n",
       "      <td>5600.0</td>\n",
       "      <td>Lúa, gạo</td>\n",
       "    </tr>\n",
       "    <tr>\n",
       "      <th>19563</th>\n",
       "      <td>Lúa RVT (lúa tươi)</td>\n",
       "      <td>Sóc Trăng</td>\n",
       "      <td>Thương lái thu mua</td>\n",
       "      <td>VNĐ/Kg</td>\n",
       "      <td>CTV địa phương</td>\n",
       "      <td>9/20/2021 12:00:00 AM</td>\n",
       "      <td>6300.0</td>\n",
       "      <td>Lúa, gạo</td>\n",
       "    </tr>\n",
       "  </tbody>\n",
       "</table>\n",
       "</div>"
      ],
      "text/plain": [
       "                  Tên_mặt_hàng Thị_trường            Loại_giá Đơn_vị_tính  \\\n",
       "5392   Lúa IR 50404 (lúa tươi)   An Giang  Thương lái thu mua      VNĐ/Kg   \n",
       "5407   Lúa IR 50404 (lúa tươi)   An Giang  Thương lái thu mua      VNĐ/Kg   \n",
       "19563       Lúa RVT (lúa tươi)  Sóc Trăng  Thương lái thu mua      VNĐ/Kg   \n",
       "\n",
       "                Nguồn                   Ngày     Giá Ngành_hàng  \n",
       "5392   CTV địa phương  3/12/2025 12:00:00 AM  5600.0   Lúa, gạo  \n",
       "5407   CTV địa phương   3/5/2025 12:00:00 AM  5600.0   Lúa, gạo  \n",
       "19563  CTV địa phương  9/20/2021 12:00:00 AM  6300.0   Lúa, gạo  "
      ]
     },
     "execution_count": 19,
     "metadata": {},
     "output_type": "execute_result"
    }
   ],
   "source": [
    "data[data.duplicated()]"
   ]
  },
  {
   "cell_type": "code",
   "execution_count": 20,
   "id": "e968eb49",
   "metadata": {},
   "outputs": [],
   "source": [
    "data = data.drop_duplicates()"
   ]
  },
  {
   "cell_type": "code",
   "execution_count": 21,
   "id": "415f24a1",
   "metadata": {},
   "outputs": [
    {
     "data": {
      "text/plain": [
       "np.int64(0)"
      ]
     },
     "execution_count": 21,
     "metadata": {},
     "output_type": "execute_result"
    }
   ],
   "source": [
    "data.duplicated().sum()"
   ]
  },
  {
   "cell_type": "markdown",
   "id": "21581cd0",
   "metadata": {},
   "source": [
    "# Kiểm tra giá trị ngoại lai"
   ]
  },
  {
   "cell_type": "markdown",
   "id": "0491f8e0",
   "metadata": {},
   "source": [
    "## Ngành cà phê"
   ]
  },
  {
   "cell_type": "code",
   "execution_count": 22,
   "id": "090f3eeb",
   "metadata": {},
   "outputs": [],
   "source": [
    "data_caphe = data[data[\"Ngành_hàng\"] == \"Cà phê\"]"
   ]
  },
  {
   "cell_type": "code",
   "execution_count": 23,
   "id": "f5d6e9e5",
   "metadata": {},
   "outputs": [
    {
     "data": {
      "text/plain": [
       "<Axes: >"
      ]
     },
     "execution_count": 23,
     "metadata": {},
     "output_type": "execute_result"
    },
    {
     "data": {
      "image/png": "[encoded data removed]",
      "text/plain": [
       "<Figure size 640x480 with 1 Axes>"
      ]
     },
     "metadata": {},
     "output_type": "display_data"
    }
   ],
   "source": [
    "sns.boxplot(data_caphe)"
   ]
  },
  {
   "cell_type": "markdown",
   "id": "b18bf806",
   "metadata": {},
   "source": [
    "## Ngành lúa, gạo"
   ]
  },
  {
   "cell_type": "code",
   "execution_count": 24,
   "id": "fcb8f7c9",
   "metadata": {},
   "outputs": [
    {
     "data": {
      "text/plain": [
       "<Axes: >"
      ]
     },
     "execution_count": 24,
     "metadata": {},
     "output_type": "execute_result"
    },
    {
     "data": {
      "image/png": "[encoded data removed]",
      "text/plain": [
       "<Figure size 640x480 with 1 Axes>"
      ]
     },
     "metadata": {},
     "output_type": "display_data"
    }
   ],
   "source": [
    "data_luagao = data[data[\"Ngành_hàng\"] == \"Lúa, gạo\"]\n",
    "sns.boxplot(data_luagao)"
   ]
  },
  {
   "cell_type": "code",
   "execution_count": 25,
   "id": "42608d0f",
   "metadata": {},
   "outputs": [
    {
     "data": {
      "text/plain": [
       "<Axes: >"
      ]
     },
     "execution_count": 25,
     "metadata": {},
     "output_type": "execute_result"
    },
    {
     "data": {
      "image/png": "[encoded data removed]",
      "text/plain": [
       "<Figure size 640x480 with 1 Axes>"
      ]
     },
     "metadata": {},
     "output_type": "display_data"
    }
   ],
   "source": [
    "data_rauqua = data[data[\"Ngành_hàng\"] == \"Rau, quả\"]\n",
    "sns.boxplot(data_rauqua)"
   ]
  },
  {
   "cell_type": "code",
   "execution_count": 26,
   "id": "4ebe09a7",
   "metadata": {},
   "outputs": [
    {
     "data": {
      "text/html": [
       "<div>\n",
       "<style scoped>\n",
       "    .dataframe tbody tr th:only-of-type {\n",
       "        vertical-align: middle;\n",
       "    }\n",
       "\n",
       "    .dataframe tbody tr th {\n",
       "        vertical-align: top;\n",
       "    }\n",
       "\n",
       "    .dataframe thead th {\n",
       "        text-align: right;\n",
       "    }\n",
       "</style>\n",
       "<table border=\"1\" class=\"dataframe\">\n",
       "  <thead>\n",
       "    <tr style=\"text-align: right;\">\n",
       "      <th></th>\n",
       "      <th>Tên_mặt_hàng</th>\n",
       "      <th>Thị_trường</th>\n",
       "      <th>Loại_giá</th>\n",
       "      <th>Đơn_vị_tính</th>\n",
       "      <th>Nguồn</th>\n",
       "      <th>Ngày</th>\n",
       "      <th>Giá</th>\n",
       "      <th>Ngành_hàng</th>\n",
       "    </tr>\n",
       "  </thead>\n",
       "  <tbody>\n",
       "    <tr>\n",
       "      <th>31574</th>\n",
       "      <td>Dừa xiêm lai</td>\n",
       "      <td>Bến Tre</td>\n",
       "      <td>Thương lái thu mua</td>\n",
       "      <td>VNĐ/Chục quả</td>\n",
       "      <td>CTV địa phương</td>\n",
       "      <td>9/5/2023 12:00:00 AM</td>\n",
       "      <td>600000.0</td>\n",
       "      <td>Rau, quả</td>\n",
       "    </tr>\n",
       "  </tbody>\n",
       "</table>\n",
       "</div>"
      ],
      "text/plain": [
       "       Tên_mặt_hàng Thị_trường            Loại_giá   Đơn_vị_tính  \\\n",
       "31574  Dừa xiêm lai    Bến Tre  Thương lái thu mua  VNĐ/Chục quả   \n",
       "\n",
       "                Nguồn                  Ngày       Giá Ngành_hàng  \n",
       "31574  CTV địa phương  9/5/2023 12:00:00 AM  600000.0   Rau, quả  "
      ]
     },
     "execution_count": 26,
     "metadata": {},
     "output_type": "execute_result"
    }
   ],
   "source": [
    "max_rauqua = data[data[\"Ngành_hàng\"] == \"Rau, quả\"][\"Giá\"].max()\n",
    "data[data[\"Giá\"] == max_rauqua]"
   ]
  },
  {
   "cell_type": "code",
   "execution_count": 27,
   "id": "945530e1",
   "metadata": {},
   "outputs": [
    {
     "data": {
      "text/html": [
       "<div>\n",
       "<style scoped>\n",
       "    .dataframe tbody tr th:only-of-type {\n",
       "        vertical-align: middle;\n",
       "    }\n",
       "\n",
       "    .dataframe tbody tr th {\n",
       "        vertical-align: top;\n",
       "    }\n",
       "\n",
       "    .dataframe thead th {\n",
       "        text-align: right;\n",
       "    }\n",
       "</style>\n",
       "<table border=\"1\" class=\"dataframe\">\n",
       "  <thead>\n",
       "    <tr style=\"text-align: right;\">\n",
       "      <th></th>\n",
       "      <th>Tên_mặt_hàng</th>\n",
       "      <th>Thị_trường</th>\n",
       "      <th>Loại_giá</th>\n",
       "      <th>Đơn_vị_tính</th>\n",
       "      <th>Nguồn</th>\n",
       "      <th>Ngày</th>\n",
       "      <th>Giá</th>\n",
       "      <th>Ngành_hàng</th>\n",
       "    </tr>\n",
       "  </thead>\n",
       "  <tbody>\n",
       "    <tr>\n",
       "      <th>30701</th>\n",
       "      <td>Dừa xiêm lai</td>\n",
       "      <td>Bến Tre</td>\n",
       "      <td>Thương lái thu mua</td>\n",
       "      <td>VNĐ/Chục quả</td>\n",
       "      <td>CTV địa phương</td>\n",
       "      <td>10/3/2023 12:00:00 AM</td>\n",
       "      <td>60000.0</td>\n",
       "      <td>Rau, quả</td>\n",
       "    </tr>\n",
       "    <tr>\n",
       "      <th>30919</th>\n",
       "      <td>Dừa xiêm lai</td>\n",
       "      <td>Bến Tre</td>\n",
       "      <td>Thương lái thu mua</td>\n",
       "      <td>VNĐ/Chục quả</td>\n",
       "      <td>CTV địa phương</td>\n",
       "      <td>9/26/2023 12:00:00 AM</td>\n",
       "      <td>60000.0</td>\n",
       "      <td>Rau, quả</td>\n",
       "    </tr>\n",
       "    <tr>\n",
       "      <th>31137</th>\n",
       "      <td>Dừa xiêm lai</td>\n",
       "      <td>Bến Tre</td>\n",
       "      <td>Thương lái thu mua</td>\n",
       "      <td>VNĐ/Chục quả</td>\n",
       "      <td>CTV địa phương</td>\n",
       "      <td>9/19/2023 12:00:00 AM</td>\n",
       "      <td>50000.0</td>\n",
       "      <td>Rau, quả</td>\n",
       "    </tr>\n",
       "    <tr>\n",
       "      <th>31354</th>\n",
       "      <td>Dừa xiêm lai</td>\n",
       "      <td>Bến Tre</td>\n",
       "      <td>Thương lái thu mua</td>\n",
       "      <td>VNĐ/Chục quả</td>\n",
       "      <td>CTV địa phương</td>\n",
       "      <td>9/12/2023 12:00:00 AM</td>\n",
       "      <td>70000.0</td>\n",
       "      <td>Rau, quả</td>\n",
       "    </tr>\n",
       "    <tr>\n",
       "      <th>31574</th>\n",
       "      <td>Dừa xiêm lai</td>\n",
       "      <td>Bến Tre</td>\n",
       "      <td>Thương lái thu mua</td>\n",
       "      <td>VNĐ/Chục quả</td>\n",
       "      <td>CTV địa phương</td>\n",
       "      <td>9/5/2023 12:00:00 AM</td>\n",
       "      <td>600000.0</td>\n",
       "      <td>Rau, quả</td>\n",
       "    </tr>\n",
       "    <tr>\n",
       "      <th>32288</th>\n",
       "      <td>Dừa xiêm lai</td>\n",
       "      <td>Bến Tre</td>\n",
       "      <td>Thương lái thu mua</td>\n",
       "      <td>VNĐ/Chục quả</td>\n",
       "      <td>CTV địa phương</td>\n",
       "      <td>7/25/2023 12:00:00 AM</td>\n",
       "      <td>40000.0</td>\n",
       "      <td>Rau, quả</td>\n",
       "    </tr>\n",
       "    <tr>\n",
       "      <th>32495</th>\n",
       "      <td>Dừa xiêm lai</td>\n",
       "      <td>Bến Tre</td>\n",
       "      <td>Thương lái thu mua</td>\n",
       "      <td>VNĐ/Chục quả</td>\n",
       "      <td>CTV địa phương</td>\n",
       "      <td>7/18/2023 12:00:00 AM</td>\n",
       "      <td>73000.0</td>\n",
       "      <td>Rau, quả</td>\n",
       "    </tr>\n",
       "    <tr>\n",
       "      <th>32701</th>\n",
       "      <td>Dừa xiêm lai</td>\n",
       "      <td>Bến Tre</td>\n",
       "      <td>Thương lái thu mua</td>\n",
       "      <td>VNĐ/Chục quả</td>\n",
       "      <td>CTV địa phương</td>\n",
       "      <td>7/11/2023 12:00:00 AM</td>\n",
       "      <td>75000.0</td>\n",
       "      <td>Rau, quả</td>\n",
       "    </tr>\n",
       "    <tr>\n",
       "      <th>32907</th>\n",
       "      <td>Dừa xiêm lai</td>\n",
       "      <td>Bến Tre</td>\n",
       "      <td>Thương lái thu mua</td>\n",
       "      <td>VNĐ/Chục quả</td>\n",
       "      <td>CTV địa phương</td>\n",
       "      <td>7/4/2023 12:00:00 AM</td>\n",
       "      <td>75000.0</td>\n",
       "      <td>Rau, quả</td>\n",
       "    </tr>\n",
       "    <tr>\n",
       "      <th>33114</th>\n",
       "      <td>Dừa xiêm lai</td>\n",
       "      <td>Bến Tre</td>\n",
       "      <td>Thương lái thu mua</td>\n",
       "      <td>VNĐ/Chục quả</td>\n",
       "      <td>CTV địa phương</td>\n",
       "      <td>6/27/2023 12:00:00 AM</td>\n",
       "      <td>70000.0</td>\n",
       "      <td>Rau, quả</td>\n",
       "    </tr>\n",
       "    <tr>\n",
       "      <th>33323</th>\n",
       "      <td>Dừa xiêm lai</td>\n",
       "      <td>Bến Tre</td>\n",
       "      <td>Thương lái thu mua</td>\n",
       "      <td>VNĐ/Chục quả</td>\n",
       "      <td>CTV địa phương</td>\n",
       "      <td>6/20/2023 12:00:00 AM</td>\n",
       "      <td>70000.0</td>\n",
       "      <td>Rau, quả</td>\n",
       "    </tr>\n",
       "    <tr>\n",
       "      <th>33533</th>\n",
       "      <td>Dừa xiêm lai</td>\n",
       "      <td>Bến Tre</td>\n",
       "      <td>Thương lái thu mua</td>\n",
       "      <td>VNĐ/Chục quả</td>\n",
       "      <td>CTV địa phương</td>\n",
       "      <td>6/13/2023 12:00:00 AM</td>\n",
       "      <td>80000.0</td>\n",
       "      <td>Rau, quả</td>\n",
       "    </tr>\n",
       "    <tr>\n",
       "      <th>33743</th>\n",
       "      <td>Dừa xiêm lai</td>\n",
       "      <td>Bến Tre</td>\n",
       "      <td>Thương lái thu mua</td>\n",
       "      <td>VNĐ/Chục quả</td>\n",
       "      <td>CTV địa phương</td>\n",
       "      <td>6/6/2023 12:00:00 AM</td>\n",
       "      <td>25000.0</td>\n",
       "      <td>Rau, quả</td>\n",
       "    </tr>\n",
       "    <tr>\n",
       "      <th>33953</th>\n",
       "      <td>Dừa xiêm lai</td>\n",
       "      <td>Bến Tre</td>\n",
       "      <td>Thương lái thu mua</td>\n",
       "      <td>VNĐ/Chục quả</td>\n",
       "      <td>CTV địa phương</td>\n",
       "      <td>5/30/2023 12:00:00 AM</td>\n",
       "      <td>25000.0</td>\n",
       "      <td>Rau, quả</td>\n",
       "    </tr>\n",
       "    <tr>\n",
       "      <th>34129</th>\n",
       "      <td>Dừa xiêm lai</td>\n",
       "      <td>Bến Tre</td>\n",
       "      <td>Thương lái thu mua</td>\n",
       "      <td>VNĐ/Chục quả</td>\n",
       "      <td>CTV địa phương</td>\n",
       "      <td>5/23/2023 12:00:00 AM</td>\n",
       "      <td>40000.0</td>\n",
       "      <td>Rau, quả</td>\n",
       "    </tr>\n",
       "    <tr>\n",
       "      <th>34329</th>\n",
       "      <td>Dừa xiêm lai</td>\n",
       "      <td>Bến Tre</td>\n",
       "      <td>Thương lái thu mua</td>\n",
       "      <td>VNĐ/Chục quả</td>\n",
       "      <td>CTV địa phương</td>\n",
       "      <td>5/16/2023 12:00:00 AM</td>\n",
       "      <td>40000.0</td>\n",
       "      <td>Rau, quả</td>\n",
       "    </tr>\n",
       "    <tr>\n",
       "      <th>34529</th>\n",
       "      <td>Dừa xiêm lai</td>\n",
       "      <td>Bến Tre</td>\n",
       "      <td>Thương lái thu mua</td>\n",
       "      <td>VNĐ/Chục quả</td>\n",
       "      <td>CTV địa phương</td>\n",
       "      <td>5/9/2023 12:00:00 AM</td>\n",
       "      <td>40000.0</td>\n",
       "      <td>Rau, quả</td>\n",
       "    </tr>\n",
       "    <tr>\n",
       "      <th>34727</th>\n",
       "      <td>Dừa xiêm lai</td>\n",
       "      <td>Bến Tre</td>\n",
       "      <td>Thương lái thu mua</td>\n",
       "      <td>VNĐ/Chục quả</td>\n",
       "      <td>CTV địa phương</td>\n",
       "      <td>5/2/2023 12:00:00 AM</td>\n",
       "      <td>25000.0</td>\n",
       "      <td>Rau, quả</td>\n",
       "    </tr>\n",
       "    <tr>\n",
       "      <th>34901</th>\n",
       "      <td>Dừa xiêm lai</td>\n",
       "      <td>Bến Tre</td>\n",
       "      <td>Thương lái thu mua</td>\n",
       "      <td>VNĐ/Chục quả</td>\n",
       "      <td>CTV địa phương</td>\n",
       "      <td>4/25/2023 12:00:00 AM</td>\n",
       "      <td>25000.0</td>\n",
       "      <td>Rau, quả</td>\n",
       "    </tr>\n",
       "    <tr>\n",
       "      <th>35290</th>\n",
       "      <td>Dừa xiêm lai</td>\n",
       "      <td>Bến Tre</td>\n",
       "      <td>Thương lái thu mua</td>\n",
       "      <td>VNĐ/Kg</td>\n",
       "      <td>CTV địa phương</td>\n",
       "      <td>4/4/2023 12:00:00 AM</td>\n",
       "      <td>40000.0</td>\n",
       "      <td>Rau, quả</td>\n",
       "    </tr>\n",
       "    <tr>\n",
       "      <th>35465</th>\n",
       "      <td>Dừa xiêm lai</td>\n",
       "      <td>Bến Tre</td>\n",
       "      <td>Thương lái thu mua</td>\n",
       "      <td>VNĐ/Kg</td>\n",
       "      <td>CTV địa phương</td>\n",
       "      <td>3/28/2023 12:00:00 AM</td>\n",
       "      <td>25000.0</td>\n",
       "      <td>Rau, quả</td>\n",
       "    </tr>\n",
       "    <tr>\n",
       "      <th>35659</th>\n",
       "      <td>Dừa xiêm lai</td>\n",
       "      <td>Bến Tre</td>\n",
       "      <td>Thương lái thu mua</td>\n",
       "      <td>VNĐ/Kg</td>\n",
       "      <td>CTV địa phương</td>\n",
       "      <td>3/21/2023 12:00:00 AM</td>\n",
       "      <td>25000.0</td>\n",
       "      <td>Rau, quả</td>\n",
       "    </tr>\n",
       "    <tr>\n",
       "      <th>35842</th>\n",
       "      <td>Dừa xiêm lai</td>\n",
       "      <td>Bến Tre</td>\n",
       "      <td>Thương lái thu mua</td>\n",
       "      <td>VNĐ/Kg</td>\n",
       "      <td>CTV địa phương</td>\n",
       "      <td>3/14/2023 12:00:00 AM</td>\n",
       "      <td>25000.0</td>\n",
       "      <td>Rau, quả</td>\n",
       "    </tr>\n",
       "    <tr>\n",
       "      <th>36028</th>\n",
       "      <td>Dừa xiêm lai</td>\n",
       "      <td>Bến Tre</td>\n",
       "      <td>Thương lái thu mua</td>\n",
       "      <td>VNĐ/Kg</td>\n",
       "      <td>CTV địa phương</td>\n",
       "      <td>3/7/2023 12:00:00 AM</td>\n",
       "      <td>25000.0</td>\n",
       "      <td>Rau, quả</td>\n",
       "    </tr>\n",
       "    <tr>\n",
       "      <th>36221</th>\n",
       "      <td>Dừa xiêm lai</td>\n",
       "      <td>Bến Tre</td>\n",
       "      <td>Thương lái thu mua</td>\n",
       "      <td>VNĐ/Kg</td>\n",
       "      <td>CTV địa phương</td>\n",
       "      <td>2/28/2023 12:00:00 AM</td>\n",
       "      <td>25000.0</td>\n",
       "      <td>Rau, quả</td>\n",
       "    </tr>\n",
       "    <tr>\n",
       "      <th>36417</th>\n",
       "      <td>Dừa xiêm lai</td>\n",
       "      <td>Bến Tre</td>\n",
       "      <td>Thương lái thu mua</td>\n",
       "      <td>VNĐ/Kg</td>\n",
       "      <td>CTV địa phương</td>\n",
       "      <td>2/21/2023 12:00:00 AM</td>\n",
       "      <td>25000.0</td>\n",
       "      <td>Rau, quả</td>\n",
       "    </tr>\n",
       "    <tr>\n",
       "      <th>36613</th>\n",
       "      <td>Dừa xiêm lai</td>\n",
       "      <td>Bến Tre</td>\n",
       "      <td>Thương lái thu mua</td>\n",
       "      <td>VNĐ/Kg</td>\n",
       "      <td>CTV địa phương</td>\n",
       "      <td>2/14/2023 12:00:00 AM</td>\n",
       "      <td>25000.0</td>\n",
       "      <td>Rau, quả</td>\n",
       "    </tr>\n",
       "    <tr>\n",
       "      <th>36808</th>\n",
       "      <td>Dừa xiêm lai</td>\n",
       "      <td>Bến Tre</td>\n",
       "      <td>Thương lái thu mua</td>\n",
       "      <td>VNĐ/Kg</td>\n",
       "      <td>CTV địa phương</td>\n",
       "      <td>2/7/2023 12:00:00 AM</td>\n",
       "      <td>25000.0</td>\n",
       "      <td>Rau, quả</td>\n",
       "    </tr>\n",
       "    <tr>\n",
       "      <th>37005</th>\n",
       "      <td>Dừa xiêm lai</td>\n",
       "      <td>Bến Tre</td>\n",
       "      <td>Thương lái thu mua</td>\n",
       "      <td>VNĐ/Kg</td>\n",
       "      <td>CTV địa phương</td>\n",
       "      <td>1/31/2023 12:00:00 AM</td>\n",
       "      <td>35000.0</td>\n",
       "      <td>Rau, quả</td>\n",
       "    </tr>\n",
       "    <tr>\n",
       "      <th>37163</th>\n",
       "      <td>Dừa xiêm lai</td>\n",
       "      <td>Bến Tre</td>\n",
       "      <td>Thương lái thu mua</td>\n",
       "      <td>VNĐ/Kg</td>\n",
       "      <td>CTV địa phương</td>\n",
       "      <td>1/24/2023 12:00:00 AM</td>\n",
       "      <td>35000.0</td>\n",
       "      <td>Rau, quả</td>\n",
       "    </tr>\n",
       "    <tr>\n",
       "      <th>37377</th>\n",
       "      <td>Dừa xiêm lai</td>\n",
       "      <td>Bến Tre</td>\n",
       "      <td>Thương lái thu mua</td>\n",
       "      <td>VNĐ/Kg</td>\n",
       "      <td>CTV địa phương</td>\n",
       "      <td>1/17/2023 12:00:00 AM</td>\n",
       "      <td>35000.0</td>\n",
       "      <td>Rau, quả</td>\n",
       "    </tr>\n",
       "    <tr>\n",
       "      <th>37635</th>\n",
       "      <td>Dừa xiêm lai</td>\n",
       "      <td>Bến Tre</td>\n",
       "      <td>Thương lái thu mua</td>\n",
       "      <td>VNĐ/Kg</td>\n",
       "      <td>CTV địa phương</td>\n",
       "      <td>1/10/2023 12:00:00 AM</td>\n",
       "      <td>35000.0</td>\n",
       "      <td>Rau, quả</td>\n",
       "    </tr>\n",
       "    <tr>\n",
       "      <th>37883</th>\n",
       "      <td>Dừa xiêm lai</td>\n",
       "      <td>Bến Tre</td>\n",
       "      <td>Thương lái thu mua</td>\n",
       "      <td>VNĐ/Kg</td>\n",
       "      <td>CTV địa phương</td>\n",
       "      <td>1/3/2023 12:00:00 AM</td>\n",
       "      <td>35000.0</td>\n",
       "      <td>Rau, quả</td>\n",
       "    </tr>\n",
       "    <tr>\n",
       "      <th>38558</th>\n",
       "      <td>Dừa xiêm lai</td>\n",
       "      <td>Bến Tre</td>\n",
       "      <td>Thương lái thu mua</td>\n",
       "      <td>VNĐ/Chục quả</td>\n",
       "      <td>CTV địa phương</td>\n",
       "      <td>11/29/2022 12:00:00 AM</td>\n",
       "      <td>35000.0</td>\n",
       "      <td>Rau, quả</td>\n",
       "    </tr>\n",
       "    <tr>\n",
       "      <th>38748</th>\n",
       "      <td>Dừa xiêm lai</td>\n",
       "      <td>Bến Tre</td>\n",
       "      <td>Thương lái thu mua</td>\n",
       "      <td>VNĐ/Chục quả</td>\n",
       "      <td>CTV địa phương</td>\n",
       "      <td>11/22/2022 12:00:00 AM</td>\n",
       "      <td>35000.0</td>\n",
       "      <td>Rau, quả</td>\n",
       "    </tr>\n",
       "    <tr>\n",
       "      <th>38918</th>\n",
       "      <td>Dừa xiêm lai</td>\n",
       "      <td>Bến Tre</td>\n",
       "      <td>Thương lái thu mua</td>\n",
       "      <td>VNĐ/Chục quả</td>\n",
       "      <td>CTV địa phương</td>\n",
       "      <td>11/15/2022 12:00:00 AM</td>\n",
       "      <td>35000.0</td>\n",
       "      <td>Rau, quả</td>\n",
       "    </tr>\n",
       "    <tr>\n",
       "      <th>39052</th>\n",
       "      <td>Dừa xiêm lai</td>\n",
       "      <td>Bến Tre</td>\n",
       "      <td>Thương lái thu mua</td>\n",
       "      <td>VNĐ/Chục quả</td>\n",
       "      <td>CTV địa phương</td>\n",
       "      <td>11/8/2022 12:00:00 AM</td>\n",
       "      <td>35000.0</td>\n",
       "      <td>Rau, quả</td>\n",
       "    </tr>\n",
       "    <tr>\n",
       "      <th>39131</th>\n",
       "      <td>Dừa xiêm lai</td>\n",
       "      <td>Bến Tre</td>\n",
       "      <td>Thương lái thu mua</td>\n",
       "      <td>VNĐ/Chục quả</td>\n",
       "      <td>CTV địa phương</td>\n",
       "      <td>11/1/2022 12:00:00 AM</td>\n",
       "      <td>64000.0</td>\n",
       "      <td>Rau, quả</td>\n",
       "    </tr>\n",
       "    <tr>\n",
       "      <th>39298</th>\n",
       "      <td>Dừa xiêm lai</td>\n",
       "      <td>Bến Tre</td>\n",
       "      <td>Thương lái thu mua</td>\n",
       "      <td>VNĐ/Chục quả</td>\n",
       "      <td>CTV địa phương</td>\n",
       "      <td>10/25/2022 12:00:00 AM</td>\n",
       "      <td>35000.0</td>\n",
       "      <td>Rau, quả</td>\n",
       "    </tr>\n",
       "    <tr>\n",
       "      <th>39440</th>\n",
       "      <td>Dừa xiêm lai</td>\n",
       "      <td>Bến Tre</td>\n",
       "      <td>Thương lái thu mua</td>\n",
       "      <td>VNĐ/Chục quả</td>\n",
       "      <td>CTV địa phương</td>\n",
       "      <td>10/18/2022 12:00:00 AM</td>\n",
       "      <td>40000.0</td>\n",
       "      <td>Rau, quả</td>\n",
       "    </tr>\n",
       "    <tr>\n",
       "      <th>39572</th>\n",
       "      <td>Dừa xiêm lai</td>\n",
       "      <td>Bến Tre</td>\n",
       "      <td>Thương lái thu mua</td>\n",
       "      <td>VNĐ/Chục quả</td>\n",
       "      <td>CTV địa phương</td>\n",
       "      <td>10/11/2022 12:00:00 AM</td>\n",
       "      <td>40000.0</td>\n",
       "      <td>Rau, quả</td>\n",
       "    </tr>\n",
       "    <tr>\n",
       "      <th>39726</th>\n",
       "      <td>Dừa xiêm lai</td>\n",
       "      <td>Bến Tre</td>\n",
       "      <td>Thương lái thu mua</td>\n",
       "      <td>VNĐ/Chục quả</td>\n",
       "      <td>CTV địa phương</td>\n",
       "      <td>9/28/2022 12:00:00 AM</td>\n",
       "      <td>40000.0</td>\n",
       "      <td>Rau, quả</td>\n",
       "    </tr>\n",
       "    <tr>\n",
       "      <th>39929</th>\n",
       "      <td>Dừa xiêm lai</td>\n",
       "      <td>Bến Tre</td>\n",
       "      <td>Thương lái thu mua</td>\n",
       "      <td>VNĐ/Chục quả</td>\n",
       "      <td>CTV địa phương</td>\n",
       "      <td>9/20/2022 12:00:00 AM</td>\n",
       "      <td>40000.0</td>\n",
       "      <td>Rau, quả</td>\n",
       "    </tr>\n",
       "    <tr>\n",
       "      <th>40142</th>\n",
       "      <td>Dừa xiêm lai</td>\n",
       "      <td>Bến Tre</td>\n",
       "      <td>Thương lái thu mua</td>\n",
       "      <td>VNĐ/Chục quả</td>\n",
       "      <td>CTV địa phương</td>\n",
       "      <td>9/13/2022 12:00:00 AM</td>\n",
       "      <td>45000.0</td>\n",
       "      <td>Rau, quả</td>\n",
       "    </tr>\n",
       "    <tr>\n",
       "      <th>40353</th>\n",
       "      <td>Dừa xiêm lai</td>\n",
       "      <td>Bến Tre</td>\n",
       "      <td>Thương lái thu mua</td>\n",
       "      <td>VNĐ/Chục quả</td>\n",
       "      <td>CTV địa phương</td>\n",
       "      <td>9/6/2022 12:00:00 AM</td>\n",
       "      <td>45000.0</td>\n",
       "      <td>Rau, quả</td>\n",
       "    </tr>\n",
       "    <tr>\n",
       "      <th>40568</th>\n",
       "      <td>Dừa xiêm lai</td>\n",
       "      <td>Bến Tre</td>\n",
       "      <td>Thương lái thu mua</td>\n",
       "      <td>VNĐ/Chục quả</td>\n",
       "      <td>CTV địa phương</td>\n",
       "      <td>8/30/2022 12:00:00 AM</td>\n",
       "      <td>40000.0</td>\n",
       "      <td>Rau, quả</td>\n",
       "    </tr>\n",
       "    <tr>\n",
       "      <th>40783</th>\n",
       "      <td>Dừa xiêm lai</td>\n",
       "      <td>Bến Tre</td>\n",
       "      <td>Thương lái thu mua</td>\n",
       "      <td>VNĐ/Chục quả</td>\n",
       "      <td>CTV địa phương</td>\n",
       "      <td>8/23/2022 12:00:00 AM</td>\n",
       "      <td>30000.0</td>\n",
       "      <td>Rau, quả</td>\n",
       "    </tr>\n",
       "    <tr>\n",
       "      <th>40998</th>\n",
       "      <td>Dừa xiêm lai</td>\n",
       "      <td>Bến Tre</td>\n",
       "      <td>Thương lái thu mua</td>\n",
       "      <td>VNĐ/Chục quả</td>\n",
       "      <td>CTV địa phương</td>\n",
       "      <td>8/16/2022 12:00:00 AM</td>\n",
       "      <td>30000.0</td>\n",
       "      <td>Rau, quả</td>\n",
       "    </tr>\n",
       "    <tr>\n",
       "      <th>41213</th>\n",
       "      <td>Dừa xiêm lai</td>\n",
       "      <td>Bến Tre</td>\n",
       "      <td>Thương lái thu mua</td>\n",
       "      <td>VNĐ/Chục quả</td>\n",
       "      <td>CTV địa phương</td>\n",
       "      <td>8/9/2022 12:00:00 AM</td>\n",
       "      <td>60000.0</td>\n",
       "      <td>Rau, quả</td>\n",
       "    </tr>\n",
       "    <tr>\n",
       "      <th>41430</th>\n",
       "      <td>Dừa xiêm lai</td>\n",
       "      <td>Bến Tre</td>\n",
       "      <td>Thương lái thu mua</td>\n",
       "      <td>VNĐ/Chục quả</td>\n",
       "      <td>CTV địa phương</td>\n",
       "      <td>8/2/2022 12:00:00 AM</td>\n",
       "      <td>60000.0</td>\n",
       "      <td>Rau, quả</td>\n",
       "    </tr>\n",
       "    <tr>\n",
       "      <th>41648</th>\n",
       "      <td>Dừa xiêm lai</td>\n",
       "      <td>Bến Tre</td>\n",
       "      <td>Thương lái thu mua</td>\n",
       "      <td>VNĐ/Chục quả</td>\n",
       "      <td>CTV địa phương</td>\n",
       "      <td>7/26/2022 12:00:00 AM</td>\n",
       "      <td>60000.0</td>\n",
       "      <td>Rau, quả</td>\n",
       "    </tr>\n",
       "    <tr>\n",
       "      <th>41866</th>\n",
       "      <td>Dừa xiêm lai</td>\n",
       "      <td>Bến Tre</td>\n",
       "      <td>Thương lái thu mua</td>\n",
       "      <td>VNĐ/Chục quả</td>\n",
       "      <td>CTV địa phương</td>\n",
       "      <td>7/19/2022 12:00:00 AM</td>\n",
       "      <td>50000.0</td>\n",
       "      <td>Rau, quả</td>\n",
       "    </tr>\n",
       "    <tr>\n",
       "      <th>42083</th>\n",
       "      <td>Dừa xiêm lai</td>\n",
       "      <td>Bến Tre</td>\n",
       "      <td>Thương lái thu mua</td>\n",
       "      <td>VNĐ/Chục quả</td>\n",
       "      <td>CTV địa phương</td>\n",
       "      <td>7/12/2022 12:00:00 AM</td>\n",
       "      <td>50000.0</td>\n",
       "      <td>Rau, quả</td>\n",
       "    </tr>\n",
       "    <tr>\n",
       "      <th>42275</th>\n",
       "      <td>Dừa xiêm lai</td>\n",
       "      <td>Bến Tre</td>\n",
       "      <td>Thương lái thu mua</td>\n",
       "      <td>VNĐ/Chục quả</td>\n",
       "      <td>CTV địa phương</td>\n",
       "      <td>7/5/2022 12:00:00 AM</td>\n",
       "      <td>50000.0</td>\n",
       "      <td>Rau, quả</td>\n",
       "    </tr>\n",
       "    <tr>\n",
       "      <th>42476</th>\n",
       "      <td>Dừa xiêm lai</td>\n",
       "      <td>Bến Tre</td>\n",
       "      <td>Thương lái thu mua</td>\n",
       "      <td>VNĐ/Chục quả</td>\n",
       "      <td>CTV địa phương</td>\n",
       "      <td>6/28/2022 12:00:00 AM</td>\n",
       "      <td>55000.0</td>\n",
       "      <td>Rau, quả</td>\n",
       "    </tr>\n",
       "    <tr>\n",
       "      <th>42676</th>\n",
       "      <td>Dừa xiêm lai</td>\n",
       "      <td>Bến Tre</td>\n",
       "      <td>Thương lái thu mua</td>\n",
       "      <td>VNĐ/Chục quả</td>\n",
       "      <td>CTV địa phương</td>\n",
       "      <td>6/21/2022 12:00:00 AM</td>\n",
       "      <td>60000.0</td>\n",
       "      <td>Rau, quả</td>\n",
       "    </tr>\n",
       "    <tr>\n",
       "      <th>42894</th>\n",
       "      <td>Dừa xiêm lai</td>\n",
       "      <td>Bến Tre</td>\n",
       "      <td>Thương lái thu mua</td>\n",
       "      <td>VNĐ/Chục quả</td>\n",
       "      <td>CTV địa phương</td>\n",
       "      <td>6/14/2022 12:00:00 AM</td>\n",
       "      <td>60000.0</td>\n",
       "      <td>Rau, quả</td>\n",
       "    </tr>\n",
       "    <tr>\n",
       "      <th>51389</th>\n",
       "      <td>Dừa xiêm lai</td>\n",
       "      <td>Bến Tre</td>\n",
       "      <td>Thương lái thu mua</td>\n",
       "      <td>VNĐ/Chục quả</td>\n",
       "      <td>CTV địa phương</td>\n",
       "      <td>4/13/2021 12:00:00 AM</td>\n",
       "      <td>80000.0</td>\n",
       "      <td>Rau, quả</td>\n",
       "    </tr>\n",
       "  </tbody>\n",
       "</table>\n",
       "</div>"
      ],
      "text/plain": [
       "       Tên_mặt_hàng Thị_trường            Loại_giá   Đơn_vị_tính  \\\n",
       "30701  Dừa xiêm lai    Bến Tre  Thương lái thu mua  VNĐ/Chục quả   \n",
       "30919  Dừa xiêm lai    Bến Tre  Thương lái thu mua  VNĐ/Chục quả   \n",
       "31137  Dừa xiêm lai    Bến Tre  Thương lái thu mua  VNĐ/Chục quả   \n",
       "31354  Dừa xiêm lai    Bến Tre  Thương lái thu mua  VNĐ/Chục quả   \n",
       "31574  Dừa xiêm lai    Bến Tre  Thương lái thu mua  VNĐ/Chục quả   \n",
       "32288  Dừa xiêm lai    Bến Tre  Thương lái thu mua  VNĐ/Chục quả   \n",
       "32495  Dừa xiêm lai    Bến Tre  Thương lái thu mua  VNĐ/Chục quả   \n",
       "32701  Dừa xiêm lai    Bến Tre  Thương lái thu mua  VNĐ/Chục quả   \n",
       "32907  Dừa xiêm lai    Bến Tre  Thương lái thu mua  VNĐ/Chục quả   \n",
       "33114  Dừa xiêm lai    Bến Tre  Thương lái thu mua  VNĐ/Chục quả   \n",
       "33323  Dừa xiêm lai    Bến Tre  Thương lái thu mua  VNĐ/Chục quả   \n",
       "33533  Dừa xiêm lai    Bến Tre  Thương lái thu mua  VNĐ/Chục quả   \n",
       "33743  Dừa xiêm lai    Bến Tre  Thương lái thu mua  VNĐ/Chục quả   \n",
       "33953  Dừa xiêm lai    Bến Tre  Thương lái thu mua  VNĐ/Chục quả   \n",
       "34129  Dừa xiêm lai    Bến Tre  Thương lái thu mua  VNĐ/Chục quả   \n",
       "34329  Dừa xiêm lai    Bến Tre  Thương lái thu mua  VNĐ/Chục quả   \n",
       "34529  Dừa xiêm lai    Bến Tre  Thương lái thu mua  VNĐ/Chục quả   \n",
       "34727  Dừa xiêm lai    Bến Tre  Thương lái thu mua  VNĐ/Chục quả   \n",
       "34901  Dừa xiêm lai    Bến Tre  Thương lái thu mua  VNĐ/Chục quả   \n",
       "35290  Dừa xiêm lai    Bến Tre  Thương lái thu mua        VNĐ/Kg   \n",
       "35465  Dừa xiêm lai    Bến Tre  Thương lái thu mua        VNĐ/Kg   \n",
       "35659  Dừa xiêm lai    Bến Tre  Thương lái thu mua        VNĐ/Kg   \n",
       "35842  Dừa xiêm lai    Bến Tre  Thương lái thu mua        VNĐ/Kg   \n",
       "36028  Dừa xiêm lai    Bến Tre  Thương lái thu mua        VNĐ/Kg   \n",
       "36221  Dừa xiêm lai    Bến Tre  Thương lái thu mua        VNĐ/Kg   \n",
       "36417  Dừa xiêm lai    Bến Tre  Thương lái thu mua        VNĐ/Kg   \n",
       "36613  Dừa xiêm lai    Bến Tre  Thương lái thu mua        VNĐ/Kg   \n",
       "36808  Dừa xiêm lai    Bến Tre  Thương lái thu mua        VNĐ/Kg   \n",
       "37005  Dừa xiêm lai    Bến Tre  Thương lái thu mua        VNĐ/Kg   \n",
       "37163  Dừa xiêm lai    Bến Tre  Thương lái thu mua        VNĐ/Kg   \n",
       "37377  Dừa xiêm lai    Bến Tre  Thương lái thu mua        VNĐ/Kg   \n",
       "37635  Dừa xiêm lai    Bến Tre  Thương lái thu mua        VNĐ/Kg   \n",
       "37883  Dừa xiêm lai    Bến Tre  Thương lái thu mua        VNĐ/Kg   \n",
       "38558  Dừa xiêm lai    Bến Tre  Thương lái thu mua  VNĐ/Chục quả   \n",
       "38748  Dừa xiêm lai    Bến Tre  Thương lái thu mua  VNĐ/Chục quả   \n",
       "38918  Dừa xiêm lai    Bến Tre  Thương lái thu mua  VNĐ/Chục quả   \n",
       "39052  Dừa xiêm lai    Bến Tre  Thương lái thu mua  VNĐ/Chục quả   \n",
       "39131  Dừa xiêm lai    Bến Tre  Thương lái thu mua  VNĐ/Chục quả   \n",
       "39298  Dừa xiêm lai    Bến Tre  Thương lái thu mua  VNĐ/Chục quả   \n",
       "39440  Dừa xiêm lai    Bến Tre  Thương lái thu mua  VNĐ/Chục quả   \n",
       "39572  Dừa xiêm lai    Bến Tre  Thương lái thu mua  VNĐ/Chục quả   \n",
       "39726  Dừa xiêm lai    Bến Tre  Thương lái thu mua  VNĐ/Chục quả   \n",
       "39929  Dừa xiêm lai    Bến Tre  Thương lái thu mua  VNĐ/Chục quả   \n",
       "40142  Dừa xiêm lai    Bến Tre  Thương lái thu mua  VNĐ/Chục quả   \n",
       "40353  Dừa xiêm lai    Bến Tre  Thương lái thu mua  VNĐ/Chục quả   \n",
       "40568  Dừa xiêm lai    Bến Tre  Thương lái thu mua  VNĐ/Chục quả   \n",
       "40783  Dừa xiêm lai    Bến Tre  Thương lái thu mua  VNĐ/Chục quả   \n",
       "40998  Dừa xiêm lai    Bến Tre  Thương lái thu mua  VNĐ/Chục quả   \n",
       "41213  Dừa xiêm lai    Bến Tre  Thương lái thu mua  VNĐ/Chục quả   \n",
       "41430  Dừa xiêm lai    Bến Tre  Thương lái thu mua  VNĐ/Chục quả   \n",
       "41648  Dừa xiêm lai    Bến Tre  Thương lái thu mua  VNĐ/Chục quả   \n",
       "41866  Dừa xiêm lai    Bến Tre  Thương lái thu mua  VNĐ/Chục quả   \n",
       "42083  Dừa xiêm lai    Bến Tre  Thương lái thu mua  VNĐ/Chục quả   \n",
       "42275  Dừa xiêm lai    Bến Tre  Thương lái thu mua  VNĐ/Chục quả   \n",
       "42476  Dừa xiêm lai    Bến Tre  Thương lái thu mua  VNĐ/Chục quả   \n",
       "42676  Dừa xiêm lai    Bến Tre  Thương lái thu mua  VNĐ/Chục quả   \n",
       "42894  Dừa xiêm lai    Bến Tre  Thương lái thu mua  VNĐ/Chục quả   \n",
       "51389  Dừa xiêm lai    Bến Tre  Thương lái thu mua  VNĐ/Chục quả   \n",
       "\n",
       "                Nguồn                    Ngày       Giá Ngành_hàng  \n",
       "30701  CTV địa phương   10/3/2023 12:00:00 AM   60000.0   Rau, quả  \n",
       "30919  CTV địa phương   9/26/2023 12:00:00 AM   60000.0   Rau, quả  \n",
       "31137  CTV địa phương   9/19/2023 12:00:00 AM   50000.0   Rau, quả  \n",
       "31354  CTV địa phương   9/12/2023 12:00:00 AM   70000.0   Rau, quả  \n",
       "31574  CTV địa phương    9/5/2023 12:00:00 AM  600000.0   Rau, quả  \n",
       "32288  CTV địa phương   7/25/2023 12:00:00 AM   40000.0   Rau, quả  \n",
       "32495  CTV địa phương   7/18/2023 12:00:00 AM   73000.0   Rau, quả  \n",
       "32701  CTV địa phương   7/11/2023 12:00:00 AM   75000.0   Rau, quả  \n",
       "32907  CTV địa phương    7/4/2023 12:00:00 AM   75000.0   Rau, quả  \n",
       "33114  CTV địa phương   6/27/2023 12:00:00 AM   70000.0   Rau, quả  \n",
       "33323  CTV địa phương   6/20/2023 12:00:00 AM   70000.0   Rau, quả  \n",
       "33533  CTV địa phương   6/13/2023 12:00:00 AM   80000.0   Rau, quả  \n",
       "33743  CTV địa phương    6/6/2023 12:00:00 AM   25000.0   Rau, quả  \n",
       "33953  CTV địa phương   5/30/2023 12:00:00 AM   25000.0   Rau, quả  \n",
       "34129  CTV địa phương   5/23/2023 12:00:00 AM   40000.0   Rau, quả  \n",
       "34329  CTV địa phương   5/16/2023 12:00:00 AM   40000.0   Rau, quả  \n",
       "34529  CTV địa phương    5/9/2023 12:00:00 AM   40000.0   Rau, quả  \n",
       "34727  CTV địa phương    5/2/2023 12:00:00 AM   25000.0   Rau, quả  \n",
       "34901  CTV địa phương   4/25/2023 12:00:00 AM   25000.0   Rau, quả  \n",
       "35290  CTV địa phương    4/4/2023 12:00:00 AM   40000.0   Rau, quả  \n",
       "35465  CTV địa phương   3/28/2023 12:00:00 AM   25000.0   Rau, quả  \n",
       "35659  CTV địa phương   3/21/2023 12:00:00 AM   25000.0   Rau, quả  \n",
       "35842  CTV địa phương   3/14/2023 12:00:00 AM   25000.0   Rau, quả  \n",
       "36028  CTV địa phương    3/7/2023 12:00:00 AM   25000.0   Rau, quả  \n",
       "36221  CTV địa phương   2/28/2023 12:00:00 AM   25000.0   Rau, quả  \n",
       "36417  CTV địa phương   2/21/2023 12:00:00 AM   25000.0   Rau, quả  \n",
       "36613  CTV địa phương   2/14/2023 12:00:00 AM   25000.0   Rau, quả  \n",
       "36808  CTV địa phương    2/7/2023 12:00:00 AM   25000.0   Rau, quả  \n",
       "37005  CTV địa phương   1/31/2023 12:00:00 AM   35000.0   Rau, quả  \n",
       "37163  CTV địa phương   1/24/2023 12:00:00 AM   35000.0   Rau, quả  \n",
       "37377  CTV địa phương   1/17/2023 12:00:00 AM   35000.0   Rau, quả  \n",
       "37635  CTV địa phương   1/10/2023 12:00:00 AM   35000.0   Rau, quả  \n",
       "37883  CTV địa phương    1/3/2023 12:00:00 AM   35000.0   Rau, quả  \n",
       "38558  CTV địa phương  11/29/2022 12:00:00 AM   35000.0   Rau, quả  \n",
       "38748  CTV địa phương  11/22/2022 12:00:00 AM   35000.0   Rau, quả  \n",
       "38918  CTV địa phương  11/15/2022 12:00:00 AM   35000.0   Rau, quả  \n",
       "39052  CTV địa phương   11/8/2022 12:00:00 AM   35000.0   Rau, quả  \n",
       "39131  CTV địa phương   11/1/2022 12:00:00 AM   64000.0   Rau, quả  \n",
       "39298  CTV địa phương  10/25/2022 12:00:00 AM   35000.0   Rau, quả  \n",
       "39440  CTV địa phương  10/18/2022 12:00:00 AM   40000.0   Rau, quả  \n",
       "39572  CTV địa phương  10/11/2022 12:00:00 AM   40000.0   Rau, quả  \n",
       "39726  CTV địa phương   9/28/2022 12:00:00 AM   40000.0   Rau, quả  \n",
       "39929  CTV địa phương   9/20/2022 12:00:00 AM   40000.0   Rau, quả  \n",
       "40142  CTV địa phương   9/13/2022 12:00:00 AM   45000.0   Rau, quả  \n",
       "40353  CTV địa phương    9/6/2022 12:00:00 AM   45000.0   Rau, quả  \n",
       "40568  CTV địa phương   8/30/2022 12:00:00 AM   40000.0   Rau, quả  \n",
       "40783  CTV địa phương   8/23/2022 12:00:00 AM   30000.0   Rau, quả  \n",
       "40998  CTV địa phương   8/16/2022 12:00:00 AM   30000.0   Rau, quả  \n",
       "41213  CTV địa phương    8/9/2022 12:00:00 AM   60000.0   Rau, quả  \n",
       "41430  CTV địa phương    8/2/2022 12:00:00 AM   60000.0   Rau, quả  \n",
       "41648  CTV địa phương   7/26/2022 12:00:00 AM   60000.0   Rau, quả  \n",
       "41866  CTV địa phương   7/19/2022 12:00:00 AM   50000.0   Rau, quả  \n",
       "42083  CTV địa phương   7/12/2022 12:00:00 AM   50000.0   Rau, quả  \n",
       "42275  CTV địa phương    7/5/2022 12:00:00 AM   50000.0   Rau, quả  \n",
       "42476  CTV địa phương   6/28/2022 12:00:00 AM   55000.0   Rau, quả  \n",
       "42676  CTV địa phương   6/21/2022 12:00:00 AM   60000.0   Rau, quả  \n",
       "42894  CTV địa phương   6/14/2022 12:00:00 AM   60000.0   Rau, quả  \n",
       "51389  CTV địa phương   4/13/2021 12:00:00 AM   80000.0   Rau, quả  "
      ]
     },
     "execution_count": 27,
     "metadata": {},
     "output_type": "execute_result"
    }
   ],
   "source": [
    "data[data[\"Tên_mặt_hàng\"] == \"Dừa xiêm lai\"]"
   ]
  },
  {
   "cell_type": "code",
   "execution_count": null,
   "id": "b06983ae",
   "metadata": {},
   "outputs": [],
   "source": []
  }
 ],
 "metadata": {
  "kernelspec": {
   "display_name": "project3",
   "language": "python",
   "name": "python3"
  },
  "language_info": {
   "codemirror_mode": {
    "name": "ipython",
    "version": 3
   },
   "file_extension": ".py",
   "mimetype": "text/x-python",
   "name": "python",
   "nbconvert_exporter": "python",
   "pygments_lexer": "ipython3",
   "version": "3.11.11"
  }
 },
 "nbformat": 4,
 "nbformat_minor": 5
}
