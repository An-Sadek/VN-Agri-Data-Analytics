{
 "cells": [
  {
   "cell_type": "code",
   "execution_count": 628,
   "id": "fd48576f",
   "metadata": {},
   "outputs": [],
   "source": [
    "import pandas as pd\n",
    "import numpy as np\n",
    "\n",
    "import matplotlib.pyplot as plt\n",
    "import seaborn as sns\n",
    "\n",
    "from dataset import VNAgriDataset\n",
    "\n",
    "from sklearn.preprocessing import LabelEncoder, MinMaxScaler\n",
    "from sklearn.model_selection import train_test_split\n",
    "\n",
    "import pickle\n",
    "import bisect\n",
    "from statsmodels.tsa.stattools import adfuller"
   ]
  },
  {
   "cell_type": "code",
   "execution_count": 629,
   "id": "87333252",
   "metadata": {},
   "outputs": [],
   "source": [
    "caphe_df = pd.read_csv(\"../../data/pre_caphe.csv\")\n",
    "luagao_df = pd.read_csv(\"../../data/pre_luagao.csv\")\n",
    "rauqua_df = pd.read_csv(\"../../data/pre_rauqua.csv\")"
   ]
  },
  {
   "cell_type": "code",
   "execution_count": 630,
   "id": "17b95573",
   "metadata": {},
   "outputs": [],
   "source": [
    "nganh_caphe = pd.Series([\"Cà phê\"] * len(caphe_df), name=\"Ngành_hàng\")\n",
    "nganh_luagao = pd.Series([\"Lua gao\"] * len(luagao_df), name=\"Ngành_hàng\")\n",
    "nganh_rauqua = pd.Series([\"Rau quả\"] * len(rauqua_df), name=\"Ngành_hàng\")"
   ]
  },
  {
   "cell_type": "code",
   "execution_count": 631,
   "id": "84ea5fab",
   "metadata": {},
   "outputs": [],
   "source": [
    "caphe_df = pd.concat([caphe_df, nganh_caphe], axis=1)\n",
    "luagao_df = pd.concat([luagao_df, nganh_luagao], axis=1)\n",
    "rauqua_df = pd.concat([rauqua_df, nganh_rauqua], axis=1)"
   ]
  },
  {
   "cell_type": "code",
   "execution_count": 632,
   "id": "661b882a",
   "metadata": {},
   "outputs": [],
   "source": [
    "pre_data = pd.concat([caphe_df, luagao_df, rauqua_df], axis=0, ignore_index=True)"
   ]
  },
  {
   "cell_type": "code",
   "execution_count": 633,
   "id": "c2535460",
   "metadata": {},
   "outputs": [],
   "source": [
    "pre_data.to_csv(\"../../data/pre_data.csv\", index=False)"
   ]
  },
  {
   "cell_type": "code",
   "execution_count": 634,
   "id": "0f7e740d",
   "metadata": {},
   "outputs": [
    {
     "data": {
      "text/plain": [
       "(48736, 9)"
      ]
     },
     "execution_count": 634,
     "metadata": {},
     "output_type": "execute_result"
    }
   ],
   "source": [
    "pre_data.shape"
   ]
  },
  {
   "cell_type": "code",
   "execution_count": 635,
   "id": "bebda221",
   "metadata": {},
   "outputs": [
    {
     "data": {
      "text/html": [
       "<div>\n",
       "<style scoped>\n",
       "    .dataframe tbody tr th:only-of-type {\n",
       "        vertical-align: middle;\n",
       "    }\n",
       "\n",
       "    .dataframe tbody tr th {\n",
       "        vertical-align: top;\n",
       "    }\n",
       "\n",
       "    .dataframe thead th {\n",
       "        text-align: right;\n",
       "    }\n",
       "</style>\n",
       "<table border=\"1\" class=\"dataframe\">\n",
       "  <thead>\n",
       "    <tr style=\"text-align: right;\">\n",
       "      <th></th>\n",
       "      <th>Tên_mặt_hàng</th>\n",
       "      <th>Thị_trường</th>\n",
       "      <th>Loại_giá</th>\n",
       "      <th>Đơn_vị_tính</th>\n",
       "      <th>Loại_tiền</th>\n",
       "      <th>Nguồn</th>\n",
       "      <th>Ngày</th>\n",
       "      <th>Giá</th>\n",
       "      <th>Ngành_hàng</th>\n",
       "    </tr>\n",
       "  </thead>\n",
       "  <tbody>\n",
       "    <tr>\n",
       "      <th>0</th>\n",
       "      <td>Cà phê Robusta nhân xô</td>\n",
       "      <td>Đắk Lắk</td>\n",
       "      <td>Thương lái thu mua</td>\n",
       "      <td>Vnđ/Kg</td>\n",
       "      <td>VNĐ</td>\n",
       "      <td>CTV địa phương</td>\n",
       "      <td>2025-05-09</td>\n",
       "      <td>128233.0</td>\n",
       "      <td>Cà phê</td>\n",
       "    </tr>\n",
       "    <tr>\n",
       "      <th>1</th>\n",
       "      <td>Cà phê Robusta nhân xô</td>\n",
       "      <td>Đắk Nông</td>\n",
       "      <td>Thương lái thu mua</td>\n",
       "      <td>Vnđ/Kg</td>\n",
       "      <td>VNĐ</td>\n",
       "      <td>CTV địa phương</td>\n",
       "      <td>2025-05-09</td>\n",
       "      <td>128350.0</td>\n",
       "      <td>Cà phê</td>\n",
       "    </tr>\n",
       "    <tr>\n",
       "      <th>2</th>\n",
       "      <td>Cà phê Robusta nhân xô</td>\n",
       "      <td>Gia Lai</td>\n",
       "      <td>Thương lái thu mua</td>\n",
       "      <td>Vnđ/Kg</td>\n",
       "      <td>VNĐ</td>\n",
       "      <td>CTV địa phương</td>\n",
       "      <td>2025-05-09</td>\n",
       "      <td>128233.0</td>\n",
       "      <td>Cà phê</td>\n",
       "    </tr>\n",
       "    <tr>\n",
       "      <th>3</th>\n",
       "      <td>Cà phê Robusta nhân xô</td>\n",
       "      <td>Kon Tum</td>\n",
       "      <td>Thương lái thu mua</td>\n",
       "      <td>Vnđ/Kg</td>\n",
       "      <td>VNĐ</td>\n",
       "      <td>CTV địa phương</td>\n",
       "      <td>2025-05-09</td>\n",
       "      <td>128200.0</td>\n",
       "      <td>Cà phê</td>\n",
       "    </tr>\n",
       "    <tr>\n",
       "      <th>4</th>\n",
       "      <td>Cà phê Robusta nhân xô</td>\n",
       "      <td>Lâm Đồng</td>\n",
       "      <td>Thương lái thu mua</td>\n",
       "      <td>Vnđ/Kg</td>\n",
       "      <td>VNĐ</td>\n",
       "      <td>CTV địa phương</td>\n",
       "      <td>2025-05-09</td>\n",
       "      <td>128000.0</td>\n",
       "      <td>Cà phê</td>\n",
       "    </tr>\n",
       "  </tbody>\n",
       "</table>\n",
       "</div>"
      ],
      "text/plain": [
       "             Tên_mặt_hàng Thị_trường            Loại_giá Đơn_vị_tính  \\\n",
       "0  Cà phê Robusta nhân xô    Đắk Lắk  Thương lái thu mua      Vnđ/Kg   \n",
       "1  Cà phê Robusta nhân xô   Đắk Nông  Thương lái thu mua      Vnđ/Kg   \n",
       "2  Cà phê Robusta nhân xô    Gia Lai  Thương lái thu mua      Vnđ/Kg   \n",
       "3  Cà phê Robusta nhân xô    Kon Tum  Thương lái thu mua      Vnđ/Kg   \n",
       "4  Cà phê Robusta nhân xô   Lâm Đồng  Thương lái thu mua      Vnđ/Kg   \n",
       "\n",
       "  Loại_tiền           Nguồn        Ngày       Giá Ngành_hàng  \n",
       "0       VNĐ  CTV địa phương  2025-05-09  128233.0     Cà phê  \n",
       "1       VNĐ  CTV địa phương  2025-05-09  128350.0     Cà phê  \n",
       "2       VNĐ  CTV địa phương  2025-05-09  128233.0     Cà phê  \n",
       "3       VNĐ  CTV địa phương  2025-05-09  128200.0     Cà phê  \n",
       "4       VNĐ  CTV địa phương  2025-05-09  128000.0     Cà phê  "
      ]
     },
     "execution_count": 635,
     "metadata": {},
     "output_type": "execute_result"
    }
   ],
   "source": [
    "pre_data.head()"
   ]
  },
  {
   "cell_type": "code",
   "execution_count": 636,
   "id": "34bbeae2",
   "metadata": {},
   "outputs": [],
   "source": [
    "pre_data[\"Ngày\"] = pd.to_datetime(pre_data[\"Ngày\"], format=\"%Y-%m-%d\")"
   ]
  },
  {
   "cell_type": "markdown",
   "id": "0b216f00",
   "metadata": {},
   "source": [
    "# Kiểm tra cột tên mặt hàng"
   ]
  },
  {
   "cell_type": "code",
   "execution_count": 637,
   "id": "f8a206c2",
   "metadata": {},
   "outputs": [
    {
     "data": {
      "text/plain": [
       "array(['Cà phê Robusta nhân xô', 'Cà phê Arabica nhân xô', 'CLC 4900',\n",
       "       'Jasmine', 'OM 18'], dtype=object)"
      ]
     },
     "execution_count": 637,
     "metadata": {},
     "output_type": "execute_result"
    }
   ],
   "source": [
    "pre_data[\"Tên_mặt_hàng\"].unique()[:5]"
   ]
  },
  {
   "cell_type": "code",
   "execution_count": 638,
   "id": "e40548fd",
   "metadata": {},
   "outputs": [
    {
     "name": "stdout",
     "output_type": "stream",
     "text": [
      "394\n"
     ]
    }
   ],
   "source": [
    "print(len(pre_data[\"Tên_mặt_hàng\"].unique()))"
   ]
  },
  {
   "cell_type": "markdown",
   "id": "d7c10434",
   "metadata": {},
   "source": [
    "## Xoá các mặt hàng có số lượng record ít"
   ]
  },
  {
   "cell_type": "code",
   "execution_count": 639,
   "id": "2914a015",
   "metadata": {},
   "outputs": [],
   "source": [
    "items = pre_data[\"Tên_mặt_hàng\"].unique()\n",
    "n_items = []\n",
    "\n",
    "for item in items:\n",
    "    n = len(pre_data[pre_data[\"Tên_mặt_hàng\"] == item])\n",
    "    n_items.append(n)"
   ]
  },
  {
   "cell_type": "code",
   "execution_count": 640,
   "id": "ffdbf166",
   "metadata": {},
   "outputs": [],
   "source": [
    "q1 = np.quantile(n_items, 0.5)"
   ]
  },
  {
   "cell_type": "code",
   "execution_count": 641,
   "id": "d5ecfe2c",
   "metadata": {},
   "outputs": [],
   "source": [
    "pre_data = pre_data.groupby(\"Tên_mặt_hàng\").filter(lambda x: len(x) >= q1)"
   ]
  },
  {
   "cell_type": "code",
   "execution_count": 642,
   "id": "50e3c3eb",
   "metadata": {},
   "outputs": [
    {
     "data": {
      "text/plain": [
       "197"
      ]
     },
     "execution_count": 642,
     "metadata": {},
     "output_type": "execute_result"
    }
   ],
   "source": [
    "len(pre_data[\"Tên_mặt_hàng\"].unique())"
   ]
  },
  {
   "cell_type": "code",
   "execution_count": 643,
   "id": "79cc38f9",
   "metadata": {},
   "outputs": [
    {
     "data": {
      "text/plain": [
       "np.float64(59.5)"
      ]
     },
     "execution_count": 643,
     "metadata": {},
     "output_type": "execute_result"
    }
   ],
   "source": [
    "q1"
   ]
  },
  {
   "cell_type": "markdown",
   "id": "485c1364",
   "metadata": {},
   "source": [
    "# Kiểm tra cột thị trường"
   ]
  },
  {
   "cell_type": "code",
   "execution_count": 644,
   "id": "0b7dc659",
   "metadata": {},
   "outputs": [
    {
     "data": {
      "text/plain": [
       "array(['Đắk Lắk', 'Đắk Nông', 'Gia Lai', 'Kon Tum', 'Lâm Đồng',\n",
       "       'Hồ Chí Minh', 'Cần Thơ', 'Sóc Trăng', 'Đồng Tháp', 'Kiên Giang',\n",
       "       'An Giang', 'Tiền Giang', 'Trà Vinh', 'Hậu Giang', 'Thái Bình',\n",
       "       'Hà Nội', 'Bến Tre', 'Cà Mau', 'Long An', 'Vĩnh Long', 'Bạc Liêu',\n",
       "       'Sơn La'], dtype=object)"
      ]
     },
     "execution_count": 644,
     "metadata": {},
     "output_type": "execute_result"
    }
   ],
   "source": [
    "pre_data[\"Thị_trường\"].unique()"
   ]
  },
  {
   "cell_type": "code",
   "execution_count": 645,
   "id": "b5f077e0",
   "metadata": {},
   "outputs": [
    {
     "name": "stdout",
     "output_type": "stream",
     "text": [
      "22\n"
     ]
    }
   ],
   "source": [
    "print(len(pre_data[\"Thị_trường\"].unique()))"
   ]
  },
  {
   "cell_type": "markdown",
   "id": "ba81c4e8",
   "metadata": {},
   "source": [
    "# Kiểm tra cột loại giá"
   ]
  },
  {
   "cell_type": "code",
   "execution_count": 646,
   "id": "09274300",
   "metadata": {},
   "outputs": [
    {
     "data": {
      "text/plain": [
       "array(['Thương lái thu mua', 'Công ty thu mua', 'Đại lý thu mua',\n",
       "       'Thu mua', 'Bán ra', 'Xuất khẩu', 'Tại chợ', 'Bán lẻ', 'Khác',\n",
       "       'Thu mua tại vườn', 'Bán buôn', 'Vựa thu mua'], dtype=object)"
      ]
     },
     "execution_count": 646,
     "metadata": {},
     "output_type": "execute_result"
    }
   ],
   "source": [
    "pre_data[\"Loại_giá\"].unique()"
   ]
  },
  {
   "cell_type": "code",
   "execution_count": 647,
   "id": "e959b414",
   "metadata": {},
   "outputs": [
    {
     "name": "stdout",
     "output_type": "stream",
     "text": [
      "12\n"
     ]
    }
   ],
   "source": [
    "print(len(pre_data[\"Loại_giá\"].unique()))"
   ]
  },
  {
   "cell_type": "markdown",
   "id": "809e5e66",
   "metadata": {},
   "source": [
    "# Kiểm tra đơn vị tính"
   ]
  },
  {
   "cell_type": "code",
   "execution_count": 648,
   "id": "ac2738d9",
   "metadata": {},
   "outputs": [
    {
     "data": {
      "text/plain": [
       "array(['Vnđ/Kg', 'VNĐ/kg', 'VNĐ/Kg', 'Đồng/kg', 'VNĐ/quả', 'VNĐ/mớ',\n",
       "       'VNĐ/Chục quả', 'VNĐ/củ', 'VNĐ/Quả', 'VNĐ/cây'], dtype=object)"
      ]
     },
     "execution_count": 648,
     "metadata": {},
     "output_type": "execute_result"
    }
   ],
   "source": [
    "pre_data[\"Đơn_vị_tính\"].unique()"
   ]
  },
  {
   "cell_type": "code",
   "execution_count": 649,
   "id": "b44bad66",
   "metadata": {},
   "outputs": [
    {
     "name": "stdout",
     "output_type": "stream",
     "text": [
      "10\n"
     ]
    }
   ],
   "source": [
    "print(len(pre_data[\"Đơn_vị_tính\"].unique()))"
   ]
  },
  {
   "cell_type": "code",
   "execution_count": 650,
   "id": "03325218",
   "metadata": {},
   "outputs": [],
   "source": [
    "pre_data[\"Đơn_vị_tính\"] = pre_data[\"Đơn_vị_tính\"].apply(\n",
    "    lambda x: \"Đồng/kg\" if x in [\n",
    "        'Vnđ/Kg', 'VNĐ/kg', 'VNĐ/Kg', 'Đồng/kg', 'VNĐ/củ', 'VNĐ/Quả'] else x\n",
    ")"
   ]
  },
  {
   "cell_type": "code",
   "execution_count": 651,
   "id": "213d257b",
   "metadata": {},
   "outputs": [
    {
     "data": {
      "text/plain": [
       "array(['Đồng/kg', 'VNĐ/quả', 'VNĐ/mớ', 'VNĐ/Chục quả', 'VNĐ/cây'],\n",
       "      dtype=object)"
      ]
     },
     "execution_count": 651,
     "metadata": {},
     "output_type": "execute_result"
    }
   ],
   "source": [
    "pre_data[\"Đơn_vị_tính\"].unique()"
   ]
  },
  {
   "cell_type": "markdown",
   "id": "cad6ddb2",
   "metadata": {},
   "source": [
    "# Kiểm tra cột loại tiền"
   ]
  },
  {
   "cell_type": "code",
   "execution_count": 652,
   "id": "ea632305",
   "metadata": {},
   "outputs": [
    {
     "data": {
      "text/plain": [
       "array(['VNĐ'], dtype=object)"
      ]
     },
     "execution_count": 652,
     "metadata": {},
     "output_type": "execute_result"
    }
   ],
   "source": [
    "pre_data[\"Loại_tiền\"].unique()"
   ]
  },
  {
   "cell_type": "code",
   "execution_count": 653,
   "id": "e66774b3",
   "metadata": {},
   "outputs": [],
   "source": [
    "del pre_data[\"Loại_tiền\"]"
   ]
  },
  {
   "cell_type": "code",
   "execution_count": 654,
   "id": "871e961d",
   "metadata": {},
   "outputs": [
    {
     "data": {
      "text/html": [
       "<div>\n",
       "<style scoped>\n",
       "    .dataframe tbody tr th:only-of-type {\n",
       "        vertical-align: middle;\n",
       "    }\n",
       "\n",
       "    .dataframe tbody tr th {\n",
       "        vertical-align: top;\n",
       "    }\n",
       "\n",
       "    .dataframe thead th {\n",
       "        text-align: right;\n",
       "    }\n",
       "</style>\n",
       "<table border=\"1\" class=\"dataframe\">\n",
       "  <thead>\n",
       "    <tr style=\"text-align: right;\">\n",
       "      <th></th>\n",
       "      <th>Tên_mặt_hàng</th>\n",
       "      <th>Thị_trường</th>\n",
       "      <th>Loại_giá</th>\n",
       "      <th>Đơn_vị_tính</th>\n",
       "      <th>Nguồn</th>\n",
       "      <th>Ngày</th>\n",
       "      <th>Giá</th>\n",
       "      <th>Ngành_hàng</th>\n",
       "    </tr>\n",
       "  </thead>\n",
       "  <tbody>\n",
       "    <tr>\n",
       "      <th>0</th>\n",
       "      <td>Cà phê Robusta nhân xô</td>\n",
       "      <td>Đắk Lắk</td>\n",
       "      <td>Thương lái thu mua</td>\n",
       "      <td>Đồng/kg</td>\n",
       "      <td>CTV địa phương</td>\n",
       "      <td>2025-05-09</td>\n",
       "      <td>128233.0</td>\n",
       "      <td>Cà phê</td>\n",
       "    </tr>\n",
       "    <tr>\n",
       "      <th>1</th>\n",
       "      <td>Cà phê Robusta nhân xô</td>\n",
       "      <td>Đắk Nông</td>\n",
       "      <td>Thương lái thu mua</td>\n",
       "      <td>Đồng/kg</td>\n",
       "      <td>CTV địa phương</td>\n",
       "      <td>2025-05-09</td>\n",
       "      <td>128350.0</td>\n",
       "      <td>Cà phê</td>\n",
       "    </tr>\n",
       "    <tr>\n",
       "      <th>2</th>\n",
       "      <td>Cà phê Robusta nhân xô</td>\n",
       "      <td>Gia Lai</td>\n",
       "      <td>Thương lái thu mua</td>\n",
       "      <td>Đồng/kg</td>\n",
       "      <td>CTV địa phương</td>\n",
       "      <td>2025-05-09</td>\n",
       "      <td>128233.0</td>\n",
       "      <td>Cà phê</td>\n",
       "    </tr>\n",
       "    <tr>\n",
       "      <th>3</th>\n",
       "      <td>Cà phê Robusta nhân xô</td>\n",
       "      <td>Kon Tum</td>\n",
       "      <td>Thương lái thu mua</td>\n",
       "      <td>Đồng/kg</td>\n",
       "      <td>CTV địa phương</td>\n",
       "      <td>2025-05-09</td>\n",
       "      <td>128200.0</td>\n",
       "      <td>Cà phê</td>\n",
       "    </tr>\n",
       "    <tr>\n",
       "      <th>4</th>\n",
       "      <td>Cà phê Robusta nhân xô</td>\n",
       "      <td>Lâm Đồng</td>\n",
       "      <td>Thương lái thu mua</td>\n",
       "      <td>Đồng/kg</td>\n",
       "      <td>CTV địa phương</td>\n",
       "      <td>2025-05-09</td>\n",
       "      <td>128000.0</td>\n",
       "      <td>Cà phê</td>\n",
       "    </tr>\n",
       "  </tbody>\n",
       "</table>\n",
       "</div>"
      ],
      "text/plain": [
       "             Tên_mặt_hàng Thị_trường            Loại_giá Đơn_vị_tính  \\\n",
       "0  Cà phê Robusta nhân xô    Đắk Lắk  Thương lái thu mua     Đồng/kg   \n",
       "1  Cà phê Robusta nhân xô   Đắk Nông  Thương lái thu mua     Đồng/kg   \n",
       "2  Cà phê Robusta nhân xô    Gia Lai  Thương lái thu mua     Đồng/kg   \n",
       "3  Cà phê Robusta nhân xô    Kon Tum  Thương lái thu mua     Đồng/kg   \n",
       "4  Cà phê Robusta nhân xô   Lâm Đồng  Thương lái thu mua     Đồng/kg   \n",
       "\n",
       "            Nguồn       Ngày       Giá Ngành_hàng  \n",
       "0  CTV địa phương 2025-05-09  128233.0     Cà phê  \n",
       "1  CTV địa phương 2025-05-09  128350.0     Cà phê  \n",
       "2  CTV địa phương 2025-05-09  128233.0     Cà phê  \n",
       "3  CTV địa phương 2025-05-09  128200.0     Cà phê  \n",
       "4  CTV địa phương 2025-05-09  128000.0     Cà phê  "
      ]
     },
     "execution_count": 654,
     "metadata": {},
     "output_type": "execute_result"
    }
   ],
   "source": [
    "pre_data.head()"
   ]
  },
  {
   "cell_type": "markdown",
   "id": "952c8173",
   "metadata": {},
   "source": [
    "# Kiểm tra giá trị ADF"
   ]
  },
  {
   "cell_type": "code",
   "execution_count": 655,
   "id": "0e04bb52",
   "metadata": {},
   "outputs": [
    {
     "name": "stderr",
     "output_type": "stream",
     "text": [
      "C:\\Users\\DELL\\AppData\\Local\\Temp\\ipykernel_5992\\3169476205.py:30: FutureWarning: The behavior of DataFrame concatenation with empty or all-NA entries is deprecated. In a future version, this will no longer exclude empty or all-NA columns when determining the result dtypes. To retain the old behavior, exclude the relevant entries before the concat operation.\n",
      "  adf_results = pd.concat([adf_results, temp_df])\n",
      "d:\\Apps\\Miniconda\\envs\\project3\\Lib\\site-packages\\statsmodels\\regression\\linear_model.py:955: RuntimeWarning: divide by zero encountered in log\n",
      "  llf = -nobs2*np.log(2*np.pi) - nobs2*np.log(ssr / nobs) - nobs2\n"
     ]
    },
    {
     "data": {
      "text/html": [
       "<div>\n",
       "<style scoped>\n",
       "    .dataframe tbody tr th:only-of-type {\n",
       "        vertical-align: middle;\n",
       "    }\n",
       "\n",
       "    .dataframe tbody tr th {\n",
       "        vertical-align: top;\n",
       "    }\n",
       "\n",
       "    .dataframe thead th {\n",
       "        text-align: right;\n",
       "    }\n",
       "</style>\n",
       "<table border=\"1\" class=\"dataframe\">\n",
       "  <thead>\n",
       "    <tr style=\"text-align: right;\">\n",
       "      <th></th>\n",
       "      <th>adf_stats</th>\n",
       "      <th>n_lags</th>\n",
       "      <th>p_value</th>\n",
       "      <th>1%</th>\n",
       "      <th>5%</th>\n",
       "      <th>10%</th>\n",
       "      <th>Tên_mặt_hàng</th>\n",
       "    </tr>\n",
       "  </thead>\n",
       "  <tbody>\n",
       "    <tr>\n",
       "      <th>0</th>\n",
       "      <td>-1.544740</td>\n",
       "      <td>31</td>\n",
       "      <td>0.511275</td>\n",
       "      <td>-3.431717</td>\n",
       "      <td>-2.862144</td>\n",
       "      <td>-2.567092</td>\n",
       "      <td>Cà phê Robusta nhân xô</td>\n",
       "    </tr>\n",
       "    <tr>\n",
       "      <th>0</th>\n",
       "      <td>-0.957852</td>\n",
       "      <td>6</td>\n",
       "      <td>0.768325</td>\n",
       "      <td>-3.491818</td>\n",
       "      <td>-2.888444</td>\n",
       "      <td>-2.581120</td>\n",
       "      <td>CLC 4900</td>\n",
       "    </tr>\n",
       "    <tr>\n",
       "      <th>0</th>\n",
       "      <td>-1.002442</td>\n",
       "      <td>17</td>\n",
       "      <td>0.752373</td>\n",
       "      <td>-3.451215</td>\n",
       "      <td>-2.870730</td>\n",
       "      <td>-2.571666</td>\n",
       "      <td>Jasmine</td>\n",
       "    </tr>\n",
       "    <tr>\n",
       "      <th>0</th>\n",
       "      <td>-2.137725</td>\n",
       "      <td>12</td>\n",
       "      <td>0.229618</td>\n",
       "      <td>-3.450022</td>\n",
       "      <td>-2.870207</td>\n",
       "      <td>-2.571387</td>\n",
       "      <td>OM 18</td>\n",
       "    </tr>\n",
       "    <tr>\n",
       "      <th>0</th>\n",
       "      <td>-3.004943</td>\n",
       "      <td>9</td>\n",
       "      <td>0.034435</td>\n",
       "      <td>-3.461136</td>\n",
       "      <td>-2.875079</td>\n",
       "      <td>-2.573986</td>\n",
       "      <td>OM 5451</td>\n",
       "    </tr>\n",
       "  </tbody>\n",
       "</table>\n",
       "</div>"
      ],
      "text/plain": [
       "   adf_stats n_lags   p_value        1%        5%       10%  \\\n",
       "0  -1.544740     31  0.511275 -3.431717 -2.862144 -2.567092   \n",
       "0  -0.957852      6  0.768325 -3.491818 -2.888444 -2.581120   \n",
       "0  -1.002442     17  0.752373 -3.451215 -2.870730 -2.571666   \n",
       "0  -2.137725     12  0.229618 -3.450022 -2.870207 -2.571387   \n",
       "0  -3.004943      9  0.034435 -3.461136 -2.875079 -2.573986   \n",
       "\n",
       "             Tên_mặt_hàng  \n",
       "0  Cà phê Robusta nhân xô  \n",
       "0                CLC 4900  \n",
       "0                 Jasmine  \n",
       "0                   OM 18  \n",
       "0                 OM 5451  "
      ]
     },
     "execution_count": 655,
     "metadata": {},
     "output_type": "execute_result"
    }
   ],
   "source": [
    "adf_columns = [\n",
    "    \"adf_stats\", \n",
    "    \"n_lags\", \n",
    "    \"p_value\", \n",
    "    \"1%\", \n",
    "    \"5%\", \n",
    "    \"10%\", \n",
    "    \"Tên_mặt_hàng\"\n",
    "]\n",
    "adf_results = pd.DataFrame(columns=adf_columns)\n",
    "\n",
    "items = pre_data[\"Tên_mặt_hàng\"].unique()\n",
    "for item in items:\n",
    "\n",
    "    try:\n",
    "        result = adfuller(pre_data[pre_data[\"Tên_mặt_hàng\"]==item][\"Giá\"])\n",
    "    except ValueError as e:\n",
    "        continue\n",
    "    \n",
    "    temp_df = pd.DataFrame({\n",
    "        \"adf_stats\": result[0], \n",
    "        \"p_value\": result[1], \n",
    "        \"n_lags\": result[2], \n",
    "        \"1%\": result[4][\"1%\"], \n",
    "        \"5%\": result[4][\"5%\"], \n",
    "        \"10%\": result[4][\"10%\"], \n",
    "        \"Tên_mặt_hàng\": item\n",
    "    }, index=[0])\n",
    "\n",
    "    adf_results = pd.concat([adf_results, temp_df])\n",
    "    \n",
    "adf_results.head()"
   ]
  },
  {
   "cell_type": "code",
   "execution_count": 656,
   "id": "aad6170e",
   "metadata": {},
   "outputs": [],
   "source": [
    "success_adf_test = adf_results[\n",
    "    (adf_results[\"adf_stats\"] < adf_results[\"10%\"]) & \n",
    "    (adf_results[\"p_value\"] < 0.05)\n",
    "]"
   ]
  },
  {
   "cell_type": "code",
   "execution_count": 657,
   "id": "f0655c24",
   "metadata": {},
   "outputs": [
    {
     "data": {
      "text/plain": [
       "65"
      ]
     },
     "execution_count": 657,
     "metadata": {},
     "output_type": "execute_result"
    }
   ],
   "source": [
    "len(success_adf_test)"
   ]
  },
  {
   "cell_type": "code",
   "execution_count": 658,
   "id": "fa6334d0",
   "metadata": {},
   "outputs": [],
   "source": [
    "filter_items = success_adf_test[\"Tên_mặt_hàng\"].unique()"
   ]
  },
  {
   "cell_type": "code",
   "execution_count": 659,
   "id": "5b2695b8",
   "metadata": {},
   "outputs": [],
   "source": [
    "filtered_data = pre_data[pre_data[\"Tên_mặt_hàng\"].isin(filter_items)]"
   ]
  },
  {
   "cell_type": "code",
   "execution_count": 660,
   "id": "77785ef3",
   "metadata": {},
   "outputs": [
    {
     "name": "stdout",
     "output_type": "stream",
     "text": [
      "17333\n"
     ]
    }
   ],
   "source": [
    "print(len(filtered_data))"
   ]
  },
  {
   "cell_type": "code",
   "execution_count": 661,
   "id": "02821a26",
   "metadata": {},
   "outputs": [
    {
     "data": {
      "text/html": [
       "<div>\n",
       "<style scoped>\n",
       "    .dataframe tbody tr th:only-of-type {\n",
       "        vertical-align: middle;\n",
       "    }\n",
       "\n",
       "    .dataframe tbody tr th {\n",
       "        vertical-align: top;\n",
       "    }\n",
       "\n",
       "    .dataframe thead th {\n",
       "        text-align: right;\n",
       "    }\n",
       "</style>\n",
       "<table border=\"1\" class=\"dataframe\">\n",
       "  <thead>\n",
       "    <tr style=\"text-align: right;\">\n",
       "      <th></th>\n",
       "      <th>Tên_mặt_hàng</th>\n",
       "      <th>Thị_trường</th>\n",
       "      <th>Loại_giá</th>\n",
       "      <th>Đơn_vị_tính</th>\n",
       "      <th>Nguồn</th>\n",
       "      <th>Ngày</th>\n",
       "      <th>Giá</th>\n",
       "      <th>Ngành_hàng</th>\n",
       "    </tr>\n",
       "  </thead>\n",
       "  <tbody>\n",
       "    <tr>\n",
       "      <th>4842</th>\n",
       "      <td>OM 5451</td>\n",
       "      <td>Cần Thơ</td>\n",
       "      <td>Thương lái thu mua</td>\n",
       "      <td>Đồng/kg</td>\n",
       "      <td>CTV địa phương</td>\n",
       "      <td>2025-05-19</td>\n",
       "      <td>6000.0</td>\n",
       "      <td>Lua gao</td>\n",
       "    </tr>\n",
       "    <tr>\n",
       "      <th>4847</th>\n",
       "      <td>OM 5451</td>\n",
       "      <td>Sóc Trăng</td>\n",
       "      <td>Thương lái thu mua</td>\n",
       "      <td>Đồng/kg</td>\n",
       "      <td>CTV địa phương</td>\n",
       "      <td>2025-05-19</td>\n",
       "      <td>7125.0</td>\n",
       "      <td>Lua gao</td>\n",
       "    </tr>\n",
       "    <tr>\n",
       "      <th>4856</th>\n",
       "      <td>Gạo NL 25% tấm</td>\n",
       "      <td>Kiên Giang</td>\n",
       "      <td>Thương lái thu mua</td>\n",
       "      <td>Đồng/kg</td>\n",
       "      <td>CTV địa phương</td>\n",
       "      <td>2025-05-16</td>\n",
       "      <td>8460.0</td>\n",
       "      <td>Lua gao</td>\n",
       "    </tr>\n",
       "    <tr>\n",
       "      <th>4860</th>\n",
       "      <td>Gạo XK 5% tấm</td>\n",
       "      <td>Kiên Giang</td>\n",
       "      <td>Thương lái thu mua</td>\n",
       "      <td>Đồng/kg</td>\n",
       "      <td>CTV địa phương</td>\n",
       "      <td>2025-05-16</td>\n",
       "      <td>10070.0</td>\n",
       "      <td>Lua gao</td>\n",
       "    </tr>\n",
       "    <tr>\n",
       "      <th>4865</th>\n",
       "      <td>OM 5451</td>\n",
       "      <td>Kiên Giang</td>\n",
       "      <td>Thương lái thu mua</td>\n",
       "      <td>Đồng/kg</td>\n",
       "      <td>CTV địa phương</td>\n",
       "      <td>2025-05-16</td>\n",
       "      <td>5900.0</td>\n",
       "      <td>Lua gao</td>\n",
       "    </tr>\n",
       "  </tbody>\n",
       "</table>\n",
       "</div>"
      ],
      "text/plain": [
       "        Tên_mặt_hàng  Thị_trường            Loại_giá Đơn_vị_tính  \\\n",
       "4842         OM 5451     Cần Thơ  Thương lái thu mua     Đồng/kg   \n",
       "4847         OM 5451   Sóc Trăng  Thương lái thu mua     Đồng/kg   \n",
       "4856  Gạo NL 25% tấm  Kiên Giang  Thương lái thu mua     Đồng/kg   \n",
       "4860   Gạo XK 5% tấm  Kiên Giang  Thương lái thu mua     Đồng/kg   \n",
       "4865         OM 5451  Kiên Giang  Thương lái thu mua     Đồng/kg   \n",
       "\n",
       "               Nguồn       Ngày      Giá Ngành_hàng  \n",
       "4842  CTV địa phương 2025-05-19   6000.0    Lua gao  \n",
       "4847  CTV địa phương 2025-05-19   7125.0    Lua gao  \n",
       "4856  CTV địa phương 2025-05-16   8460.0    Lua gao  \n",
       "4860  CTV địa phương 2025-05-16  10070.0    Lua gao  \n",
       "4865  CTV địa phương 2025-05-16   5900.0    Lua gao  "
      ]
     },
     "execution_count": 661,
     "metadata": {},
     "output_type": "execute_result"
    }
   ],
   "source": [
    "filtered_data.head()"
   ]
  },
  {
   "cell_type": "markdown",
   "id": "63de31d8",
   "metadata": {},
   "source": [
    "# Lập metadata trước khi được chuẩn hoá thời gian và Label Encoder"
   ]
  },
  {
   "cell_type": "code",
   "execution_count": null,
   "id": "61ffa709",
   "metadata": {},
   "outputs": [],
   "source": []
  },
  {
   "cell_type": "markdown",
   "id": "b83e005b",
   "metadata": {},
   "source": [
    "# Chuẩn hoá mốc thời gian"
   ]
  },
  {
   "cell_type": "markdown",
   "id": "4f651cc1",
   "metadata": {},
   "source": [
    "## Thêm 1 cột ngày được chuyển sang kiểu int cho dễ"
   ]
  },
  {
   "cell_type": "code",
   "execution_count": 662,
   "id": "6ae00a78",
   "metadata": {},
   "outputs": [
    {
     "data": {
      "text/plain": [
       "Index(['Tên_mặt_hàng', 'Thị_trường', 'Loại_giá', 'Đơn_vị_tính', 'Nguồn',\n",
       "       'Ngày', 'Giá', 'Ngành_hàng'],\n",
       "      dtype='object')"
      ]
     },
     "execution_count": 662,
     "metadata": {},
     "output_type": "execute_result"
    }
   ],
   "source": [
    "filtered_data.columns"
   ]
  },
  {
   "cell_type": "code",
   "execution_count": 663,
   "id": "9c06a6a9",
   "metadata": {},
   "outputs": [
    {
     "data": {
      "text/html": [
       "<div>\n",
       "<style scoped>\n",
       "    .dataframe tbody tr th:only-of-type {\n",
       "        vertical-align: middle;\n",
       "    }\n",
       "\n",
       "    .dataframe tbody tr th {\n",
       "        vertical-align: top;\n",
       "    }\n",
       "\n",
       "    .dataframe thead th {\n",
       "        text-align: right;\n",
       "    }\n",
       "</style>\n",
       "<table border=\"1\" class=\"dataframe\">\n",
       "  <thead>\n",
       "    <tr style=\"text-align: right;\">\n",
       "      <th></th>\n",
       "      <th>Tên_mặt_hàng</th>\n",
       "      <th>Thị_trường</th>\n",
       "      <th>Loại_giá</th>\n",
       "      <th>Đơn_vị_tính</th>\n",
       "      <th>Nguồn</th>\n",
       "      <th>Ngày</th>\n",
       "      <th>Giá</th>\n",
       "      <th>Ngành_hàng</th>\n",
       "    </tr>\n",
       "  </thead>\n",
       "  <tbody>\n",
       "    <tr>\n",
       "      <th>4842</th>\n",
       "      <td>OM 5451</td>\n",
       "      <td>Cần Thơ</td>\n",
       "      <td>Thương lái thu mua</td>\n",
       "      <td>Đồng/kg</td>\n",
       "      <td>CTV địa phương</td>\n",
       "      <td>2025-05-19</td>\n",
       "      <td>6000.0</td>\n",
       "      <td>Lua gao</td>\n",
       "    </tr>\n",
       "    <tr>\n",
       "      <th>4847</th>\n",
       "      <td>OM 5451</td>\n",
       "      <td>Sóc Trăng</td>\n",
       "      <td>Thương lái thu mua</td>\n",
       "      <td>Đồng/kg</td>\n",
       "      <td>CTV địa phương</td>\n",
       "      <td>2025-05-19</td>\n",
       "      <td>7125.0</td>\n",
       "      <td>Lua gao</td>\n",
       "    </tr>\n",
       "    <tr>\n",
       "      <th>4856</th>\n",
       "      <td>Gạo NL 25% tấm</td>\n",
       "      <td>Kiên Giang</td>\n",
       "      <td>Thương lái thu mua</td>\n",
       "      <td>Đồng/kg</td>\n",
       "      <td>CTV địa phương</td>\n",
       "      <td>2025-05-16</td>\n",
       "      <td>8460.0</td>\n",
       "      <td>Lua gao</td>\n",
       "    </tr>\n",
       "    <tr>\n",
       "      <th>4860</th>\n",
       "      <td>Gạo XK 5% tấm</td>\n",
       "      <td>Kiên Giang</td>\n",
       "      <td>Thương lái thu mua</td>\n",
       "      <td>Đồng/kg</td>\n",
       "      <td>CTV địa phương</td>\n",
       "      <td>2025-05-16</td>\n",
       "      <td>10070.0</td>\n",
       "      <td>Lua gao</td>\n",
       "    </tr>\n",
       "    <tr>\n",
       "      <th>4865</th>\n",
       "      <td>OM 5451</td>\n",
       "      <td>Kiên Giang</td>\n",
       "      <td>Thương lái thu mua</td>\n",
       "      <td>Đồng/kg</td>\n",
       "      <td>CTV địa phương</td>\n",
       "      <td>2025-05-16</td>\n",
       "      <td>5900.0</td>\n",
       "      <td>Lua gao</td>\n",
       "    </tr>\n",
       "  </tbody>\n",
       "</table>\n",
       "</div>"
      ],
      "text/plain": [
       "        Tên_mặt_hàng  Thị_trường            Loại_giá Đơn_vị_tính  \\\n",
       "4842         OM 5451     Cần Thơ  Thương lái thu mua     Đồng/kg   \n",
       "4847         OM 5451   Sóc Trăng  Thương lái thu mua     Đồng/kg   \n",
       "4856  Gạo NL 25% tấm  Kiên Giang  Thương lái thu mua     Đồng/kg   \n",
       "4860   Gạo XK 5% tấm  Kiên Giang  Thương lái thu mua     Đồng/kg   \n",
       "4865         OM 5451  Kiên Giang  Thương lái thu mua     Đồng/kg   \n",
       "\n",
       "               Nguồn       Ngày      Giá Ngành_hàng  \n",
       "4842  CTV địa phương 2025-05-19   6000.0    Lua gao  \n",
       "4847  CTV địa phương 2025-05-19   7125.0    Lua gao  \n",
       "4856  CTV địa phương 2025-05-16   8460.0    Lua gao  \n",
       "4860  CTV địa phương 2025-05-16  10070.0    Lua gao  \n",
       "4865  CTV địa phương 2025-05-16   5900.0    Lua gao  "
      ]
     },
     "execution_count": 663,
     "metadata": {},
     "output_type": "execute_result"
    }
   ],
   "source": [
    "filtered_data.head()"
   ]
  },
  {
   "cell_type": "code",
   "execution_count": 664,
   "id": "852ce6a6",
   "metadata": {},
   "outputs": [],
   "source": [
    "items = filtered_data[\"Tên_mặt_hàng\"].unique()"
   ]
  },
  {
   "cell_type": "code",
   "execution_count": 665,
   "id": "f235f027",
   "metadata": {},
   "outputs": [
    {
     "data": {
      "text/plain": [
       "array(['OM 5451', 'Gạo NL 25% tấm', 'Gạo XK 5% tấm', 'Lúa IR 50404',\n",
       "       'Lúa Jasmine'], dtype=object)"
      ]
     },
     "execution_count": 665,
     "metadata": {},
     "output_type": "execute_result"
    }
   ],
   "source": [
    "items[:5]"
   ]
  },
  {
   "cell_type": "code",
   "execution_count": 666,
   "id": "3a410526",
   "metadata": {},
   "outputs": [],
   "source": [
    "from datetime import datetime\n",
    "\n",
    "start_date = filtered_data[\"Ngày\"].min()\n",
    "end_date = filtered_data[\"Ngày\"].max()"
   ]
  },
  {
   "cell_type": "code",
   "execution_count": 667,
   "id": "46bc2aea",
   "metadata": {},
   "outputs": [
    {
     "name": "stderr",
     "output_type": "stream",
     "text": [
      "C:\\Users\\DELL\\AppData\\Local\\Temp\\ipykernel_5992\\827847078.py:1: SettingWithCopyWarning: \n",
      "A value is trying to be set on a copy of a slice from a DataFrame.\n",
      "Try using .loc[row_indexer,col_indexer] = value instead\n",
      "\n",
      "See the caveats in the documentation: https://pandas.pydata.org/pandas-docs/stable/user_guide/indexing.html#returning-a-view-versus-a-copy\n",
      "  filtered_data[\"Ngày(int)\"] = (filtered_data[\"Ngày\"] - start_date).dt.days\n"
     ]
    }
   ],
   "source": [
    "filtered_data[\"Ngày(int)\"] = (filtered_data[\"Ngày\"] - start_date).dt.days"
   ]
  },
  {
   "cell_type": "code",
   "execution_count": 668,
   "id": "79733270",
   "metadata": {},
   "outputs": [
    {
     "data": {
      "text/html": [
       "<div>\n",
       "<style scoped>\n",
       "    .dataframe tbody tr th:only-of-type {\n",
       "        vertical-align: middle;\n",
       "    }\n",
       "\n",
       "    .dataframe tbody tr th {\n",
       "        vertical-align: top;\n",
       "    }\n",
       "\n",
       "    .dataframe thead th {\n",
       "        text-align: right;\n",
       "    }\n",
       "</style>\n",
       "<table border=\"1\" class=\"dataframe\">\n",
       "  <thead>\n",
       "    <tr style=\"text-align: right;\">\n",
       "      <th></th>\n",
       "      <th>Tên_mặt_hàng</th>\n",
       "      <th>Thị_trường</th>\n",
       "      <th>Loại_giá</th>\n",
       "      <th>Đơn_vị_tính</th>\n",
       "      <th>Nguồn</th>\n",
       "      <th>Ngày</th>\n",
       "      <th>Giá</th>\n",
       "      <th>Ngành_hàng</th>\n",
       "      <th>Ngày(int)</th>\n",
       "    </tr>\n",
       "  </thead>\n",
       "  <tbody>\n",
       "    <tr>\n",
       "      <th>4842</th>\n",
       "      <td>OM 5451</td>\n",
       "      <td>Cần Thơ</td>\n",
       "      <td>Thương lái thu mua</td>\n",
       "      <td>Đồng/kg</td>\n",
       "      <td>CTV địa phương</td>\n",
       "      <td>2025-05-19</td>\n",
       "      <td>6000.0</td>\n",
       "      <td>Lua gao</td>\n",
       "      <td>1596</td>\n",
       "    </tr>\n",
       "    <tr>\n",
       "      <th>4847</th>\n",
       "      <td>OM 5451</td>\n",
       "      <td>Sóc Trăng</td>\n",
       "      <td>Thương lái thu mua</td>\n",
       "      <td>Đồng/kg</td>\n",
       "      <td>CTV địa phương</td>\n",
       "      <td>2025-05-19</td>\n",
       "      <td>7125.0</td>\n",
       "      <td>Lua gao</td>\n",
       "      <td>1596</td>\n",
       "    </tr>\n",
       "    <tr>\n",
       "      <th>4856</th>\n",
       "      <td>Gạo NL 25% tấm</td>\n",
       "      <td>Kiên Giang</td>\n",
       "      <td>Thương lái thu mua</td>\n",
       "      <td>Đồng/kg</td>\n",
       "      <td>CTV địa phương</td>\n",
       "      <td>2025-05-16</td>\n",
       "      <td>8460.0</td>\n",
       "      <td>Lua gao</td>\n",
       "      <td>1593</td>\n",
       "    </tr>\n",
       "    <tr>\n",
       "      <th>4860</th>\n",
       "      <td>Gạo XK 5% tấm</td>\n",
       "      <td>Kiên Giang</td>\n",
       "      <td>Thương lái thu mua</td>\n",
       "      <td>Đồng/kg</td>\n",
       "      <td>CTV địa phương</td>\n",
       "      <td>2025-05-16</td>\n",
       "      <td>10070.0</td>\n",
       "      <td>Lua gao</td>\n",
       "      <td>1593</td>\n",
       "    </tr>\n",
       "    <tr>\n",
       "      <th>4865</th>\n",
       "      <td>OM 5451</td>\n",
       "      <td>Kiên Giang</td>\n",
       "      <td>Thương lái thu mua</td>\n",
       "      <td>Đồng/kg</td>\n",
       "      <td>CTV địa phương</td>\n",
       "      <td>2025-05-16</td>\n",
       "      <td>5900.0</td>\n",
       "      <td>Lua gao</td>\n",
       "      <td>1593</td>\n",
       "    </tr>\n",
       "  </tbody>\n",
       "</table>\n",
       "</div>"
      ],
      "text/plain": [
       "        Tên_mặt_hàng  Thị_trường            Loại_giá Đơn_vị_tính  \\\n",
       "4842         OM 5451     Cần Thơ  Thương lái thu mua     Đồng/kg   \n",
       "4847         OM 5451   Sóc Trăng  Thương lái thu mua     Đồng/kg   \n",
       "4856  Gạo NL 25% tấm  Kiên Giang  Thương lái thu mua     Đồng/kg   \n",
       "4860   Gạo XK 5% tấm  Kiên Giang  Thương lái thu mua     Đồng/kg   \n",
       "4865         OM 5451  Kiên Giang  Thương lái thu mua     Đồng/kg   \n",
       "\n",
       "               Nguồn       Ngày      Giá Ngành_hàng  Ngày(int)  \n",
       "4842  CTV địa phương 2025-05-19   6000.0    Lua gao       1596  \n",
       "4847  CTV địa phương 2025-05-19   7125.0    Lua gao       1596  \n",
       "4856  CTV địa phương 2025-05-16   8460.0    Lua gao       1593  \n",
       "4860  CTV địa phương 2025-05-16  10070.0    Lua gao       1593  \n",
       "4865  CTV địa phương 2025-05-16   5900.0    Lua gao       1593  "
      ]
     },
     "execution_count": 668,
     "metadata": {},
     "output_type": "execute_result"
    }
   ],
   "source": [
    "filtered_data.head()"
   ]
  },
  {
   "cell_type": "code",
   "execution_count": 669,
   "id": "f3a54561",
   "metadata": {},
   "outputs": [],
   "source": [
    "weekly_index = pd.date_range(\n",
    "    start=start_date,\n",
    "    end=end_date,\n",
    "    freq=\"W\"\n",
    ")"
   ]
  },
  {
   "cell_type": "code",
   "execution_count": 670,
   "id": "b188ee49",
   "metadata": {},
   "outputs": [],
   "source": [
    "weekly_index = (weekly_index - start_date).days"
   ]
  },
  {
   "cell_type": "markdown",
   "id": "097434f3",
   "metadata": {},
   "source": [
    "## Sử dụng nội suy tuyến tinh để tính các điểm dữ liệu"
   ]
  },
  {
   "cell_type": "code",
   "execution_count": null,
   "id": "88cea31a",
   "metadata": {},
   "outputs": [],
   "source": [
    "import pandas as pd\n",
    "import numpy as np\n",
    "import bisect\n",
    "\n",
    "# Chuẩn bị danh sách để chứa kết quả\n",
    "interpolated_rows = []\n",
    "\n",
    "for item in items:\n",
    "    item_df = filtered_data[filtered_data[\"Tên_mặt_hàng\"] == item]\n",
    "\n",
    "    # Lấy giá trị ngày dưới dạng int (số ngày từ start_date)\n",
    "    date_int = item_df[\"Ngày(int)\"]\n",
    "    \n",
    "    min_item_date = np.min(date_int)\n",
    "    max_item_date = np.max(date_int)\n",
    "\n",
    "    # Tìm chỉ số trong weekly_index tương ứng\n",
    "    min_week_range = bisect.bisect_left(weekly_index, min_item_date)\n",
    "    max_week_range = bisect.bisect_right(weekly_index, max_item_date)\n",
    "\n",
    "    # Các mốc tuần cần lấy\n",
    "    week_item_range = weekly_index[min_week_range: max_week_range]\n",
    "\n",
    "    # Nội suy giá trị\n",
    "    item_interp = np.interp(week_item_range, date_int, item_df[\"Giá\"])\n",
    "\n",
    "    # Với mỗi tuần, tạo một dòng mới giữ lại các thuộc tính khác (dùng mode hoặc first)\n",
    "    for week_day, price in zip(week_item_range, item_interp):\n",
    "        row = {\n",
    "            \"Tên_mặt_hàng\": item,\n",
    "            \"Ngày(int)\": week_day,\n",
    "            \"Giá\": price\n",
    "        }\n",
    "        # Thêm các cột khác nếu có\n",
    "        for col in ['Thị_trường', 'Loại_giá', 'Đơn_vị_tính', 'Nguồn', 'Ngành_hàng']:\n",
    "            if col in item_df.columns:\n",
    "                row[col] = item_df[col].iloc[0]\n",
    "        interpolated_rows.append(row)\n",
    "\n",
    "# Gộp lại thành DataFrame\n",
    "interpolated_df = pd.DataFrame(interpolated_rows)\n",
    "\n",
    "# Nếu muốn, có thể chuyển lại \"Ngày(int)\" → \"Ngày\"\n",
    "interpolated_df[\"Ngày\"] = pd.to_datetime(start_date) + pd.to_timedelta(interpolated_df[\"Ngày(int)\"], unit=\"D\")\n"
   ]
  },
  {
   "cell_type": "code",
   "execution_count": 672,
   "id": "5137b3ff",
   "metadata": {},
   "outputs": [
    {
     "data": {
      "text/plain": [
       "228"
      ]
     },
     "execution_count": 672,
     "metadata": {},
     "output_type": "execute_result"
    }
   ],
   "source": [
    "len(interpolated_df[\"Ngày(int)\"].unique())"
   ]
  },
  {
   "cell_type": "code",
   "execution_count": 673,
   "id": "42cf5c70",
   "metadata": {},
   "outputs": [
    {
     "data": {
      "text/html": [
       "<div>\n",
       "<style scoped>\n",
       "    .dataframe tbody tr th:only-of-type {\n",
       "        vertical-align: middle;\n",
       "    }\n",
       "\n",
       "    .dataframe tbody tr th {\n",
       "        vertical-align: top;\n",
       "    }\n",
       "\n",
       "    .dataframe thead th {\n",
       "        text-align: right;\n",
       "    }\n",
       "</style>\n",
       "<table border=\"1\" class=\"dataframe\">\n",
       "  <thead>\n",
       "    <tr style=\"text-align: right;\">\n",
       "      <th></th>\n",
       "      <th>Tên_mặt_hàng</th>\n",
       "      <th>Ngày(int)</th>\n",
       "      <th>Giá</th>\n",
       "      <th>Ngày</th>\n",
       "    </tr>\n",
       "  </thead>\n",
       "  <tbody>\n",
       "    <tr>\n",
       "      <th>0</th>\n",
       "      <td>OM 5451</td>\n",
       "      <td>1147</td>\n",
       "      <td>8350.0</td>\n",
       "      <td>2024-02-25</td>\n",
       "    </tr>\n",
       "    <tr>\n",
       "      <th>1</th>\n",
       "      <td>OM 5451</td>\n",
       "      <td>1154</td>\n",
       "      <td>8350.0</td>\n",
       "      <td>2024-03-03</td>\n",
       "    </tr>\n",
       "    <tr>\n",
       "      <th>2</th>\n",
       "      <td>OM 5451</td>\n",
       "      <td>1161</td>\n",
       "      <td>8350.0</td>\n",
       "      <td>2024-03-10</td>\n",
       "    </tr>\n",
       "    <tr>\n",
       "      <th>3</th>\n",
       "      <td>OM 5451</td>\n",
       "      <td>1168</td>\n",
       "      <td>8350.0</td>\n",
       "      <td>2024-03-17</td>\n",
       "    </tr>\n",
       "    <tr>\n",
       "      <th>4</th>\n",
       "      <td>OM 5451</td>\n",
       "      <td>1175</td>\n",
       "      <td>8350.0</td>\n",
       "      <td>2024-03-24</td>\n",
       "    </tr>\n",
       "    <tr>\n",
       "      <th>...</th>\n",
       "      <td>...</td>\n",
       "      <td>...</td>\n",
       "      <td>...</td>\n",
       "      <td>...</td>\n",
       "    </tr>\n",
       "    <tr>\n",
       "      <th>10241</th>\n",
       "      <td>Đu đủ ruột đỏ</td>\n",
       "      <td>300</td>\n",
       "      <td>15000.0</td>\n",
       "      <td>2021-10-31</td>\n",
       "    </tr>\n",
       "    <tr>\n",
       "      <th>10242</th>\n",
       "      <td>Đu đủ ruột đỏ</td>\n",
       "      <td>307</td>\n",
       "      <td>15000.0</td>\n",
       "      <td>2021-11-07</td>\n",
       "    </tr>\n",
       "    <tr>\n",
       "      <th>10243</th>\n",
       "      <td>Đu đủ ruột đỏ</td>\n",
       "      <td>314</td>\n",
       "      <td>15000.0</td>\n",
       "      <td>2021-11-14</td>\n",
       "    </tr>\n",
       "    <tr>\n",
       "      <th>10244</th>\n",
       "      <td>Đu đủ ruột đỏ</td>\n",
       "      <td>321</td>\n",
       "      <td>15000.0</td>\n",
       "      <td>2021-11-21</td>\n",
       "    </tr>\n",
       "    <tr>\n",
       "      <th>10245</th>\n",
       "      <td>Đu đủ ruột đỏ</td>\n",
       "      <td>328</td>\n",
       "      <td>15000.0</td>\n",
       "      <td>2021-11-28</td>\n",
       "    </tr>\n",
       "  </tbody>\n",
       "</table>\n",
       "<p>10246 rows × 4 columns</p>\n",
       "</div>"
      ],
      "text/plain": [
       "        Tên_mặt_hàng  Ngày(int)      Giá       Ngày\n",
       "0            OM 5451       1147   8350.0 2024-02-25\n",
       "1            OM 5451       1154   8350.0 2024-03-03\n",
       "2            OM 5451       1161   8350.0 2024-03-10\n",
       "3            OM 5451       1168   8350.0 2024-03-17\n",
       "4            OM 5451       1175   8350.0 2024-03-24\n",
       "...              ...        ...      ...        ...\n",
       "10241  Đu đủ ruột đỏ        300  15000.0 2021-10-31\n",
       "10242  Đu đủ ruột đỏ        307  15000.0 2021-11-07\n",
       "10243  Đu đủ ruột đỏ        314  15000.0 2021-11-14\n",
       "10244  Đu đủ ruột đỏ        321  15000.0 2021-11-21\n",
       "10245  Đu đủ ruột đỏ        328  15000.0 2021-11-28\n",
       "\n",
       "[10246 rows x 4 columns]"
      ]
     },
     "execution_count": 673,
     "metadata": {},
     "output_type": "execute_result"
    }
   ],
   "source": [
    "interpolated_df"
   ]
  },
  {
   "cell_type": "code",
   "execution_count": 676,
   "id": "1ff05880",
   "metadata": {},
   "outputs": [],
   "source": [
    "interpolated_df.to_csv(\"../../data/interpolated.csv\", index=False)"
   ]
  },
  {
   "cell_type": "code",
   "execution_count": null,
   "id": "e861aa6b",
   "metadata": {},
   "outputs": [],
   "source": []
  }
 ],
 "metadata": {
  "kernelspec": {
   "display_name": "project3",
   "language": "python",
   "name": "python3"
  },
  "language_info": {
   "codemirror_mode": {
    "name": "ipython",
    "version": 3
   },
   "file_extension": ".py",
   "mimetype": "text/x-python",
   "name": "python",
   "nbconvert_exporter": "python",
   "pygments_lexer": "ipython3",
   "version": "3.11.11"
  }
 },
 "nbformat": 4,
 "nbformat_minor": 5
}
