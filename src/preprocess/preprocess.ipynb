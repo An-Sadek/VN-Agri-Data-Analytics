{
 "cells": [
  {
   "cell_type": "code",
   "execution_count": 1,
   "id": "fd48576f",
   "metadata": {},
   "outputs": [],
   "source": [
    "import pandas as pd\n",
    "import numpy as np\n",
    "\n",
    "import matplotlib.pyplot as plt\n",
    "import seaborn as sns\n",
    "\n",
    "from dataset import VNAgriDataset\n",
    "\n",
    "from sklearn.preprocessing import LabelEncoder, MinMaxScaler\n",
    "from sklearn.model_selection import train_test_split\n",
    "\n",
    "import pickle\n",
    "import bisect"
   ]
  },
  {
   "cell_type": "code",
   "execution_count": 2,
   "id": "87333252",
   "metadata": {},
   "outputs": [],
   "source": [
    "caphe_df = pd.read_csv(\"../../data/pre_caphe.csv\")\n",
    "luagao_df = pd.read_csv(\"../../data/pre_luagao.csv\")\n",
    "rauqua_df = pd.read_csv(\"../../data/pre_rauqua.csv\")"
   ]
  },
  {
   "cell_type": "code",
   "execution_count": 3,
   "id": "17b95573",
   "metadata": {},
   "outputs": [],
   "source": [
    "nganh_caphe = pd.Series([\"Cà phê\"] * len(caphe_df), name=\"Ngành_hàng\")\n",
    "nganh_luagao = pd.Series([\"Lua gao\"] * len(luagao_df), name=\"Ngành_hàng\")\n",
    "nganh_rauqua = pd.Series([\"Rau quả\"] * len(rauqua_df), name=\"Ngành_hàng\")"
   ]
  },
  {
   "cell_type": "code",
   "execution_count": 4,
   "id": "84ea5fab",
   "metadata": {},
   "outputs": [],
   "source": [
    "caphe_df = pd.concat([caphe_df, nganh_caphe], axis=1)\n",
    "luagao_df = pd.concat([luagao_df, nganh_luagao], axis=1)\n",
    "rauqua_df = pd.concat([rauqua_df, nganh_rauqua], axis=1)"
   ]
  },
  {
   "cell_type": "code",
   "execution_count": 5,
   "id": "661b882a",
   "metadata": {},
   "outputs": [],
   "source": [
    "pre_data = pd.concat([caphe_df, luagao_df, rauqua_df], axis=0, ignore_index=True)"
   ]
  },
  {
   "cell_type": "code",
   "execution_count": 6,
   "id": "c2535460",
   "metadata": {},
   "outputs": [],
   "source": [
    "pre_data.to_csv(\"../../data/pre_data.csv\", index=False)"
   ]
  },
  {
   "cell_type": "code",
   "execution_count": 7,
   "id": "0f7e740d",
   "metadata": {},
   "outputs": [
    {
     "data": {
      "text/plain": [
       "(48736, 9)"
      ]
     },
     "execution_count": 7,
     "metadata": {},
     "output_type": "execute_result"
    }
   ],
   "source": [
    "pre_data.shape"
   ]
  },
  {
   "cell_type": "code",
   "execution_count": 8,
   "id": "bebda221",
   "metadata": {},
   "outputs": [
    {
     "data": {
      "text/html": [
       "<div>\n",
       "<style scoped>\n",
       "    .dataframe tbody tr th:only-of-type {\n",
       "        vertical-align: middle;\n",
       "    }\n",
       "\n",
       "    .dataframe tbody tr th {\n",
       "        vertical-align: top;\n",
       "    }\n",
       "\n",
       "    .dataframe thead th {\n",
       "        text-align: right;\n",
       "    }\n",
       "</style>\n",
       "<table border=\"1\" class=\"dataframe\">\n",
       "  <thead>\n",
       "    <tr style=\"text-align: right;\">\n",
       "      <th></th>\n",
       "      <th>Tên_mặt_hàng</th>\n",
       "      <th>Thị_trường</th>\n",
       "      <th>Loại_giá</th>\n",
       "      <th>Đơn_vị_tính</th>\n",
       "      <th>Loại_tiền</th>\n",
       "      <th>Nguồn</th>\n",
       "      <th>Ngày</th>\n",
       "      <th>Giá</th>\n",
       "      <th>Ngành_hàng</th>\n",
       "    </tr>\n",
       "  </thead>\n",
       "  <tbody>\n",
       "    <tr>\n",
       "      <th>0</th>\n",
       "      <td>Cà phê Robusta nhân xô</td>\n",
       "      <td>Đắk Lắk</td>\n",
       "      <td>Thương lái thu mua</td>\n",
       "      <td>Vnđ/Kg</td>\n",
       "      <td>VNĐ</td>\n",
       "      <td>CTV địa phương</td>\n",
       "      <td>2025-05-09</td>\n",
       "      <td>128233.0</td>\n",
       "      <td>Cà phê</td>\n",
       "    </tr>\n",
       "    <tr>\n",
       "      <th>1</th>\n",
       "      <td>Cà phê Robusta nhân xô</td>\n",
       "      <td>Đắk Nông</td>\n",
       "      <td>Thương lái thu mua</td>\n",
       "      <td>Vnđ/Kg</td>\n",
       "      <td>VNĐ</td>\n",
       "      <td>CTV địa phương</td>\n",
       "      <td>2025-05-09</td>\n",
       "      <td>128350.0</td>\n",
       "      <td>Cà phê</td>\n",
       "    </tr>\n",
       "    <tr>\n",
       "      <th>2</th>\n",
       "      <td>Cà phê Robusta nhân xô</td>\n",
       "      <td>Gia Lai</td>\n",
       "      <td>Thương lái thu mua</td>\n",
       "      <td>Vnđ/Kg</td>\n",
       "      <td>VNĐ</td>\n",
       "      <td>CTV địa phương</td>\n",
       "      <td>2025-05-09</td>\n",
       "      <td>128233.0</td>\n",
       "      <td>Cà phê</td>\n",
       "    </tr>\n",
       "    <tr>\n",
       "      <th>3</th>\n",
       "      <td>Cà phê Robusta nhân xô</td>\n",
       "      <td>Kon Tum</td>\n",
       "      <td>Thương lái thu mua</td>\n",
       "      <td>Vnđ/Kg</td>\n",
       "      <td>VNĐ</td>\n",
       "      <td>CTV địa phương</td>\n",
       "      <td>2025-05-09</td>\n",
       "      <td>128200.0</td>\n",
       "      <td>Cà phê</td>\n",
       "    </tr>\n",
       "    <tr>\n",
       "      <th>4</th>\n",
       "      <td>Cà phê Robusta nhân xô</td>\n",
       "      <td>Lâm Đồng</td>\n",
       "      <td>Thương lái thu mua</td>\n",
       "      <td>Vnđ/Kg</td>\n",
       "      <td>VNĐ</td>\n",
       "      <td>CTV địa phương</td>\n",
       "      <td>2025-05-09</td>\n",
       "      <td>128000.0</td>\n",
       "      <td>Cà phê</td>\n",
       "    </tr>\n",
       "  </tbody>\n",
       "</table>\n",
       "</div>"
      ],
      "text/plain": [
       "             Tên_mặt_hàng Thị_trường            Loại_giá Đơn_vị_tính  \\\n",
       "0  Cà phê Robusta nhân xô    Đắk Lắk  Thương lái thu mua      Vnđ/Kg   \n",
       "1  Cà phê Robusta nhân xô   Đắk Nông  Thương lái thu mua      Vnđ/Kg   \n",
       "2  Cà phê Robusta nhân xô    Gia Lai  Thương lái thu mua      Vnđ/Kg   \n",
       "3  Cà phê Robusta nhân xô    Kon Tum  Thương lái thu mua      Vnđ/Kg   \n",
       "4  Cà phê Robusta nhân xô   Lâm Đồng  Thương lái thu mua      Vnđ/Kg   \n",
       "\n",
       "  Loại_tiền           Nguồn        Ngày       Giá Ngành_hàng  \n",
       "0       VNĐ  CTV địa phương  2025-05-09  128233.0     Cà phê  \n",
       "1       VNĐ  CTV địa phương  2025-05-09  128350.0     Cà phê  \n",
       "2       VNĐ  CTV địa phương  2025-05-09  128233.0     Cà phê  \n",
       "3       VNĐ  CTV địa phương  2025-05-09  128200.0     Cà phê  \n",
       "4       VNĐ  CTV địa phương  2025-05-09  128000.0     Cà phê  "
      ]
     },
     "execution_count": 8,
     "metadata": {},
     "output_type": "execute_result"
    }
   ],
   "source": [
    "pre_data.head()"
   ]
  },
  {
   "cell_type": "markdown",
   "id": "0b216f00",
   "metadata": {},
   "source": [
    "# Kiểm tra cột tên mặt hàng"
   ]
  },
  {
   "cell_type": "code",
   "execution_count": 9,
   "id": "f8a206c2",
   "metadata": {},
   "outputs": [
    {
     "data": {
      "text/plain": [
       "array(['Cà phê Robusta nhân xô', 'Cà phê Arabica nhân xô', 'CLC 4900',\n",
       "       'Jasmine', 'OM 18'], dtype=object)"
      ]
     },
     "execution_count": 9,
     "metadata": {},
     "output_type": "execute_result"
    }
   ],
   "source": [
    "pre_data[\"Tên_mặt_hàng\"].unique()[:5]"
   ]
  },
  {
   "cell_type": "code",
   "execution_count": 10,
   "id": "e40548fd",
   "metadata": {},
   "outputs": [
    {
     "name": "stdout",
     "output_type": "stream",
     "text": [
      "394\n"
     ]
    }
   ],
   "source": [
    "print(len(pre_data[\"Tên_mặt_hàng\"].unique()))"
   ]
  },
  {
   "cell_type": "markdown",
   "id": "d7c10434",
   "metadata": {},
   "source": [
    "## Xoá các mặt hàng có số lượng record ít"
   ]
  },
  {
   "cell_type": "code",
   "execution_count": 11,
   "id": "2914a015",
   "metadata": {},
   "outputs": [],
   "source": [
    "items = pre_data[\"Tên_mặt_hàng\"].unique()\n",
    "avg_n_record = 0.\n",
    "n_items = len(items)\n",
    "\n",
    "for item in items:\n",
    "    n_item = len(pre_data[pre_data[\"Tên_mặt_hàng\"] == item])\n",
    "    avg_n_record += n_item/n_items"
   ]
  },
  {
   "cell_type": "code",
   "execution_count": 12,
   "id": "ffdbf166",
   "metadata": {},
   "outputs": [
    {
     "data": {
      "text/plain": [
       "123.69543147208128"
      ]
     },
     "execution_count": 12,
     "metadata": {},
     "output_type": "execute_result"
    }
   ],
   "source": [
    "avg_n_record"
   ]
  },
  {
   "cell_type": "code",
   "execution_count": 13,
   "id": "d5ecfe2c",
   "metadata": {},
   "outputs": [],
   "source": [
    "pre_data = pre_data.groupby(\"Tên_mặt_hàng\").filter(lambda x: len(x) >= avg_n_record)"
   ]
  },
  {
   "cell_type": "code",
   "execution_count": 14,
   "id": "50e3c3eb",
   "metadata": {},
   "outputs": [
    {
     "data": {
      "text/plain": [
       "117"
      ]
     },
     "execution_count": 14,
     "metadata": {},
     "output_type": "execute_result"
    }
   ],
   "source": [
    "len(pre_data[\"Tên_mặt_hàng\"].unique())"
   ]
  },
  {
   "cell_type": "markdown",
   "id": "485c1364",
   "metadata": {},
   "source": [
    "# Kiểm tra cột thị trường"
   ]
  },
  {
   "cell_type": "code",
   "execution_count": 15,
   "id": "0b7dc659",
   "metadata": {},
   "outputs": [
    {
     "data": {
      "text/plain": [
       "array(['Đắk Lắk', 'Đắk Nông', 'Gia Lai', 'Kon Tum', 'Lâm Đồng',\n",
       "       'Hồ Chí Minh', 'Cần Thơ', 'Sóc Trăng', 'Đồng Tháp', 'Kiên Giang',\n",
       "       'An Giang', 'Tiền Giang', 'Trà Vinh', 'Hậu Giang', 'Thái Bình',\n",
       "       'Hà Nội', 'Bến Tre', 'Cà Mau', 'Long An', 'Vĩnh Long', 'Bạc Liêu',\n",
       "       'Sơn La'], dtype=object)"
      ]
     },
     "execution_count": 15,
     "metadata": {},
     "output_type": "execute_result"
    }
   ],
   "source": [
    "pre_data[\"Thị_trường\"].unique()"
   ]
  },
  {
   "cell_type": "code",
   "execution_count": 16,
   "id": "b5f077e0",
   "metadata": {},
   "outputs": [
    {
     "name": "stdout",
     "output_type": "stream",
     "text": [
      "22\n"
     ]
    }
   ],
   "source": [
    "print(len(pre_data[\"Thị_trường\"].unique()))"
   ]
  },
  {
   "cell_type": "markdown",
   "id": "ba81c4e8",
   "metadata": {},
   "source": [
    "# Kiểm tra cột loại giá"
   ]
  },
  {
   "cell_type": "code",
   "execution_count": 17,
   "id": "09274300",
   "metadata": {},
   "outputs": [
    {
     "data": {
      "text/plain": [
       "array(['Thương lái thu mua', 'Công ty thu mua', 'Đại lý thu mua',\n",
       "       'Thu mua', 'Bán ra', 'Tại chợ', 'Bán lẻ', 'Khác',\n",
       "       'Thu mua tại vườn', 'Bán buôn', 'Vựa thu mua'], dtype=object)"
      ]
     },
     "execution_count": 17,
     "metadata": {},
     "output_type": "execute_result"
    }
   ],
   "source": [
    "pre_data[\"Loại_giá\"].unique()"
   ]
  },
  {
   "cell_type": "code",
   "execution_count": 18,
   "id": "e959b414",
   "metadata": {},
   "outputs": [
    {
     "name": "stdout",
     "output_type": "stream",
     "text": [
      "11\n"
     ]
    }
   ],
   "source": [
    "print(len(pre_data[\"Loại_giá\"].unique()))"
   ]
  },
  {
   "cell_type": "markdown",
   "id": "809e5e66",
   "metadata": {},
   "source": [
    "# Kiểm tra đơn vị tính"
   ]
  },
  {
   "cell_type": "code",
   "execution_count": 19,
   "id": "ac2738d9",
   "metadata": {},
   "outputs": [
    {
     "data": {
      "text/plain": [
       "array(['Vnđ/Kg', 'VNĐ/kg', 'VNĐ/Kg', 'Đồng/kg', 'VNĐ/quả', 'VNĐ/mớ',\n",
       "       'VNĐ/Chục quả', 'VNĐ/củ', 'VNĐ/Quả'], dtype=object)"
      ]
     },
     "execution_count": 19,
     "metadata": {},
     "output_type": "execute_result"
    }
   ],
   "source": [
    "pre_data[\"Đơn_vị_tính\"].unique()"
   ]
  },
  {
   "cell_type": "code",
   "execution_count": 20,
   "id": "b44bad66",
   "metadata": {},
   "outputs": [
    {
     "name": "stdout",
     "output_type": "stream",
     "text": [
      "9\n"
     ]
    }
   ],
   "source": [
    "print(len(pre_data[\"Đơn_vị_tính\"].unique()))"
   ]
  },
  {
   "cell_type": "code",
   "execution_count": 21,
   "id": "03325218",
   "metadata": {},
   "outputs": [],
   "source": [
    "pre_data[\"Đơn_vị_tính\"] = pre_data[\"Đơn_vị_tính\"].apply(\n",
    "    lambda x: \"Đồng/kg\" if x in [\n",
    "        'Vnđ/Kg', 'VNĐ/kg', 'VNĐ/Kg', 'Đồng/kg', 'VNĐ/củ', 'VNĐ/Quả'] else x\n",
    ")"
   ]
  },
  {
   "cell_type": "code",
   "execution_count": 22,
   "id": "213d257b",
   "metadata": {},
   "outputs": [
    {
     "data": {
      "text/plain": [
       "array(['Đồng/kg', 'VNĐ/quả', 'VNĐ/mớ', 'VNĐ/Chục quả'], dtype=object)"
      ]
     },
     "execution_count": 22,
     "metadata": {},
     "output_type": "execute_result"
    }
   ],
   "source": [
    "pre_data[\"Đơn_vị_tính\"].unique()"
   ]
  },
  {
   "cell_type": "markdown",
   "id": "cad6ddb2",
   "metadata": {},
   "source": [
    "# Kiểm tra cột loại tiền"
   ]
  },
  {
   "cell_type": "code",
   "execution_count": 23,
   "id": "ea632305",
   "metadata": {},
   "outputs": [
    {
     "data": {
      "text/plain": [
       "array(['VNĐ'], dtype=object)"
      ]
     },
     "execution_count": 23,
     "metadata": {},
     "output_type": "execute_result"
    }
   ],
   "source": [
    "pre_data[\"Loại_tiền\"].unique()"
   ]
  },
  {
   "cell_type": "code",
   "execution_count": 24,
   "id": "e66774b3",
   "metadata": {},
   "outputs": [],
   "source": [
    "del pre_data[\"Loại_tiền\"]"
   ]
  },
  {
   "cell_type": "code",
   "execution_count": 25,
   "id": "871e961d",
   "metadata": {},
   "outputs": [
    {
     "data": {
      "text/html": [
       "<div>\n",
       "<style scoped>\n",
       "    .dataframe tbody tr th:only-of-type {\n",
       "        vertical-align: middle;\n",
       "    }\n",
       "\n",
       "    .dataframe tbody tr th {\n",
       "        vertical-align: top;\n",
       "    }\n",
       "\n",
       "    .dataframe thead th {\n",
       "        text-align: right;\n",
       "    }\n",
       "</style>\n",
       "<table border=\"1\" class=\"dataframe\">\n",
       "  <thead>\n",
       "    <tr style=\"text-align: right;\">\n",
       "      <th></th>\n",
       "      <th>Tên_mặt_hàng</th>\n",
       "      <th>Thị_trường</th>\n",
       "      <th>Loại_giá</th>\n",
       "      <th>Đơn_vị_tính</th>\n",
       "      <th>Nguồn</th>\n",
       "      <th>Ngày</th>\n",
       "      <th>Giá</th>\n",
       "      <th>Ngành_hàng</th>\n",
       "    </tr>\n",
       "  </thead>\n",
       "  <tbody>\n",
       "    <tr>\n",
       "      <th>0</th>\n",
       "      <td>Cà phê Robusta nhân xô</td>\n",
       "      <td>Đắk Lắk</td>\n",
       "      <td>Thương lái thu mua</td>\n",
       "      <td>Đồng/kg</td>\n",
       "      <td>CTV địa phương</td>\n",
       "      <td>2025-05-09</td>\n",
       "      <td>128233.0</td>\n",
       "      <td>Cà phê</td>\n",
       "    </tr>\n",
       "    <tr>\n",
       "      <th>1</th>\n",
       "      <td>Cà phê Robusta nhân xô</td>\n",
       "      <td>Đắk Nông</td>\n",
       "      <td>Thương lái thu mua</td>\n",
       "      <td>Đồng/kg</td>\n",
       "      <td>CTV địa phương</td>\n",
       "      <td>2025-05-09</td>\n",
       "      <td>128350.0</td>\n",
       "      <td>Cà phê</td>\n",
       "    </tr>\n",
       "    <tr>\n",
       "      <th>2</th>\n",
       "      <td>Cà phê Robusta nhân xô</td>\n",
       "      <td>Gia Lai</td>\n",
       "      <td>Thương lái thu mua</td>\n",
       "      <td>Đồng/kg</td>\n",
       "      <td>CTV địa phương</td>\n",
       "      <td>2025-05-09</td>\n",
       "      <td>128233.0</td>\n",
       "      <td>Cà phê</td>\n",
       "    </tr>\n",
       "    <tr>\n",
       "      <th>3</th>\n",
       "      <td>Cà phê Robusta nhân xô</td>\n",
       "      <td>Kon Tum</td>\n",
       "      <td>Thương lái thu mua</td>\n",
       "      <td>Đồng/kg</td>\n",
       "      <td>CTV địa phương</td>\n",
       "      <td>2025-05-09</td>\n",
       "      <td>128200.0</td>\n",
       "      <td>Cà phê</td>\n",
       "    </tr>\n",
       "    <tr>\n",
       "      <th>4</th>\n",
       "      <td>Cà phê Robusta nhân xô</td>\n",
       "      <td>Lâm Đồng</td>\n",
       "      <td>Thương lái thu mua</td>\n",
       "      <td>Đồng/kg</td>\n",
       "      <td>CTV địa phương</td>\n",
       "      <td>2025-05-09</td>\n",
       "      <td>128000.0</td>\n",
       "      <td>Cà phê</td>\n",
       "    </tr>\n",
       "  </tbody>\n",
       "</table>\n",
       "</div>"
      ],
      "text/plain": [
       "             Tên_mặt_hàng Thị_trường            Loại_giá Đơn_vị_tính  \\\n",
       "0  Cà phê Robusta nhân xô    Đắk Lắk  Thương lái thu mua     Đồng/kg   \n",
       "1  Cà phê Robusta nhân xô   Đắk Nông  Thương lái thu mua     Đồng/kg   \n",
       "2  Cà phê Robusta nhân xô    Gia Lai  Thương lái thu mua     Đồng/kg   \n",
       "3  Cà phê Robusta nhân xô    Kon Tum  Thương lái thu mua     Đồng/kg   \n",
       "4  Cà phê Robusta nhân xô   Lâm Đồng  Thương lái thu mua     Đồng/kg   \n",
       "\n",
       "            Nguồn        Ngày       Giá Ngành_hàng  \n",
       "0  CTV địa phương  2025-05-09  128233.0     Cà phê  \n",
       "1  CTV địa phương  2025-05-09  128350.0     Cà phê  \n",
       "2  CTV địa phương  2025-05-09  128233.0     Cà phê  \n",
       "3  CTV địa phương  2025-05-09  128200.0     Cà phê  \n",
       "4  CTV địa phương  2025-05-09  128000.0     Cà phê  "
      ]
     },
     "execution_count": 25,
     "metadata": {},
     "output_type": "execute_result"
    }
   ],
   "source": [
    "pre_data.head()"
   ]
  },
  {
   "cell_type": "markdown",
   "id": "1b980c34",
   "metadata": {},
   "source": [
    "# Lấy các sản phẩm được cập nhật đến 2025"
   ]
  },
  {
   "cell_type": "code",
   "execution_count": 26,
   "id": "b323dbce",
   "metadata": {},
   "outputs": [],
   "source": [
    "pre_data[\"Ngày\"] = pd.to_datetime(pre_data[\"Ngày\"])"
   ]
  },
  {
   "cell_type": "code",
   "execution_count": 27,
   "id": "3d83d756",
   "metadata": {},
   "outputs": [],
   "source": [
    "items_2025 = pre_data[pre_data[\"Ngày\"].dt.year == 2025][\"Tên_mặt_hàng\"].unique()"
   ]
  },
  {
   "cell_type": "code",
   "execution_count": 28,
   "id": "5bb05965",
   "metadata": {},
   "outputs": [
    {
     "data": {
      "text/plain": [
       "74"
      ]
     },
     "execution_count": 28,
     "metadata": {},
     "output_type": "execute_result"
    }
   ],
   "source": [
    "len(items_2025)"
   ]
  },
  {
   "cell_type": "code",
   "execution_count": 29,
   "id": "f010ff32",
   "metadata": {},
   "outputs": [],
   "source": [
    "filtered_data = pre_data[pre_data[\"Tên_mặt_hàng\"].isin(items_2025)]"
   ]
  },
  {
   "cell_type": "code",
   "execution_count": 30,
   "id": "af33ea4b",
   "metadata": {},
   "outputs": [
    {
     "data": {
      "text/plain": [
       "28726"
      ]
     },
     "execution_count": 30,
     "metadata": {},
     "output_type": "execute_result"
    }
   ],
   "source": [
    "len(filtered_data)"
   ]
  },
  {
   "cell_type": "markdown",
   "id": "63de31d8",
   "metadata": {},
   "source": [
    "# Lập metadata trước khi được chuẩn hoá thời gian và Label Encoder"
   ]
  },
  {
   "cell_type": "code",
   "execution_count": null,
   "id": "61ffa709",
   "metadata": {},
   "outputs": [],
   "source": []
  },
  {
   "cell_type": "markdown",
   "id": "b83e005b",
   "metadata": {},
   "source": [
    "# Chuẩn hoá mốc thời gian"
   ]
  },
  {
   "cell_type": "markdown",
   "id": "4f651cc1",
   "metadata": {},
   "source": [
    "## Thêm 1 cột ngày được chuyển sang kiểu int cho dễ"
   ]
  },
  {
   "cell_type": "code",
   "execution_count": 31,
   "id": "6ae00a78",
   "metadata": {},
   "outputs": [
    {
     "data": {
      "text/plain": [
       "Index(['Tên_mặt_hàng', 'Thị_trường', 'Loại_giá', 'Đơn_vị_tính', 'Nguồn',\n",
       "       'Ngày', 'Giá', 'Ngành_hàng'],\n",
       "      dtype='object')"
      ]
     },
     "execution_count": 31,
     "metadata": {},
     "output_type": "execute_result"
    }
   ],
   "source": [
    "filtered_data.columns"
   ]
  },
  {
   "cell_type": "code",
   "execution_count": 32,
   "id": "9c06a6a9",
   "metadata": {},
   "outputs": [
    {
     "data": {
      "text/html": [
       "<div>\n",
       "<style scoped>\n",
       "    .dataframe tbody tr th:only-of-type {\n",
       "        vertical-align: middle;\n",
       "    }\n",
       "\n",
       "    .dataframe tbody tr th {\n",
       "        vertical-align: top;\n",
       "    }\n",
       "\n",
       "    .dataframe thead th {\n",
       "        text-align: right;\n",
       "    }\n",
       "</style>\n",
       "<table border=\"1\" class=\"dataframe\">\n",
       "  <thead>\n",
       "    <tr style=\"text-align: right;\">\n",
       "      <th></th>\n",
       "      <th>Tên_mặt_hàng</th>\n",
       "      <th>Thị_trường</th>\n",
       "      <th>Loại_giá</th>\n",
       "      <th>Đơn_vị_tính</th>\n",
       "      <th>Nguồn</th>\n",
       "      <th>Ngày</th>\n",
       "      <th>Giá</th>\n",
       "      <th>Ngành_hàng</th>\n",
       "    </tr>\n",
       "  </thead>\n",
       "  <tbody>\n",
       "    <tr>\n",
       "      <th>0</th>\n",
       "      <td>Cà phê Robusta nhân xô</td>\n",
       "      <td>Đắk Lắk</td>\n",
       "      <td>Thương lái thu mua</td>\n",
       "      <td>Đồng/kg</td>\n",
       "      <td>CTV địa phương</td>\n",
       "      <td>2025-05-09</td>\n",
       "      <td>128233.0</td>\n",
       "      <td>Cà phê</td>\n",
       "    </tr>\n",
       "    <tr>\n",
       "      <th>1</th>\n",
       "      <td>Cà phê Robusta nhân xô</td>\n",
       "      <td>Đắk Nông</td>\n",
       "      <td>Thương lái thu mua</td>\n",
       "      <td>Đồng/kg</td>\n",
       "      <td>CTV địa phương</td>\n",
       "      <td>2025-05-09</td>\n",
       "      <td>128350.0</td>\n",
       "      <td>Cà phê</td>\n",
       "    </tr>\n",
       "    <tr>\n",
       "      <th>2</th>\n",
       "      <td>Cà phê Robusta nhân xô</td>\n",
       "      <td>Gia Lai</td>\n",
       "      <td>Thương lái thu mua</td>\n",
       "      <td>Đồng/kg</td>\n",
       "      <td>CTV địa phương</td>\n",
       "      <td>2025-05-09</td>\n",
       "      <td>128233.0</td>\n",
       "      <td>Cà phê</td>\n",
       "    </tr>\n",
       "    <tr>\n",
       "      <th>3</th>\n",
       "      <td>Cà phê Robusta nhân xô</td>\n",
       "      <td>Kon Tum</td>\n",
       "      <td>Thương lái thu mua</td>\n",
       "      <td>Đồng/kg</td>\n",
       "      <td>CTV địa phương</td>\n",
       "      <td>2025-05-09</td>\n",
       "      <td>128200.0</td>\n",
       "      <td>Cà phê</td>\n",
       "    </tr>\n",
       "    <tr>\n",
       "      <th>4</th>\n",
       "      <td>Cà phê Robusta nhân xô</td>\n",
       "      <td>Lâm Đồng</td>\n",
       "      <td>Thương lái thu mua</td>\n",
       "      <td>Đồng/kg</td>\n",
       "      <td>CTV địa phương</td>\n",
       "      <td>2025-05-09</td>\n",
       "      <td>128000.0</td>\n",
       "      <td>Cà phê</td>\n",
       "    </tr>\n",
       "  </tbody>\n",
       "</table>\n",
       "</div>"
      ],
      "text/plain": [
       "             Tên_mặt_hàng Thị_trường            Loại_giá Đơn_vị_tính  \\\n",
       "0  Cà phê Robusta nhân xô    Đắk Lắk  Thương lái thu mua     Đồng/kg   \n",
       "1  Cà phê Robusta nhân xô   Đắk Nông  Thương lái thu mua     Đồng/kg   \n",
       "2  Cà phê Robusta nhân xô    Gia Lai  Thương lái thu mua     Đồng/kg   \n",
       "3  Cà phê Robusta nhân xô    Kon Tum  Thương lái thu mua     Đồng/kg   \n",
       "4  Cà phê Robusta nhân xô   Lâm Đồng  Thương lái thu mua     Đồng/kg   \n",
       "\n",
       "            Nguồn       Ngày       Giá Ngành_hàng  \n",
       "0  CTV địa phương 2025-05-09  128233.0     Cà phê  \n",
       "1  CTV địa phương 2025-05-09  128350.0     Cà phê  \n",
       "2  CTV địa phương 2025-05-09  128233.0     Cà phê  \n",
       "3  CTV địa phương 2025-05-09  128200.0     Cà phê  \n",
       "4  CTV địa phương 2025-05-09  128000.0     Cà phê  "
      ]
     },
     "execution_count": 32,
     "metadata": {},
     "output_type": "execute_result"
    }
   ],
   "source": [
    "filtered_data.head()"
   ]
  },
  {
   "cell_type": "code",
   "execution_count": 33,
   "id": "852ce6a6",
   "metadata": {},
   "outputs": [],
   "source": [
    "items = filtered_data[\"Tên_mặt_hàng\"].unique()"
   ]
  },
  {
   "cell_type": "code",
   "execution_count": 34,
   "id": "f235f027",
   "metadata": {},
   "outputs": [
    {
     "data": {
      "text/plain": [
       "array(['Cà phê Robusta nhân xô', 'Jasmine', 'OM 18', 'OM 5451',\n",
       "       'Đài Thơm 8'], dtype=object)"
      ]
     },
     "execution_count": 34,
     "metadata": {},
     "output_type": "execute_result"
    }
   ],
   "source": [
    "items[:5]"
   ]
  },
  {
   "cell_type": "code",
   "execution_count": 35,
   "id": "3a410526",
   "metadata": {},
   "outputs": [],
   "source": [
    "from datetime import datetime\n",
    "\n",
    "start_date = filtered_data[\"Ngày\"].min()\n",
    "end_date = filtered_data[\"Ngày\"].max()"
   ]
  },
  {
   "cell_type": "code",
   "execution_count": 36,
   "id": "46bc2aea",
   "metadata": {},
   "outputs": [
    {
     "name": "stderr",
     "output_type": "stream",
     "text": [
      "C:\\Users\\DELL\\AppData\\Local\\Temp\\ipykernel_5992\\827847078.py:1: SettingWithCopyWarning: \n",
      "A value is trying to be set on a copy of a slice from a DataFrame.\n",
      "Try using .loc[row_indexer,col_indexer] = value instead\n",
      "\n",
      "See the caveats in the documentation: https://pandas.pydata.org/pandas-docs/stable/user_guide/indexing.html#returning-a-view-versus-a-copy\n",
      "  filtered_data[\"Ngày(int)\"] = (filtered_data[\"Ngày\"] - start_date).dt.days\n"
     ]
    }
   ],
   "source": [
    "filtered_data[\"Ngày(int)\"] = (filtered_data[\"Ngày\"] - start_date).dt.days"
   ]
  },
  {
   "cell_type": "code",
   "execution_count": 37,
   "id": "79733270",
   "metadata": {},
   "outputs": [
    {
     "data": {
      "text/html": [
       "<div>\n",
       "<style scoped>\n",
       "    .dataframe tbody tr th:only-of-type {\n",
       "        vertical-align: middle;\n",
       "    }\n",
       "\n",
       "    .dataframe tbody tr th {\n",
       "        vertical-align: top;\n",
       "    }\n",
       "\n",
       "    .dataframe thead th {\n",
       "        text-align: right;\n",
       "    }\n",
       "</style>\n",
       "<table border=\"1\" class=\"dataframe\">\n",
       "  <thead>\n",
       "    <tr style=\"text-align: right;\">\n",
       "      <th></th>\n",
       "      <th>Tên_mặt_hàng</th>\n",
       "      <th>Thị_trường</th>\n",
       "      <th>Loại_giá</th>\n",
       "      <th>Đơn_vị_tính</th>\n",
       "      <th>Nguồn</th>\n",
       "      <th>Ngày</th>\n",
       "      <th>Giá</th>\n",
       "      <th>Ngành_hàng</th>\n",
       "      <th>Ngày(int)</th>\n",
       "    </tr>\n",
       "  </thead>\n",
       "  <tbody>\n",
       "    <tr>\n",
       "      <th>0</th>\n",
       "      <td>Cà phê Robusta nhân xô</td>\n",
       "      <td>Đắk Lắk</td>\n",
       "      <td>Thương lái thu mua</td>\n",
       "      <td>Đồng/kg</td>\n",
       "      <td>CTV địa phương</td>\n",
       "      <td>2025-05-09</td>\n",
       "      <td>128233.0</td>\n",
       "      <td>Cà phê</td>\n",
       "      <td>1955</td>\n",
       "    </tr>\n",
       "    <tr>\n",
       "      <th>1</th>\n",
       "      <td>Cà phê Robusta nhân xô</td>\n",
       "      <td>Đắk Nông</td>\n",
       "      <td>Thương lái thu mua</td>\n",
       "      <td>Đồng/kg</td>\n",
       "      <td>CTV địa phương</td>\n",
       "      <td>2025-05-09</td>\n",
       "      <td>128350.0</td>\n",
       "      <td>Cà phê</td>\n",
       "      <td>1955</td>\n",
       "    </tr>\n",
       "    <tr>\n",
       "      <th>2</th>\n",
       "      <td>Cà phê Robusta nhân xô</td>\n",
       "      <td>Gia Lai</td>\n",
       "      <td>Thương lái thu mua</td>\n",
       "      <td>Đồng/kg</td>\n",
       "      <td>CTV địa phương</td>\n",
       "      <td>2025-05-09</td>\n",
       "      <td>128233.0</td>\n",
       "      <td>Cà phê</td>\n",
       "      <td>1955</td>\n",
       "    </tr>\n",
       "    <tr>\n",
       "      <th>3</th>\n",
       "      <td>Cà phê Robusta nhân xô</td>\n",
       "      <td>Kon Tum</td>\n",
       "      <td>Thương lái thu mua</td>\n",
       "      <td>Đồng/kg</td>\n",
       "      <td>CTV địa phương</td>\n",
       "      <td>2025-05-09</td>\n",
       "      <td>128200.0</td>\n",
       "      <td>Cà phê</td>\n",
       "      <td>1955</td>\n",
       "    </tr>\n",
       "    <tr>\n",
       "      <th>4</th>\n",
       "      <td>Cà phê Robusta nhân xô</td>\n",
       "      <td>Lâm Đồng</td>\n",
       "      <td>Thương lái thu mua</td>\n",
       "      <td>Đồng/kg</td>\n",
       "      <td>CTV địa phương</td>\n",
       "      <td>2025-05-09</td>\n",
       "      <td>128000.0</td>\n",
       "      <td>Cà phê</td>\n",
       "      <td>1955</td>\n",
       "    </tr>\n",
       "  </tbody>\n",
       "</table>\n",
       "</div>"
      ],
      "text/plain": [
       "             Tên_mặt_hàng Thị_trường            Loại_giá Đơn_vị_tính  \\\n",
       "0  Cà phê Robusta nhân xô    Đắk Lắk  Thương lái thu mua     Đồng/kg   \n",
       "1  Cà phê Robusta nhân xô   Đắk Nông  Thương lái thu mua     Đồng/kg   \n",
       "2  Cà phê Robusta nhân xô    Gia Lai  Thương lái thu mua     Đồng/kg   \n",
       "3  Cà phê Robusta nhân xô    Kon Tum  Thương lái thu mua     Đồng/kg   \n",
       "4  Cà phê Robusta nhân xô   Lâm Đồng  Thương lái thu mua     Đồng/kg   \n",
       "\n",
       "            Nguồn       Ngày       Giá Ngành_hàng  Ngày(int)  \n",
       "0  CTV địa phương 2025-05-09  128233.0     Cà phê       1955  \n",
       "1  CTV địa phương 2025-05-09  128350.0     Cà phê       1955  \n",
       "2  CTV địa phương 2025-05-09  128233.0     Cà phê       1955  \n",
       "3  CTV địa phương 2025-05-09  128200.0     Cà phê       1955  \n",
       "4  CTV địa phương 2025-05-09  128000.0     Cà phê       1955  "
      ]
     },
     "execution_count": 37,
     "metadata": {},
     "output_type": "execute_result"
    }
   ],
   "source": [
    "filtered_data.head()"
   ]
  },
  {
   "cell_type": "code",
   "execution_count": 38,
   "id": "f3a54561",
   "metadata": {},
   "outputs": [],
   "source": [
    "weekly_index = pd.date_range(\n",
    "    start=start_date,\n",
    "    end=end_date,\n",
    "    freq=\"W\"\n",
    ")"
   ]
  },
  {
   "cell_type": "code",
   "execution_count": 39,
   "id": "b188ee49",
   "metadata": {},
   "outputs": [],
   "source": [
    "weekly_index = (weekly_index - start_date).days"
   ]
  },
  {
   "cell_type": "markdown",
   "id": "097434f3",
   "metadata": {},
   "source": [
    "## Sử dụng nội suy tuyến tinh để tính các điểm dữ liệu"
   ]
  },
  {
   "cell_type": "code",
   "execution_count": null,
   "id": "88cea31a",
   "metadata": {},
   "outputs": [],
   "source": [
    "import pandas as pd\n",
    "import numpy as np\n",
    "import bisect\n",
    "\n",
    "# Chuẩn bị danh sách để chứa kết quả\n",
    "interpolated_rows = []\n",
    "\n",
    "for item in items:\n",
    "    item_df = filtered_data[filtered_data[\"Tên_mặt_hàng\"] == item]\n",
    "\n",
    "    # Lấy giá trị ngày dưới dạng int (số ngày từ start_date)\n",
    "    date_int = item_df[\"Ngày(int)\"]\n",
    "    \n",
    "    min_item_date = np.min(date_int)\n",
    "    max_item_date = np.max(date_int)\n",
    "\n",
    "    # Tìm chỉ số trong weekly_index tương ứng\n",
    "    min_week_range = bisect.bisect_left(weekly_index, min_item_date)\n",
    "    max_week_range = bisect.bisect_right(weekly_index, max_item_date)\n",
    "\n",
    "    # Các mốc tuần cần lấy\n",
    "    week_item_range = weekly_index[min_week_range: max_week_range]\n",
    "\n",
    "    # Nội suy giá trị\n",
    "    item_interp = np.interp(week_item_range, date_int, item_df[\"Giá\"])\n",
    "\n",
    "    # Với mỗi tuần, tạo một dòng mới giữ lại các thuộc tính khác (dùng mode hoặc first)\n",
    "    for week_day, price in zip(week_item_range, item_interp):\n",
    "        row = {\n",
    "            \"Tên_mặt_hàng\": item,\n",
    "            \"Ngày(int)\": week_day,\n",
    "            \"Giá\": price\n",
    "        }\n",
    "        # Thêm các cột khác nếu có\n",
    "        for col in ['Thị_trường', 'Loại_giá', 'Đơn_vị_tính', 'Nguồn', 'Ngành_hàng']:\n",
    "            if col in item_df.columns:\n",
    "                row[col] = item_df[col].iloc[0]\n",
    "        interpolated_rows.append(row)\n",
    "\n",
    "# Gộp lại thành DataFrame\n",
    "interpolated_df = pd.DataFrame(interpolated_rows)\n",
    "\n",
    "# Nếu muốn, có thể chuyển lại \"Ngày(int)\" → \"Ngày\"\n",
    "interpolated_df[\"Ngày\"] = pd.to_datetime(start_date) + pd.to_timedelta(interpolated_df[\"Ngày(int)\"], unit=\"D\")\n"
   ]
  },
  {
   "cell_type": "code",
   "execution_count": 49,
   "id": "5137b3ff",
   "metadata": {},
   "outputs": [
    {
     "data": {
      "text/plain": [
       "281"
      ]
     },
     "execution_count": 49,
     "metadata": {},
     "output_type": "execute_result"
    }
   ],
   "source": [
    "len(interpolated_df[\"Ngày(int)\"].unique())"
   ]
  },
  {
   "cell_type": "code",
   "execution_count": null,
   "id": "42cf5c70",
   "metadata": {},
   "outputs": [],
   "source": []
  }
 ],
 "metadata": {
  "kernelspec": {
   "display_name": "project3",
   "language": "python",
   "name": "python3"
  },
  "language_info": {
   "codemirror_mode": {
    "name": "ipython",
    "version": 3
   },
   "file_extension": ".py",
   "mimetype": "text/x-python",
   "name": "python",
   "nbconvert_exporter": "python",
   "pygments_lexer": "ipython3",
   "version": "3.11.11"
  }
 },
 "nbformat": 4,
 "nbformat_minor": 5
}
