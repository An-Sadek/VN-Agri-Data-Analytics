{
 "cells": [
  {
   "cell_type": "code",
   "execution_count": null,
   "id": "d102df47",
   "metadata": {},
   "outputs": [],
   "source": [
    "import pandas as pd\n",
    "import numpy as np\n",
    "\n",
    "import pickle\n",
    "from statsmodels.tsa.stattools import adfuller\n",
    "from statsmodels.tsa.api import VAR\n",
    "\n",
    "from sklearn.model_selection import train_test_split"
   ]
  },
  {
   "cell_type": "code",
   "execution_count": 42,
   "id": "838d9d9e",
   "metadata": {},
   "outputs": [],
   "source": [
    "df = pd.read_csv(\"../../data/interpolated.csv\")"
   ]
  },
  {
   "cell_type": "code",
   "execution_count": 43,
   "id": "fd20269f",
   "metadata": {},
   "outputs": [
    {
     "data": {
      "text/html": [
       "<div>\n",
       "<style scoped>\n",
       "    .dataframe tbody tr th:only-of-type {\n",
       "        vertical-align: middle;\n",
       "    }\n",
       "\n",
       "    .dataframe tbody tr th {\n",
       "        vertical-align: top;\n",
       "    }\n",
       "\n",
       "    .dataframe thead th {\n",
       "        text-align: right;\n",
       "    }\n",
       "</style>\n",
       "<table border=\"1\" class=\"dataframe\">\n",
       "  <thead>\n",
       "    <tr style=\"text-align: right;\">\n",
       "      <th></th>\n",
       "      <th>Tên_mặt_hàng</th>\n",
       "      <th>Ngày(int)</th>\n",
       "      <th>Giá</th>\n",
       "      <th>Ngày</th>\n",
       "    </tr>\n",
       "  </thead>\n",
       "  <tbody>\n",
       "    <tr>\n",
       "      <th>0</th>\n",
       "      <td>OM 5451</td>\n",
       "      <td>1147</td>\n",
       "      <td>8350.0</td>\n",
       "      <td>2024-02-25</td>\n",
       "    </tr>\n",
       "    <tr>\n",
       "      <th>1</th>\n",
       "      <td>OM 5451</td>\n",
       "      <td>1154</td>\n",
       "      <td>8350.0</td>\n",
       "      <td>2024-03-03</td>\n",
       "    </tr>\n",
       "    <tr>\n",
       "      <th>2</th>\n",
       "      <td>OM 5451</td>\n",
       "      <td>1161</td>\n",
       "      <td>8350.0</td>\n",
       "      <td>2024-03-10</td>\n",
       "    </tr>\n",
       "    <tr>\n",
       "      <th>3</th>\n",
       "      <td>OM 5451</td>\n",
       "      <td>1168</td>\n",
       "      <td>8350.0</td>\n",
       "      <td>2024-03-17</td>\n",
       "    </tr>\n",
       "    <tr>\n",
       "      <th>4</th>\n",
       "      <td>OM 5451</td>\n",
       "      <td>1175</td>\n",
       "      <td>8350.0</td>\n",
       "      <td>2024-03-24</td>\n",
       "    </tr>\n",
       "  </tbody>\n",
       "</table>\n",
       "</div>"
      ],
      "text/plain": [
       "  Tên_mặt_hàng  Ngày(int)     Giá        Ngày\n",
       "0      OM 5451       1147  8350.0  2024-02-25\n",
       "1      OM 5451       1154  8350.0  2024-03-03\n",
       "2      OM 5451       1161  8350.0  2024-03-10\n",
       "3      OM 5451       1168  8350.0  2024-03-17\n",
       "4      OM 5451       1175  8350.0  2024-03-24"
      ]
     },
     "execution_count": 43,
     "metadata": {},
     "output_type": "execute_result"
    }
   ],
   "source": [
    "df.head()"
   ]
  },
  {
   "cell_type": "code",
   "execution_count": 44,
   "id": "203e4098",
   "metadata": {},
   "outputs": [
    {
     "data": {
      "text/plain": [
       "(10246, 4)"
      ]
     },
     "execution_count": 44,
     "metadata": {},
     "output_type": "execute_result"
    }
   ],
   "source": [
    "df.shape"
   ]
  },
  {
   "cell_type": "markdown",
   "id": "ac501e85",
   "metadata": {},
   "source": [
    "# Chia dữ liệu"
   ]
  },
  {
   "cell_type": "code",
   "execution_count": 47,
   "id": "809a31fb",
   "metadata": {},
   "outputs": [],
   "source": [
    "x_cols = [x for x in df.columns if x != \"Giá\"]"
   ]
  },
  {
   "cell_type": "code",
   "execution_count": 49,
   "id": "d910f49f",
   "metadata": {},
   "outputs": [],
   "source": [
    "X_train, X_test, y_train, y_test = train_test_split(\n",
    "    df[x_cols],\n",
    "    df[\"Giá\"],\n",
    "    stratify=df[\"Tên_mặt_hàng\"],\n",
    "    shuffle=True,\n",
    "    random_state=42\n",
    ")"
   ]
  },
  {
   "cell_type": "markdown",
   "id": "3bf52e9a",
   "metadata": {},
   "source": [
    "# Train từng mô hình"
   ]
  },
  {
   "cell_type": "code",
   "execution_count": 50,
   "id": "856a81bc",
   "metadata": {},
   "outputs": [],
   "source": [
    "items = df[\"Tên_mặt_hàng\"].unique()"
   ]
  },
  {
   "cell_type": "code",
   "execution_count": null,
   "id": "504ab5d0",
   "metadata": {},
   "outputs": [],
   "source": [
    "for item in items:\n",
    "    price = y\n",
    "    "
   ]
  }
 ],
 "metadata": {
  "kernelspec": {
   "display_name": "project3",
   "language": "python",
   "name": "python3"
  },
  "language_info": {
   "codemirror_mode": {
    "name": "ipython",
    "version": 3
   },
   "file_extension": ".py",
   "mimetype": "text/x-python",
   "name": "python",
   "nbconvert_exporter": "python",
   "pygments_lexer": "ipython3",
   "version": "3.11.11"
  }
 },
 "nbformat": 4,
 "nbformat_minor": 5
}
