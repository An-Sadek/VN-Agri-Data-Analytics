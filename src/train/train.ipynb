{
 "cells": [
  {
   "cell_type": "code",
   "execution_count": 16,
   "id": "d102df47",
   "metadata": {},
   "outputs": [],
   "source": [
    "import pandas as pd\n",
    "import numpy as np\n",
    "\n",
    "import pickle"
   ]
  },
  {
   "cell_type": "code",
   "execution_count": 13,
   "id": "838d9d9e",
   "metadata": {},
   "outputs": [],
   "source": [
    "df = pd.read_csv(\"../../data/pre_all.csv\")"
   ]
  },
  {
   "cell_type": "code",
   "execution_count": 14,
   "id": "fd20269f",
   "metadata": {},
   "outputs": [
    {
     "data": {
      "text/html": [
       "<div>\n",
       "<style scoped>\n",
       "    .dataframe tbody tr th:only-of-type {\n",
       "        vertical-align: middle;\n",
       "    }\n",
       "\n",
       "    .dataframe tbody tr th {\n",
       "        vertical-align: top;\n",
       "    }\n",
       "\n",
       "    .dataframe thead th {\n",
       "        text-align: right;\n",
       "    }\n",
       "</style>\n",
       "<table border=\"1\" class=\"dataframe\">\n",
       "  <thead>\n",
       "    <tr style=\"text-align: right;\">\n",
       "      <th></th>\n",
       "      <th>Tên_mặt_hàng</th>\n",
       "      <th>Thị_trường</th>\n",
       "      <th>Loại_giá</th>\n",
       "      <th>Đơn_vị_tính</th>\n",
       "      <th>Nguồn</th>\n",
       "      <th>Ngày</th>\n",
       "      <th>Giá</th>\n",
       "      <th>Ngành_hàng</th>\n",
       "    </tr>\n",
       "  </thead>\n",
       "  <tbody>\n",
       "    <tr>\n",
       "      <th>0</th>\n",
       "      <td>13</td>\n",
       "      <td>18</td>\n",
       "      <td>7</td>\n",
       "      <td>3</td>\n",
       "      <td>1</td>\n",
       "      <td>2025-05-09</td>\n",
       "      <td>128233.0</td>\n",
       "      <td>0</td>\n",
       "    </tr>\n",
       "    <tr>\n",
       "      <th>1</th>\n",
       "      <td>13</td>\n",
       "      <td>19</td>\n",
       "      <td>7</td>\n",
       "      <td>3</td>\n",
       "      <td>1</td>\n",
       "      <td>2025-05-09</td>\n",
       "      <td>128350.0</td>\n",
       "      <td>0</td>\n",
       "    </tr>\n",
       "    <tr>\n",
       "      <th>2</th>\n",
       "      <td>13</td>\n",
       "      <td>4</td>\n",
       "      <td>7</td>\n",
       "      <td>3</td>\n",
       "      <td>1</td>\n",
       "      <td>2025-05-09</td>\n",
       "      <td>128233.0</td>\n",
       "      <td>0</td>\n",
       "    </tr>\n",
       "    <tr>\n",
       "      <th>3</th>\n",
       "      <td>13</td>\n",
       "      <td>9</td>\n",
       "      <td>7</td>\n",
       "      <td>3</td>\n",
       "      <td>1</td>\n",
       "      <td>2025-05-09</td>\n",
       "      <td>128200.0</td>\n",
       "      <td>0</td>\n",
       "    </tr>\n",
       "    <tr>\n",
       "      <th>4</th>\n",
       "      <td>13</td>\n",
       "      <td>11</td>\n",
       "      <td>7</td>\n",
       "      <td>3</td>\n",
       "      <td>1</td>\n",
       "      <td>2025-05-09</td>\n",
       "      <td>128000.0</td>\n",
       "      <td>0</td>\n",
       "    </tr>\n",
       "  </tbody>\n",
       "</table>\n",
       "</div>"
      ],
      "text/plain": [
       "   Tên_mặt_hàng  Thị_trường  Loại_giá  Đơn_vị_tính  Nguồn        Ngày  \\\n",
       "0            13          18         7            3      1  2025-05-09   \n",
       "1            13          19         7            3      1  2025-05-09   \n",
       "2            13           4         7            3      1  2025-05-09   \n",
       "3            13           9         7            3      1  2025-05-09   \n",
       "4            13          11         7            3      1  2025-05-09   \n",
       "\n",
       "        Giá  Ngành_hàng  \n",
       "0  128233.0           0  \n",
       "1  128350.0           0  \n",
       "2  128233.0           0  \n",
       "3  128200.0           0  \n",
       "4  128000.0           0  "
      ]
     },
     "execution_count": 14,
     "metadata": {},
     "output_type": "execute_result"
    }
   ],
   "source": [
    "df.head()"
   ]
  },
  {
   "cell_type": "code",
   "execution_count": 15,
   "id": "203e4098",
   "metadata": {},
   "outputs": [
    {
     "data": {
      "text/plain": [
       "(28726, 8)"
      ]
     },
     "execution_count": 15,
     "metadata": {},
     "output_type": "execute_result"
    }
   ],
   "source": [
    "df.shape"
   ]
  },
  {
   "cell_type": "code",
   "execution_count": 22,
   "id": "e0d9062d",
   "metadata": {},
   "outputs": [],
   "source": [
    "with open(\"lbl_encoder/Thị_trường.pkl\", \"rb\") as file:\n",
    "    items = pickle.load(file)"
   ]
  },
  {
   "cell_type": "code",
   "execution_count": 23,
   "id": "c8af346f",
   "metadata": {},
   "outputs": [
    {
     "data": {
      "text/plain": [
       "array(['Cà phê', 'Lua gao', 'Rau quả', nan], dtype=object)"
      ]
     },
     "execution_count": 23,
     "metadata": {},
     "output_type": "execute_result"
    }
   ],
   "source": [
    "items.classes_"
   ]
  },
  {
   "cell_type": "markdown",
   "id": "3bf52e9a",
   "metadata": {},
   "source": [
    "# Train từng mô hình"
   ]
  },
  {
   "cell_type": "code",
   "execution_count": null,
   "id": "e232d161",
   "metadata": {},
   "outputs": [],
   "source": []
  }
 ],
 "metadata": {
  "kernelspec": {
   "display_name": "project3",
   "language": "python",
   "name": "python3"
  },
  "language_info": {
   "codemirror_mode": {
    "name": "ipython",
    "version": 3
   },
   "file_extension": ".py",
   "mimetype": "text/x-python",
   "name": "python",
   "nbconvert_exporter": "python",
   "pygments_lexer": "ipython3",
   "version": "3.11.11"
  }
 },
 "nbformat": 4,
 "nbformat_minor": 5
}
